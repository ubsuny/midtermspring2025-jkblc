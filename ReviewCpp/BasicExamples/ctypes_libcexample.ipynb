{
 "cells": [
  {
   "cell_type": "markdown",
   "id": "2bc19d33-18d0-42d6-9d33-6f4c826a7957",
   "metadata": {},
   "source": [
    "# Calling the C standard library from Python\n",
    "\n",
    "(Tim Thomay, 2021, [CC BY 4.0 license](https://creativecommons.org/licenses/by/4.0/))\n",
    "\n",
    "With ctypes you can also call the standard c library:"
   ]
  },
  {
   "cell_type": "code",
   "execution_count": 2,
   "id": "2a5e34c6-d761-4dd1-94d1-4535eb066367",
   "metadata": {},
   "outputs": [],
   "source": [
    "import sys, platform\n",
    "import ctypes, ctypes.util"
   ]
  },
  {
   "cell_type": "markdown",
   "id": "0befa6c5-1c44-4399-9d72-759faf8062ee",
   "metadata": {},
   "source": [
    "If we don't know what the library is called ctypes comes with a handy util that helps us finding it:"
   ]
  },
  {
   "cell_type": "code",
   "execution_count": 7,
   "id": "206918ff-b57e-497d-a8a9-eab77f3df9c1",
   "metadata": {},
   "outputs": [],
   "source": [
    "path_libc = ctypes.util.find_library(\"c\")"
   ]
  },
  {
   "cell_type": "markdown",
   "id": "c547ff98-0da1-4754-9295-cc5e9608312e",
   "metadata": {},
   "source": [
    "With the nice try syntax from python we can make sure any problem will be caught:"
   ]
  },
  {
   "cell_type": "code",
   "execution_count": 8,
   "id": "3ced1043-7dc7-4a04-8bbe-08b5ff530889",
   "metadata": {},
   "outputs": [
    {
     "name": "stdout",
     "output_type": "stream",
     "text": [
      "Succesfully loaded the system C library from \"libc.so.6\"\n"
     ]
    }
   ],
   "source": [
    "try:\n",
    "    libc = ctypes.CDLL(path_libc)\n",
    "except OSError:\n",
    "    print(\"Unable to load the system C library\")\n",
    "    sys.exit()\n",
    "print(f'Succesfully loaded the system C library from \"{path_libc}\"')"
   ]
  },
  {
   "cell_type": "markdown",
   "id": "343e7757-f630-4e90-80c7-914c27946f40",
   "metadata": {},
   "source": [
    "If we call now eg printf the. output is not as expected:"
   ]
  },
  {
   "cell_type": "code",
   "execution_count": 14,
   "id": "0f7a3c8b-bfcd-43d1-8758-a7a61c2cd9f1",
   "metadata": {},
   "outputs": [
    {
     "data": {
      "text/plain": [
       "1"
      ]
     },
     "execution_count": 14,
     "metadata": {},
     "output_type": "execute_result"
    }
   ],
   "source": [
    "libc.printf(\"Hello World\")"
   ]
  },
  {
   "cell_type": "markdown",
   "id": "9322aadc-4c3f-4e0e-89d3-97a44402a6c6",
   "metadata": {},
   "source": [
    "If we check the source code of printf:\n",
    "(http://sourceware.org/git/?p=glibc.git;a=blob;f=stdio-common/printf.c;h=4c8f3a2a0c38ab27a2eed4d2ff3b804980aa8f9f;hb=HEAD)\n",
    "\n",
    "We notice that printf prints to standard out so we have to call it from the commandline:"
   ]
  },
  {
   "cell_type": "code",
   "execution_count": 18,
   "id": "f0c9e2cc-22c3-4771-9d0b-0ffcdeddb8fa",
   "metadata": {},
   "outputs": [
    {
     "name": "stdout",
     "output_type": "stream",
     "text": [
      "import sys, platform\n",
      "import ctypes, ctypes.util\n",
      "\n",
      "path_libc = ctypes.util.find_library(\"c\")\n",
      "\n",
      "try:\n",
      "    libc = ctypes.CDLL(path_libc)\n",
      "except OSError:\n",
      "    print(\"Unable to load the system C library\")\n",
      "    sys.exit()\n",
      "print(f'Succesfully loaded the system C library from \"{path_libc}\"')\n",
      "\n",
      "libc.printf(b\"Hello World\")"
     ]
    }
   ],
   "source": [
    "!cat libcexample.py"
   ]
  },
  {
   "cell_type": "code",
   "execution_count": 19,
   "id": "bc555a00-0464-44dc-8a68-1ee60a34cc17",
   "metadata": {},
   "outputs": [
    {
     "name": "stdout",
     "output_type": "stream",
     "text": [
      "Succesfully loaded the system C library from \"libc.so.6\"\n",
      "Hello World"
     ]
    }
   ],
   "source": [
    "!python libcexample.py"
   ]
  }
 ],
 "metadata": {
  "kernelspec": {
   "display_name": "Python 3 (ipykernel)",
   "language": "python",
   "name": "python3"
  },
  "language_info": {
   "codemirror_mode": {
    "name": "ipython",
    "version": 3
   },
   "file_extension": ".py",
   "mimetype": "text/x-python",
   "name": "python",
   "nbconvert_exporter": "python",
   "pygments_lexer": "ipython3",
   "version": "3.9.5"
  }
 },
 "nbformat": 4,
 "nbformat_minor": 5
}
