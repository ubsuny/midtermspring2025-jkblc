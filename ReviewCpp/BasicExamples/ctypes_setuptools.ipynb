{
 "cells": [
  {
   "cell_type": "markdown",
   "id": "096b63b1-7ab1-4b92-8745-0254329dc3cd",
   "metadata": {},
   "source": [
    "# Using c++ libraries using ctypes and setuptools\n",
    "\n",
    "\n",
    "(Tim Thomay, 2021, [CC BY 4.0 license](https://creativecommons.org/licenses/by/4.0/))\n",
    "\n",
    "Compiling by hand is cumbersome and so we can use python setup tools to help us.\n",
    "\n",
    "Create a file setup.py with the following content"
   ]
  },
  {
   "cell_type": "code",
   "execution_count": 4,
   "id": "3bbe8d9b-c1fd-4df1-a46f-aad82914b492",
   "metadata": {},
   "outputs": [
    {
     "name": "stdout",
     "output_type": "stream",
     "text": [
      "from setuptools import setup, Extension\n",
      "\n",
      "# Compile *addmodule.cpp* into a shared library \n",
      "setup(\n",
      "    #...\n",
      "    ext_modules=[Extension('addmodule', ['addmodule.cpp'],),],\n",
      ")"
     ]
    }
   ],
   "source": [
    "!cat setup.py"
   ]
  },
  {
   "cell_type": "markdown",
   "id": "3809ddef-662b-40e1-88ba-f7fd14ec6919",
   "metadata": {},
   "source": [
    "---\n",
    "this allows us to cut short the whole compiling process to just calling:"
   ]
  },
  {
   "cell_type": "code",
   "execution_count": 5,
   "id": "b40795e7-8eea-49a1-a41c-9e118e8d214e",
   "metadata": {},
   "outputs": [
    {
     "name": "stdout",
     "output_type": "stream",
     "text": [
      "running build\n",
      "running build_ext\n"
     ]
    }
   ],
   "source": [
    "!python setup.py build"
   ]
  },
  {
   "cell_type": "markdown",
   "id": "62779ec2-9784-4800-b0c5-bff3cce6211b",
   "metadata": {},
   "source": [
    "---\n",
    "This generates a build directory with our shared library:"
   ]
  },
  {
   "cell_type": "code",
   "execution_count": 8,
   "id": "2001c9b9-23fb-41fe-88fe-fcb6ca2f6da0",
   "metadata": {},
   "outputs": [
    {
     "name": "stdout",
     "output_type": "stream",
     "text": [
      "total 16K\n",
      "drwxr-xr-x 3 compphys compphys  96 Oct 20 17:47 .\n",
      "drwxr-xr-x 4 compphys compphys 128 Oct 20 17:47 ..\n",
      "-rwxr-xr-x 1 compphys compphys 16K Oct 20 17:47 addmodule.cpython-39-x86_64-linux-gnu.so\n"
     ]
    }
   ],
   "source": [
    "!ls -lah build/lib.linux-x86_64-3.9"
   ]
  },
  {
   "cell_type": "markdown",
   "id": "578e9426-5722-4f4b-b6ca-a6d9e8f17d3f",
   "metadata": {},
   "source": [
    "---\n",
    "now we can import it using ctypes as before"
   ]
  },
  {
   "cell_type": "code",
   "execution_count": 1,
   "id": "d9c2b4b1-75d3-455d-8beb-f14d3677516c",
   "metadata": {},
   "outputs": [],
   "source": [
    "import ctypes\n",
    "import numpy as np"
   ]
  },
  {
   "cell_type": "code",
   "execution_count": 9,
   "id": "685804b4-eb80-4e68-a154-8e7c2bcb1394",
   "metadata": {},
   "outputs": [],
   "source": [
    "cadd = ctypes.cdll.LoadLibrary(\"./build/lib.linux-x86_64-3.9/addmodule.cpython-39-x86_64-linux-gnu.so\")"
   ]
  },
  {
   "cell_type": "markdown",
   "id": "a140b9b9-1329-4408-bc1f-ebfb7b0757cc",
   "metadata": {},
   "source": [
    "### Result and argument data types\n",
    "\n",
    "It is handy to define the data types for our c function so we don't have to take care of it every time we call it"
   ]
  },
  {
   "cell_type": "code",
   "execution_count": 12,
   "id": "bfed8ece-f58d-4894-948c-5a41fa6c0f27",
   "metadata": {},
   "outputs": [],
   "source": [
    "cadd.Add.restype = ctypes.c_int\n",
    "cadd.Add.argtypes = [ctypes.c_int, ctypes.c_int]"
   ]
  },
  {
   "cell_type": "code",
   "execution_count": 13,
   "id": "a9558cfc-5b86-4c8c-ab4d-07b065c880f3",
   "metadata": {},
   "outputs": [
    {
     "name": "stdout",
     "output_type": "stream",
     "text": [
      "sum: 20\n"
     ]
    }
   ],
   "source": [
    "result = cadd.Add(10, 10)\n",
    "\n",
    "print('sum: {}'.format(result))"
   ]
  },
  {
   "cell_type": "markdown",
   "id": "cb9c8baf-0481-464c-a9ec-28b217bcfd02",
   "metadata": {},
   "source": [
    "### Numpy Datatypes\n",
    "\n",
    "as before we can also use ctype converted numpy data types for convenience:"
   ]
  },
  {
   "cell_type": "code",
   "execution_count": 14,
   "id": "f01f1014-dee1-4d85-b8d3-289b5ac0d62c",
   "metadata": {},
   "outputs": [],
   "source": [
    "cadd.Add.argtypes = [ctypes.c_int, np.ctypeslib.as_ctypes_type(np.int32)]"
   ]
  },
  {
   "cell_type": "code",
   "execution_count": 15,
   "id": "8b3f6b87-01fe-4567-8f2c-28fb8eec19f0",
   "metadata": {},
   "outputs": [
    {
     "name": "stdout",
     "output_type": "stream",
     "text": [
      "sum: 20\n"
     ]
    }
   ],
   "source": [
    "result = cadd.Add(10, 10)\n",
    "\n",
    "print('sum: {}'.format(result))"
   ]
  },
  {
   "cell_type": "code",
   "execution_count": null,
   "id": "4ccd5400-9573-452a-aec3-2b70ee2cf690",
   "metadata": {},
   "outputs": [],
   "source": []
  }
 ],
 "metadata": {
  "kernelspec": {
   "display_name": "Python 3 (ipykernel)",
   "language": "python",
   "name": "python3"
  },
  "language_info": {
   "codemirror_mode": {
    "name": "ipython",
    "version": 3
   },
   "file_extension": ".py",
   "mimetype": "text/x-python",
   "name": "python",
   "nbconvert_exporter": "python",
   "pygments_lexer": "ipython3",
   "version": "3.9.5"
  }
 },
 "nbformat": 4,
 "nbformat_minor": 5
}
