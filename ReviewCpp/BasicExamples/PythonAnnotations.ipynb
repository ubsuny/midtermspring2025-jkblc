{
  "nbformat": 4,
  "nbformat_minor": 0,
  "metadata": {
    "colab": {
      "provenance": [],
      "authorship_tag": "ABX9TyMBX8Se+yg9gBS1lsNuBDzs",
      "include_colab_link": true
    },
    "kernelspec": {
      "name": "python3",
      "display_name": "Python 3"
    },
    "language_info": {
      "name": "python"
    }
  },
  "cells": [
    {
      "cell_type": "markdown",
      "metadata": {
        "id": "view-in-github",
        "colab_type": "text"
      },
      "source": [
        "<a href=\"https://colab.research.google.com/github/ubsuny/CompPhys/blob/main/ReviewCpp/BasicExamples/PythonAnnotations.ipynb\" target=\"_parent\"><img src=\"https://colab.research.google.com/assets/colab-badge.svg\" alt=\"Open In Colab\"/></a>"
      ]
    },
    {
      "cell_type": "markdown",
      "source": [
        "# Annotations"
      ],
      "metadata": {
        "id": "J1dfNkrWtdSO"
      }
    },
    {
      "cell_type": "markdown",
      "source": [
        "Python is a dynamically typed language which means that you do not have to desclare the Data Type of a variable. However, that also means that you do not have a lot of control of the Data Type since it can change at runtime.\n",
        "\n",
        "Python annotations [PEP 3107](https://peps.python.org/pep-3107/) solve that to some extend. While python does not enforce the Data Type it checks for the correct DataType so that errors can be caught before runtime."
      ],
      "metadata": {
        "id": "P32rVY_qsjj-"
      }
    },
    {
      "cell_type": "code",
      "source": [
        "def adder(x: int, y: int) -> int:\n",
        "  return x+y"
      ],
      "metadata": {
        "id": "ekv3xLdaviYU"
      },
      "execution_count": null,
      "outputs": []
    },
    {
      "cell_type": "code",
      "source": [
        "help(adder)"
      ],
      "metadata": {
        "id": "L8MNVlXAwuom"
      },
      "execution_count": null,
      "outputs": []
    },
    {
      "cell_type": "code",
      "source": [
        "print(adder.__annotations__)"
      ],
      "metadata": {
        "id": "P15XhddYxEkk"
      },
      "execution_count": null,
      "outputs": []
    },
    {
      "cell_type": "code",
      "source": [
        "adder(1,2)"
      ],
      "metadata": {
        "id": "moVCb06Fwckb"
      },
      "execution_count": null,
      "outputs": []
    },
    {
      "cell_type": "code",
      "source": [
        "adder(1.0,2.0)"
      ],
      "metadata": {
        "id": "dVsIXMOSweNh"
      },
      "execution_count": null,
      "outputs": []
    },
    {
      "cell_type": "code",
      "source": [
        "adder(1.5,2.0)"
      ],
      "metadata": {
        "id": "iFSuFeHFwgsN"
      },
      "execution_count": null,
      "outputs": []
    },
    {
      "cell_type": "markdown",
      "source": [
        "We canuse an external library to check our code before runtime:\n",
        "[myPy](https://mypy.readthedocs.io/en/stable/cheat_sheet_py3.html#cheat-sheet-py3)\n",
        "\n",
        "For Jupyter Notebooks: nb_mypy"
      ],
      "metadata": {
        "id": "vicH-2sZx1nU"
      }
    },
    {
      "cell_type": "code",
      "source": [
        "!pip install nb_mypy\n",
        "%load_ext nb_mypy\n",
        "%nb_mypy On"
      ],
      "metadata": {
        "id": "i-devNe5wklF"
      },
      "execution_count": null,
      "outputs": []
    },
    {
      "cell_type": "code",
      "source": [
        "def adder(x: int, y: int) -> int:\n",
        "  return x+y"
      ],
      "metadata": {
        "id": "PXNZyQuDyuBi"
      },
      "execution_count": null,
      "outputs": []
    },
    {
      "cell_type": "code",
      "source": [
        "adder(1,2)"
      ],
      "metadata": {
        "id": "0QMS7XF5y7ly"
      },
      "execution_count": null,
      "outputs": []
    },
    {
      "cell_type": "code",
      "source": [
        "adder(1.0,2.0)"
      ],
      "metadata": {
        "id": "WLK8hWHey_qx"
      },
      "execution_count": null,
      "outputs": []
    },
    {
      "cell_type": "code",
      "source": [
        "def intdiv(x: int, y: int) -> int:\n",
        "  return x//y"
      ],
      "metadata": {
        "id": "pDoEEnlGzBPo"
      },
      "execution_count": null,
      "outputs": []
    },
    {
      "cell_type": "code",
      "source": [
        "intdiv(6,2)"
      ],
      "metadata": {
        "id": "WQ8nYqXbzJYr"
      },
      "execution_count": null,
      "outputs": []
    },
    {
      "cell_type": "code",
      "source": [
        "intdiv(6,4)"
      ],
      "metadata": {
        "id": "DRPBcB-TzLgL"
      },
      "execution_count": null,
      "outputs": []
    },
    {
      "cell_type": "code",
      "source": [
        "i: int = 1"
      ],
      "metadata": {
        "id": "toxC6k5LzW6s"
      },
      "execution_count": null,
      "outputs": []
    },
    {
      "cell_type": "code",
      "source": [
        "j: int = 1.0"
      ],
      "metadata": {
        "id": "_mpoGdzIzqBA"
      },
      "execution_count": null,
      "outputs": []
    },
    {
      "cell_type": "code",
      "source": [
        "k: int"
      ],
      "metadata": {
        "id": "cH2DotlDzu6r"
      },
      "execution_count": null,
      "outputs": []
    },
    {
      "cell_type": "code",
      "source": [
        "k = 1"
      ],
      "metadata": {
        "id": "MBgcieXVzxkV"
      },
      "execution_count": null,
      "outputs": []
    },
    {
      "cell_type": "code",
      "source": [
        "k = 1.0"
      ],
      "metadata": {
        "id": "7pw616h_zz-2"
      },
      "execution_count": null,
      "outputs": []
    }
  ]
}