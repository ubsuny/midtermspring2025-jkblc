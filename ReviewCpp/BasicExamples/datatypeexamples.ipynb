{
 "cells": [
  {
   "cell_type": "markdown",
   "id": "72611159-bd96-4fb8-958e-1353b66287c1",
   "metadata": {},
   "source": [
    "# Real world data type examples\n",
    "\n",
    "(Tim Thomay, 2021, [CC BY 4.0 license](https://creativecommons.org/licenses/by/4.0/))\n",
    "\n",
    "Assume your measurement equipment can take data with a precision of 2ps (pico seconds)"
   ]
  },
  {
   "cell_type": "markdown",
   "id": "7849e2b4-4b69-4b17-a563-28da330dfcaa",
   "metadata": {},
   "source": [
    "### Questions:\n",
    "\n",
    "For how long can you take data (before you get into trouble) for the following ctype data types:\n",
    "- c_int\n",
    "- c_uint\n",
    "- c_float\n",
    "- c_double\n",
    "\n",
    "Which ctype data type gives you the longest measurement time?\n",
    "\n",
    "https://docs.python.org/3/library/ctypes.html#fundamental-data-types"
   ]
  },
  {
   "cell_type": "code",
   "execution_count": null,
   "id": "6d3c69eb-546a-481f-8c65-ff239bb395f0",
   "metadata": {},
   "outputs": [],
   "source": [
    "from ctypes import *"
   ]
  },
  {
   "cell_type": "code",
   "execution_count": null,
   "id": "9a8eab41-5de2-435d-82fb-3975188fde98",
   "metadata": {},
   "outputs": [],
   "source": []
  },
  {
   "cell_type": "markdown",
   "id": "84acfe65-2cdf-496a-9218-8b47ea0d3bb3",
   "metadata": {},
   "source": [
    "### Memory size\n",
    "\n",
    "to determine the size of the c datatype (in bytes) you can use the c_types function `sizeof`"
   ]
  },
  {
   "cell_type": "code",
   "execution_count": null,
   "id": "affd659d-3792-41ff-b2f2-b2d75e03e0d8",
   "metadata": {},
   "outputs": [],
   "source": [
    "sizeof(c_longlong())"
   ]
  },
  {
   "cell_type": "markdown",
   "id": "d0a30dc2-9dee-4529-b2df-41946e89dbd1",
   "metadata": {},
   "source": [
    "### Python built-in data types\n",
    "\n",
    "How does that compare to the python built-in data types:\n",
    "\n",
    "https://docs.python.org/3/library/stdtypes.html#numeric-types-int-float-complex"
   ]
  },
  {
   "cell_type": "code",
   "execution_count": null,
   "id": "adc4fc23-fdb9-4d95-a10f-3c234c713678",
   "metadata": {},
   "outputs": [],
   "source": [
    "# to dtermine the memory footprint (in bytes) of a python variable use `getsizeof` from the sys library\n",
    "from sys import getsizeof"
   ]
  },
  {
   "cell_type": "code",
   "execution_count": null,
   "id": "b1bc56ac-15cb-4932-9b90-0663054b4bdf",
   "metadata": {},
   "outputs": [],
   "source": [
    "d = 1"
   ]
  },
  {
   "cell_type": "code",
   "execution_count": null,
   "id": "8e662489-410e-4674-b3b7-879ffe8ff407",
   "metadata": {},
   "outputs": [],
   "source": [
    "type(d)"
   ]
  },
  {
   "cell_type": "code",
   "execution_count": null,
   "id": "1fa53131-0440-4ddc-bfd2-994f28dbd043",
   "metadata": {},
   "outputs": [],
   "source": [
    "x = int(1)"
   ]
  },
  {
   "cell_type": "code",
   "execution_count": null,
   "id": "186d71d2-e180-49fe-8084-1e4263f37117",
   "metadata": {},
   "outputs": [],
   "source": [
    "type(x)"
   ]
  },
  {
   "cell_type": "code",
   "execution_count": null,
   "id": "3d4a8cec-48e7-4f21-bb78-ee0cd0eddd66",
   "metadata": {},
   "outputs": [],
   "source": [
    "getsizeof(x)"
   ]
  },
  {
   "cell_type": "markdown",
   "id": "5a1aeca6-20d4-4a40-ad5a-94c65b6b35d0",
   "metadata": {},
   "source": [
    "## How does Python handle data types?\n",
    "\n",
    "Everything in Python is an object with 3 properties:\n",
    "- [reference count](https://docs.python.org/3/library/sys.html#sys.getrefcount)\n",
    "- [(data) type](https://docs.python.org/3/library/stdtypes.html)\n",
    "- value"
   ]
  },
  {
   "cell_type": "code",
   "execution_count": 9,
   "id": "e2af513c-6ef9-4fd0-b6bc-cb8445d05d97",
   "metadata": {},
   "outputs": [
    {
     "data": {
      "text/plain": [
       "True"
      ]
     },
     "execution_count": 9,
     "metadata": {},
     "output_type": "execute_result"
    }
   ],
   "source": [
    "isinstance(1, int)"
   ]
  },
  {
   "cell_type": "code",
   "execution_count": 10,
   "id": "d534b912-bf6b-464b-a3ff-1b498ef049fb",
   "metadata": {},
   "outputs": [
    {
     "data": {
      "text/plain": [
       "False"
      ]
     },
     "execution_count": 10,
     "metadata": {},
     "output_type": "execute_result"
    }
   ],
   "source": [
    "isinstance(1, float)"
   ]
  },
  {
   "cell_type": "code",
   "execution_count": 11,
   "id": "aa3d99b0-fbb3-42fc-a148-26e4941678d9",
   "metadata": {},
   "outputs": [
    {
     "data": {
      "text/plain": [
       "True"
      ]
     },
     "execution_count": 11,
     "metadata": {},
     "output_type": "execute_result"
    }
   ],
   "source": [
    "isinstance(1, object)"
   ]
  },
  {
   "cell_type": "code",
   "execution_count": 2,
   "id": "21959cea-cc78-4f10-ab4f-571754f6ddab",
   "metadata": {},
   "outputs": [
    {
     "data": {
      "text/plain": [
       "True"
      ]
     },
     "execution_count": 2,
     "metadata": {},
     "output_type": "execute_result"
    }
   ],
   "source": [
    "isinstance([1,1], object)"
   ]
  },
  {
   "cell_type": "code",
   "execution_count": 5,
   "id": "da611bfb-fe2d-418f-b6b8-a41669c378db",
   "metadata": {},
   "outputs": [
    {
     "data": {
      "text/plain": [
       "True"
      ]
     },
     "execution_count": 5,
     "metadata": {},
     "output_type": "execute_result"
    }
   ],
   "source": [
    "isinstance((3+6j), object)"
   ]
  },
  {
   "cell_type": "code",
   "execution_count": 12,
   "id": "302baed7-eeac-4af4-bafc-6747fd868bfb",
   "metadata": {},
   "outputs": [
    {
     "name": "stdout",
     "output_type": "stream",
     "text": [
      "Hi\n"
     ]
    },
    {
     "data": {
      "text/plain": [
       "True"
      ]
     },
     "execution_count": 12,
     "metadata": {},
     "output_type": "execute_result"
    }
   ],
   "source": [
    "def HelloWorld():\n",
    "    print(\"Hi\")\n",
    "isinstance(HelloWorld(), object)"
   ]
  },
  {
   "cell_type": "markdown",
   "id": "fe69a52f-e054-4203-9286-7348cdd6d232",
   "metadata": {},
   "source": [
    "There are two types of objects: \n",
    "\n",
    "- Immutable (eg int, float, bool, str, ...)\n",
    "- Mutable (eg list, dict, ...)"
   ]
  },
  {
   "cell_type": "code",
   "execution_count": 14,
   "id": "efb61a46-2035-4c18-92df-b6fa1424f792",
   "metadata": {},
   "outputs": [],
   "source": [
    "x = int(5)"
   ]
  },
  {
   "cell_type": "markdown",
   "id": "1db1c754-c10a-4d33-92cf-590446528559",
   "metadata": {},
   "source": [
    "To get the memory address use `id()`"
   ]
  },
  {
   "cell_type": "code",
   "execution_count": 17,
   "id": "9ad03d30-5ade-42ce-84da-bb06f3d05449",
   "metadata": {},
   "outputs": [
    {
     "data": {
      "text/plain": [
       "140346939308464"
      ]
     },
     "execution_count": 17,
     "metadata": {},
     "output_type": "execute_result"
    }
   ],
   "source": [
    "id(x)"
   ]
  },
  {
   "cell_type": "code",
   "execution_count": 18,
   "id": "6c79a15f-38a8-411d-9d56-d6f4d9fe4758",
   "metadata": {},
   "outputs": [
    {
     "data": {
      "text/plain": [
       "140346939308496"
      ]
     },
     "execution_count": 18,
     "metadata": {},
     "output_type": "execute_result"
    }
   ],
   "source": [
    "x = 6\n",
    "id(x)"
   ]
  },
  {
   "cell_type": "markdown",
   "id": "7df09aa3-53e1-4d26-b0af-7e8e0dafddaf",
   "metadata": {},
   "source": [
    "So assiging a new value gives you a new object in python! So other properties such as Data Type can also be changed!"
   ]
  },
  {
   "cell_type": "markdown",
   "id": "17ffbd88-92ce-43b5-80cb-c60dc60943a0",
   "metadata": {},
   "source": [
    "That's why you can assign a new element in a list (mutable) but not a string (immutable)"
   ]
  },
  {
   "cell_type": "code",
   "execution_count": 19,
   "id": "df1626c1-f3f2-43ca-bb5d-8c2339f78505",
   "metadata": {},
   "outputs": [],
   "source": [
    "s = \"Here\""
   ]
  },
  {
   "cell_type": "code",
   "execution_count": 20,
   "id": "5ade8a57-800f-4080-b471-c00ca9f4a5ef",
   "metadata": {},
   "outputs": [
    {
     "data": {
      "text/plain": [
       "'H'"
      ]
     },
     "execution_count": 20,
     "metadata": {},
     "output_type": "execute_result"
    }
   ],
   "source": [
    "s[0]"
   ]
  },
  {
   "cell_type": "code",
   "execution_count": 21,
   "id": "00542277-e095-4f0c-b3dc-12bb5933067b",
   "metadata": {},
   "outputs": [
    {
     "ename": "TypeError",
     "evalue": "'str' object does not support item assignment",
     "output_type": "error",
     "traceback": [
      "\u001b[0;31m---------------------------------------------------------------------------\u001b[0m",
      "\u001b[0;31mTypeError\u001b[0m                                 Traceback (most recent call last)",
      "\u001b[0;32m/tmp/ipykernel_700/2713944907.py\u001b[0m in \u001b[0;36m<module>\u001b[0;34m\u001b[0m\n\u001b[0;32m----> 1\u001b[0;31m \u001b[0ms\u001b[0m\u001b[0;34m[\u001b[0m\u001b[0;36m0\u001b[0m\u001b[0;34m]\u001b[0m \u001b[0;34m=\u001b[0m \u001b[0;34m\"W\"\u001b[0m\u001b[0;34m\u001b[0m\u001b[0;34m\u001b[0m\u001b[0m\n\u001b[0m",
      "\u001b[0;31mTypeError\u001b[0m: 'str' object does not support item assignment"
     ]
    }
   ],
   "source": [
    "s[0] = \"W\""
   ]
  },
  {
   "cell_type": "code",
   "execution_count": 22,
   "id": "796c93e4-ab01-4719-a040-ba8843923d87",
   "metadata": {},
   "outputs": [],
   "source": [
    "l = [1,2,3]"
   ]
  },
  {
   "cell_type": "code",
   "execution_count": 26,
   "id": "5111db40-c568-4f15-86e7-d25daa27a236",
   "metadata": {},
   "outputs": [
    {
     "data": {
      "text/plain": [
       "140346865788032"
      ]
     },
     "execution_count": 26,
     "metadata": {},
     "output_type": "execute_result"
    }
   ],
   "source": [
    "id(l)"
   ]
  },
  {
   "cell_type": "code",
   "execution_count": 23,
   "id": "eb5bcbe6-6e6c-4e9c-b4e6-a5672ff4a382",
   "metadata": {},
   "outputs": [
    {
     "data": {
      "text/plain": [
       "1"
      ]
     },
     "execution_count": 23,
     "metadata": {},
     "output_type": "execute_result"
    }
   ],
   "source": [
    "l[0]"
   ]
  },
  {
   "cell_type": "code",
   "execution_count": 24,
   "id": "968aabd4-2569-48c9-a0f0-e909e0c0f692",
   "metadata": {},
   "outputs": [],
   "source": [
    "l[0]=4"
   ]
  },
  {
   "cell_type": "code",
   "execution_count": 25,
   "id": "7476c4fa-8389-49be-9928-8388b83dd567",
   "metadata": {},
   "outputs": [
    {
     "data": {
      "text/plain": [
       "[4, 2, 3]"
      ]
     },
     "execution_count": 25,
     "metadata": {},
     "output_type": "execute_result"
    }
   ],
   "source": [
    "l"
   ]
  },
  {
   "cell_type": "code",
   "execution_count": 27,
   "id": "4a9df82b-d305-48c3-8359-230e295ee359",
   "metadata": {},
   "outputs": [
    {
     "data": {
      "text/plain": [
       "140346865788032"
      ]
     },
     "execution_count": 27,
     "metadata": {},
     "output_type": "execute_result"
    }
   ],
   "source": [
    "id(l)"
   ]
  },
  {
   "cell_type": "markdown",
   "id": "d54d4399-ce3b-4898-894f-23d35d20ce08",
   "metadata": {},
   "source": [
    "### Pitfalls"
   ]
  },
  {
   "cell_type": "code",
   "execution_count": 28,
   "id": "57eaff28-b7bf-434c-8a8f-58bb35aea471",
   "metadata": {},
   "outputs": [],
   "source": [
    "x = 1000\n",
    "y = x"
   ]
  },
  {
   "cell_type": "code",
   "execution_count": 30,
   "id": "b0967218-2a85-4624-b859-958078f3abd8",
   "metadata": {},
   "outputs": [
    {
     "data": {
      "text/plain": [
       "True"
      ]
     },
     "execution_count": 30,
     "metadata": {},
     "output_type": "execute_result"
    }
   ],
   "source": [
    "x is y # comparison of object location!"
   ]
  },
  {
   "cell_type": "code",
   "execution_count": 34,
   "id": "1d029e6a-3546-4784-87d9-64733d8ac3bc",
   "metadata": {},
   "outputs": [
    {
     "data": {
      "text/plain": [
       "False"
      ]
     },
     "execution_count": 34,
     "metadata": {},
     "output_type": "execute_result"
    }
   ],
   "source": [
    "# but\n",
    "x = 1000\n",
    "y = 999 + 1\n",
    "x is y "
   ]
  },
  {
   "cell_type": "markdown",
   "id": "5717866c-5a15-4fa9-81bf-1db429245103",
   "metadata": {},
   "source": [
    "### Numpy data types\n",
    "\n",
    "How does that compare to the numpy data types:\n",
    "\n",
    "https://numpy.org/doc/stable/reference/arrays.dtypes.html#arrays-dtypes\n",
    "\n",
    "In numpy to get the size (in bytes of the data type use the property \".itemsize\" and to get the size of the variable (array), use \".nbytes\"."
   ]
  },
  {
   "cell_type": "code",
   "execution_count": null,
   "id": "43d6821e-e401-4ab2-b5bd-877f23d31663",
   "metadata": {},
   "outputs": [],
   "source": [
    "import numpy as np"
   ]
  },
  {
   "cell_type": "code",
   "execution_count": null,
   "id": "ad397819-67ab-4d13-a3de-02990d4fc638",
   "metadata": {},
   "outputs": [],
   "source": [
    "dt = np.dtype(np.int32)      # 32-bit integer"
   ]
  },
  {
   "cell_type": "code",
   "execution_count": null,
   "id": "69108893-fe82-4a25-8998-eaaa4396420a",
   "metadata": {},
   "outputs": [],
   "source": [
    "dx = np.dtype(np.complex128)"
   ]
  },
  {
   "cell_type": "code",
   "execution_count": null,
   "id": "f47dc368-3525-4fc3-8deb-1f3971f12b49",
   "metadata": {},
   "outputs": [],
   "source": [
    "np.array(10,dt)"
   ]
  },
  {
   "cell_type": "code",
   "execution_count": null,
   "id": "6e8178d6-2949-4f53-a798-3f9f8ea6bdab",
   "metadata": {},
   "outputs": [],
   "source": [
    "getsizeof(np.array(10,dt))"
   ]
  },
  {
   "cell_type": "code",
   "execution_count": null,
   "id": "632a54c4-3a90-4d42-81d6-582ceee0d251",
   "metadata": {},
   "outputs": [],
   "source": [
    "np.array(10,dt).itemsize"
   ]
  },
  {
   "cell_type": "code",
   "execution_count": null,
   "id": "e8bc7623-9fdb-4914-973e-b7c670a06390",
   "metadata": {},
   "outputs": [],
   "source": [
    "np.array([10,10],dt).itemsize"
   ]
  },
  {
   "cell_type": "code",
   "execution_count": null,
   "id": "e1c9d55d-2ecc-47d9-b934-910db76e4649",
   "metadata": {},
   "outputs": [],
   "source": [
    "np.array([10,10],dt).nbytes"
   ]
  },
  {
   "cell_type": "markdown",
   "id": "7b194c7e-4e21-4202-9e7d-def1ae0b4502",
   "metadata": {},
   "source": [
    "### Conversion from numpy to ctypes\n",
    "\n",
    "It is also possible to convert numpy dtypes to ctypes data types\n",
    "\n",
    "**CAVEAT**: no losslessly round-trip"
   ]
  },
  {
   "cell_type": "code",
   "execution_count": null,
   "id": "940ff19b-41fb-45c6-9fb2-4b84d6651228",
   "metadata": {},
   "outputs": [],
   "source": [
    "np.ctypeslib.as_ctypes_type(np.int32)(10)"
   ]
  },
  {
   "cell_type": "code",
   "execution_count": null,
   "id": "8d5cc6cc-349b-4f95-bb27-f6415a87154e",
   "metadata": {},
   "outputs": [],
   "source": [
    "np.dtype(np.ctypeslib.as_ctypes_type(c_int()))"
   ]
  },
  {
   "cell_type": "code",
   "execution_count": null,
   "id": "074c9fc7-9526-4680-8062-a1d129a1f0c5",
   "metadata": {},
   "outputs": [],
   "source": []
  }
 ],
 "metadata": {
  "kernelspec": {
   "display_name": "Python 3 (ipykernel)",
   "language": "python",
   "name": "python3"
  },
  "language_info": {
   "codemirror_mode": {
    "name": "ipython",
    "version": 3
   },
   "file_extension": ".py",
   "mimetype": "text/x-python",
   "name": "python",
   "nbconvert_exporter": "python",
   "pygments_lexer": "ipython3",
   "version": "3.9.5"
  }
 },
 "nbformat": 4,
 "nbformat_minor": 5
}
