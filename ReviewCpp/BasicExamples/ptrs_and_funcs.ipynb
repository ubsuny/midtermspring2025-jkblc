{
 "cells": [
  {
   "cell_type": "markdown",
   "metadata": {},
   "source": [
    "# implementing ptrs_and_funcs in pytohn using ctypes"
   ]
  },
  {
   "cell_type": "code",
   "execution_count": 1,
   "metadata": {},
   "outputs": [],
   "source": [
    "import ctypes"
   ]
  },
  {
   "cell_type": "code",
   "execution_count": 50,
   "metadata": {},
   "outputs": [],
   "source": [
    "def increment1(p):\n",
    "    p += 1\n",
    "    print(\"p =\", p)\n",
    "\n",
    "def increment2(p):\n",
    "    # not implemented\n",
    "    pass\n",
    "\n",
    "def increment3(p):\n",
    "    p.contents.value += 1\n",
    "    print(\"*p =\", p.contents.value)"
   ]
  },
  {
   "cell_type": "code",
   "execution_count": 51,
   "metadata": {},
   "outputs": [],
   "source": [
    "x = ctypes.c_int(3)\n",
    "rx = ctypes.byref(x)\n",
    "px = ctypes.pointer(x)"
   ]
  },
  {
   "cell_type": "code",
   "execution_count": 52,
   "metadata": {},
   "outputs": [
    {
     "name": "stdout",
     "output_type": "stream",
     "text": [
      "0: x = 3\n",
      "p = 4\n",
      "1: x = 3\n",
      "2: x = 3\n",
      "*p = 4\n",
      "3: x = 4\n"
     ]
    }
   ],
   "source": [
    "print(\"0: x =\", x.value)\n",
    "increment1(x.value)\n",
    "print(\"1: x =\", x.value)\n",
    "increment2(x)\n",
    "print(\"2: x =\", x.value)\n",
    "increment3(px)\n",
    "print(\"3: x =\", x.value)"
   ]
  },
  {
   "cell_type": "code",
   "execution_count": null,
   "metadata": {},
   "outputs": [],
   "source": []
  }
 ],
 "metadata": {
  "kernelspec": {
   "display_name": "Python 3",
   "language": "python",
   "name": "python3"
  },
  "language_info": {
   "codemirror_mode": {
    "name": "ipython",
    "version": 3
   },
   "file_extension": ".py",
   "mimetype": "text/x-python",
   "name": "python",
   "nbconvert_exporter": "python",
   "pygments_lexer": "ipython3",
   "version": "3.11.2"
  }
 },
 "nbformat": 4,
 "nbformat_minor": 2
}
