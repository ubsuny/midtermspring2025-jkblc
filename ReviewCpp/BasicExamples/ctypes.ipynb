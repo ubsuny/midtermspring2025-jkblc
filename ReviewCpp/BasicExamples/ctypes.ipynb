{
 "cells": [
  {
   "cell_type": "markdown",
   "id": "a72dd474-b1b7-49cd-a155-bf23f962c2c7",
   "metadata": {
    "tags": []
   },
   "source": [
    "# ctypes library examples\n",
    "\n",
    "(Tim Thomay, 2021, [CC BY 4.0 license](https://creativecommons.org/licenses/by/4.0/))\n",
    "\n",
    "For a comparison of ctypes, python types and data typoes in C see (https://docs.python.org/3/library/ctypes.html#fundamental-data-types)"
   ]
  },
  {
   "cell_type": "code",
   "execution_count": null,
   "id": "dc7b9b27-6566-4984-ae78-1ac1cce49fc1",
   "metadata": {},
   "outputs": [],
   "source": [
    "# import library\n",
    "from ctypes import *"
   ]
  },
  {
   "cell_type": "markdown",
   "id": "5bcf38a8-e396-4599-9c1b-f96a3da5ee6f",
   "metadata": {},
   "source": [
    "### Examples\n",
    "\n",
    "ctype integer: 10"
   ]
  },
  {
   "cell_type": "code",
   "execution_count": null,
   "id": "d03a84a3-7cac-43d4-9998-f9075a1d24a7",
   "metadata": {},
   "outputs": [],
   "source": [
    "c_int(10)"
   ]
  },
  {
   "cell_type": "markdown",
   "id": "e8a0871f-eac1-4ae0-b8f3-4572893df103",
   "metadata": {},
   "source": [
    "but python and ctype data types don't mix"
   ]
  },
  {
   "cell_type": "code",
   "execution_count": null,
   "id": "c94350a0-dc53-401c-b096-a585f7c0f88c",
   "metadata": {},
   "outputs": [],
   "source": [
    "c_int(10) + 10"
   ]
  },
  {
   "cell_type": "markdown",
   "id": "0af604f6-d282-4436-aa80-11d3cf8b8ecf",
   "metadata": {},
   "source": [
    "it has to be converted first"
   ]
  },
  {
   "cell_type": "code",
   "execution_count": null,
   "id": "12f68b8f-d606-4954-80d2-cdfde43b2c7c",
   "metadata": {},
   "outputs": [],
   "source": [
    "c_int(10).value + 10"
   ]
  },
  {
   "cell_type": "markdown",
   "id": "90ad4134-509e-44d8-bc17-11ddc5576f57",
   "metadata": {},
   "source": [
    "# Special data types\n",
    "\n",
    "- must be derived from the Structure and Union based classes\n",
    "- field type must be a ctypes type like c_int, or any other derived ctypes type"
   ]
  },
  {
   "cell_type": "markdown",
   "id": "bad85f68-af5c-49da-a495-f63f637fe59f",
   "metadata": {},
   "source": [
    "## structure"
   ]
  },
  {
   "cell_type": "code",
   "execution_count": null,
   "id": "cb24a674-32fb-433e-9b63-d44257d173b4",
   "metadata": {},
   "outputs": [],
   "source": [
    "class POINT(Structure):\n",
    "     _fields_ = [(\"x\", c_int),\n",
    "                 (\"y\", c_ubyte)]  # unsigned byte (8 bit, 0..255)"
   ]
  },
  {
   "cell_type": "code",
   "execution_count": null,
   "id": "884f97ff-0527-4ed7-9376-99e97c4aa91d",
   "metadata": {},
   "outputs": [],
   "source": [
    "point = POINT(10, 20)\n",
    "print(point.x, point.y)"
   ]
  },
  {
   "cell_type": "code",
   "execution_count": null,
   "id": "057033de-cdc2-44c3-9c11-9540e2bf7d76",
   "metadata": {},
   "outputs": [],
   "source": [
    "type(point)"
   ]
  },
  {
   "cell_type": "code",
   "execution_count": null,
   "id": "3f1b04a5-1b8b-4b75-b35f-3c4e8fd0e384",
   "metadata": {},
   "outputs": [],
   "source": [
    "type(point.x)"
   ]
  },
  {
   "cell_type": "markdown",
   "id": "46944a17-e2a3-4308-beca-20b0536ec210",
   "metadata": {},
   "source": [
    "### pitfalls:"
   ]
  },
  {
   "cell_type": "code",
   "execution_count": null,
   "id": "686e6445-32b1-431a-abd2-1afe6f2a4788",
   "metadata": {},
   "outputs": [],
   "source": [
    "point = POINT(y=-500000)\n",
    "print(point.x, point.y)"
   ]
  },
  {
   "cell_type": "code",
   "execution_count": null,
   "id": "f55af9b0-42c6-4ce7-ae29-f8d517dccc53",
   "metadata": {},
   "outputs": [],
   "source": [
    "type(point.y)"
   ]
  },
  {
   "cell_type": "code",
   "execution_count": null,
   "id": "d121fd3d-ce31-4f65-a507-c97b2d86fe0c",
   "metadata": {},
   "outputs": [],
   "source": [
    "point.y.bit_length()"
   ]
  },
  {
   "cell_type": "code",
   "execution_count": null,
   "id": "8c0ea4fe-67e7-495e-bc0f-adbc6e3b3aeb",
   "metadata": {},
   "outputs": [],
   "source": [
    "point.y = point.y+10000"
   ]
  },
  {
   "cell_type": "code",
   "execution_count": null,
   "id": "65057b58-2466-48d9-98bd-d0cdefcb81bc",
   "metadata": {},
   "outputs": [],
   "source": [
    "point.y"
   ]
  },
  {
   "cell_type": "markdown",
   "id": "86b60fdb-3895-4f88-a605-eb3e927ae7ea",
   "metadata": {},
   "source": [
    "### can also determine memory order:"
   ]
  },
  {
   "cell_type": "code",
   "execution_count": null,
   "id": "e866a6fd-7b5c-4e03-82be-1ea874cb6afb",
   "metadata": {},
   "outputs": [],
   "source": [
    "class LES(BigEndianStructure):\n",
    "    _fields_ = [(\"x\", c_int)] \n",
    "    "
   ]
  },
  {
   "cell_type": "code",
   "execution_count": null,
   "id": "a44b78a3-3de5-469e-acbf-6fc8f9265f3e",
   "metadata": {},
   "outputs": [],
   "source": [
    "data = LES(x= 100)"
   ]
  },
  {
   "cell_type": "code",
   "execution_count": null,
   "id": "cf14fe35-f15a-463c-ad49-23ff0cae7b71",
   "metadata": {},
   "outputs": [],
   "source": [
    "data.x"
   ]
  },
  {
   "cell_type": "code",
   "execution_count": null,
   "id": "3ca8bb4d-dca0-4fae-adfa-509dcb120886",
   "metadata": {},
   "outputs": [],
   "source": []
  }
 ],
 "metadata": {
  "kernelspec": {
   "display_name": "Python 3 (ipykernel)",
   "language": "python",
   "name": "python3"
  },
  "language_info": {
   "codemirror_mode": {
    "name": "ipython",
    "version": 3
   },
   "file_extension": ".py",
   "mimetype": "text/x-python",
   "name": "python",
   "nbconvert_exporter": "python",
   "pygments_lexer": "ipython3",
   "version": "3.9.5"
  }
 },
 "nbformat": 4,
 "nbformat_minor": 5
}
