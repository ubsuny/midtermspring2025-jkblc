{
 "cells": [
  {
   "cell_type": "markdown",
   "id": "e3b9b296-d612-43b2-9e65-d783b9c4b1a7",
   "metadata": {},
   "source": [
    "# Using C++ libraries in python using ctypes\n",
    "\n",
    "(Tim Thomay, 2021, [CC BY 4.0 license](https://creativecommons.org/licenses/by/4.0/))\n",
    "\n",
    "In the [ctypes notebook](./ctypes.ipynb) we learned how to use c data types in python.\n",
    "Now we learn how to use them in c funtions."
   ]
  },
  {
   "cell_type": "code",
   "execution_count": null,
   "id": "103278d0-b882-42e0-97d5-202fe11357dd",
   "metadata": {},
   "outputs": [],
   "source": [
    "!cat ./ReviewCpp/BasicExamples/addmodule.c++"
   ]
  },
  {
   "cell_type": "markdown",
   "id": "aed0c18e-c04c-4a1f-8adc-84e43b56abfe",
   "metadata": {},
   "source": [
    "### Compiling\n",
    "\n",
    "compile and create a [shared library](https://stackoverflow.com/questions/2649334/difference-between-static-and-shared-libraries) from our example above"
   ]
  },
  {
   "cell_type": "code",
   "execution_count": null,
   "id": "4ab4707f-8ac7-41a0-bea5-cf90c8f3bc47",
   "metadata": {},
   "outputs": [],
   "source": [
    "!gcc  -fPIC -c ./ReviewCpp/BasicExamples/addmodule.c++ -o ./ReviewCpp/BasicExamples/addmodule.o -std=c++11"
   ]
  },
  {
   "cell_type": "code",
   "execution_count": null,
   "id": "78035d61-6272-4e66-afa6-0817c96fb2af",
   "metadata": {},
   "outputs": [],
   "source": [
    "!gcc -shared ./ReviewCpp/BasicExamples/addmodule.o -o ./ReviewCpp/BasicExamples/addmodule.so -lstdc++"
   ]
  },
  {
   "cell_type": "code",
   "execution_count": null,
   "id": "23194d8c-31e4-4db2-8d79-7393f40469de",
   "metadata": {},
   "outputs": [],
   "source": [
    "!ls -lah ./ReviewCpp/BasicExamples/addmodule.*"
   ]
  },
  {
   "cell_type": "markdown",
   "id": "e05a0d2e-9d9e-4704-969b-323941d442a6",
   "metadata": {},
   "source": [
    "### Import into python using ctypes\n",
    "\n",
    "Now we have the source file (.c++) the compiled binary (.o) and the shred library (.so).\n",
    "We will import the shared library now using ctypes"
   ]
  },
  {
   "cell_type": "code",
   "execution_count": null,
   "id": "6dc631ef-51ce-4e4c-b283-50c19a4d7484",
   "metadata": {},
   "outputs": [],
   "source": [
    "from ctypes import *"
   ]
  },
  {
   "cell_type": "code",
   "execution_count": null,
   "id": "72583d87-8cc5-4863-a461-3515f2cf233c",
   "metadata": {},
   "outputs": [],
   "source": [
    "cadd = cdll.LoadLibrary(\"./ReviewCpp/BasicExamples/addmodule.so\")"
   ]
  },
  {
   "cell_type": "code",
   "execution_count": null,
   "id": "f82736af-5e45-4fae-a274-ebc0d7b2d34b",
   "metadata": {},
   "outputs": [],
   "source": [
    "cadd.Add(c_int(2),c_int(3))"
   ]
  }
 ],
 "metadata": {
  "kernelspec": {
   "display_name": "Python 3 (ipykernel)",
   "language": "python",
   "name": "python3"
  },
  "language_info": {
   "codemirror_mode": {
    "name": "ipython",
    "version": 3
   },
   "file_extension": ".py",
   "mimetype": "text/x-python",
   "name": "python",
   "nbconvert_exporter": "python",
   "pygments_lexer": "ipython3",
   "version": "3.9.5"
  }
 },
 "nbformat": 4,
 "nbformat_minor": 5
}
