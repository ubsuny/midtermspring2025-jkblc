{
 "cells": [
  {
   "cell_type": "markdown",
   "metadata": {},
   "source": [
    "# implementing ptrs_and_refs in python using ctypes"
   ]
  },
  {
   "cell_type": "code",
   "execution_count": null,
   "metadata": {},
   "outputs": [],
   "source": [
    "from ctypes import *"
   ]
  },
  {
   "cell_type": "code",
   "execution_count": 24,
   "metadata": {},
   "outputs": [],
   "source": [
    "# Create C-style integer variable\n",
    "x = c_int(10)\n",
    "\n",
    "# Create pointer to x\n",
    "px = pointer(x)\n",
    "\n",
    "# Create reference to x (simulated using ctypes.byref)\n",
    "rx = byref(x)\n"
   ]
  },
  {
   "cell_type": "code",
   "execution_count": 25,
   "metadata": {},
   "outputs": [
    {
     "name": "stdout",
     "output_type": "stream",
     "text": [
      "Value of px = <__main__.LP_c_int object at 0x77f9112416d0> , dereferenced = c_int(10)\n",
      "Value of rx = 10\n",
      "x = 7\n",
      "x = 9\n"
     ]
    }
   ],
   "source": [
    "\n",
    "# Print values\n",
    "print(\"Value of px =\", px, \", dereferenced =\", px.contents)\n",
    "print(\"Value of rx =\", x.value)\n",
    "\n",
    "# Modify value through pointer\n",
    "px.contents.value = 7\n",
    "print(\"x =\", x.value)\n",
    "\n",
    "# Modify value through reference\n",
    "x.value = 9\n",
    "print(\"x =\", x.value)"
   ]
  },
  {
   "cell_type": "code",
   "execution_count": null,
   "metadata": {},
   "outputs": [],
   "source": []
  }
 ],
 "metadata": {
  "kernelspec": {
   "display_name": "Python 3",
   "language": "python",
   "name": "python3"
  },
  "language_info": {
   "codemirror_mode": {
    "name": "ipython",
    "version": 3
   },
   "file_extension": ".py",
   "mimetype": "text/x-python",
   "name": "python",
   "nbconvert_exporter": "python",
   "pygments_lexer": "ipython3",
   "version": "3.11.2"
  }
 },
 "nbformat": 4,
 "nbformat_minor": 2
}
