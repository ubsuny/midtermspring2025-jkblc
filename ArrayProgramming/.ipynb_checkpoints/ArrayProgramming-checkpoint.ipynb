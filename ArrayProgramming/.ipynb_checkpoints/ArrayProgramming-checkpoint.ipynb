{
 "cells": [
  {
   "cell_type": "markdown",
   "metadata": {},
   "source": [
    "# Array programming example\n",
    "\n",
    "Here we demonstrate how we can perform some data analysis with numpy arrays. \n",
    "\n",
    "There are some nice resources [here](https://www.datacamp.com/community/tutorials/python-numpy-tutorial) and [here](https://jakevdp.github.io/PythonDataScienceHandbook/02.05-computation-on-arrays-broadcasting.html) also. "
   ]
  },
  {
   "cell_type": "code",
   "execution_count": 1,
   "metadata": {},
   "outputs": [],
   "source": [
    "import numpy as np"
   ]
  },
  {
   "cell_type": "markdown",
   "metadata": {},
   "source": [
    "## Create a 2-d array, with broadcasting\n",
    "\n",
    "We'll create a 10x10 array with a couple of linspaces\n",
    "\n",
    "First, we create a 10x1 array. Then, we create a 1x10 array and add them. The second array is *broadcast* to the shape of the first so it simply adds the value to the rows of a. "
   ]
  },
  {
   "cell_type": "code",
   "execution_count": 2,
   "metadata": {},
   "outputs": [
    {
     "data": {
      "text/plain": [
       "array([[0.],\n",
       "       [1.],\n",
       "       [2.],\n",
       "       [3.],\n",
       "       [4.],\n",
       "       [5.],\n",
       "       [6.],\n",
       "       [7.],\n",
       "       [8.],\n",
       "       [9.]])"
      ]
     },
     "execution_count": 2,
     "metadata": {},
     "output_type": "execute_result"
    }
   ],
   "source": [
    "a = np.linspace(0,9,10).reshape(10,1)\n",
    "a"
   ]
  },
  {
   "cell_type": "code",
   "execution_count": 3,
   "metadata": {},
   "outputs": [
    {
     "data": {
      "text/plain": [
       "array([0., 1., 2., 3., 4., 5., 6., 7., 8., 9.])"
      ]
     },
     "execution_count": 3,
     "metadata": {},
     "output_type": "execute_result"
    }
   ],
   "source": [
    "b = np.linspace(0,9,10)\n",
    "b"
   ]
  },
  {
   "cell_type": "code",
   "execution_count": 4,
   "metadata": {},
   "outputs": [
    {
     "data": {
      "text/plain": [
       "array([[ 0.,  1.,  2.,  3.,  4.,  5.,  6.,  7.,  8.,  9.],\n",
       "       [ 1.,  2.,  3.,  4.,  5.,  6.,  7.,  8.,  9., 10.],\n",
       "       [ 2.,  3.,  4.,  5.,  6.,  7.,  8.,  9., 10., 11.],\n",
       "       [ 3.,  4.,  5.,  6.,  7.,  8.,  9., 10., 11., 12.],\n",
       "       [ 4.,  5.,  6.,  7.,  8.,  9., 10., 11., 12., 13.],\n",
       "       [ 5.,  6.,  7.,  8.,  9., 10., 11., 12., 13., 14.],\n",
       "       [ 6.,  7.,  8.,  9., 10., 11., 12., 13., 14., 15.],\n",
       "       [ 7.,  8.,  9., 10., 11., 12., 13., 14., 15., 16.],\n",
       "       [ 8.,  9., 10., 11., 12., 13., 14., 15., 16., 17.],\n",
       "       [ 9., 10., 11., 12., 13., 14., 15., 16., 17., 18.]])"
      ]
     },
     "execution_count": 4,
     "metadata": {},
     "output_type": "execute_result"
    }
   ],
   "source": [
    "a = a + b\n",
    "a"
   ]
  },
  {
   "cell_type": "markdown",
   "metadata": {},
   "source": [
    "## Element-wise operations, with broadcasting\n",
    "\n",
    "We can also perform element-wise operations with broadcasting. The shape of the scalar \"0.01\" is expanded into a 10x10 array and added to `a`. "
   ]
  },
  {
   "cell_type": "code",
   "execution_count": 5,
   "metadata": {},
   "outputs": [
    {
     "data": {
      "text/plain": [
       "array([[1.000e-02, 1.010e+00, 2.010e+00, 3.010e+00, 4.010e+00, 5.010e+00,\n",
       "        6.010e+00, 7.010e+00, 8.010e+00, 9.010e+00],\n",
       "       [1.010e+00, 2.010e+00, 3.010e+00, 4.010e+00, 5.010e+00, 6.010e+00,\n",
       "        7.010e+00, 8.010e+00, 9.010e+00, 1.001e+01],\n",
       "       [2.010e+00, 3.010e+00, 4.010e+00, 5.010e+00, 6.010e+00, 7.010e+00,\n",
       "        8.010e+00, 9.010e+00, 1.001e+01, 1.101e+01],\n",
       "       [3.010e+00, 4.010e+00, 5.010e+00, 6.010e+00, 7.010e+00, 8.010e+00,\n",
       "        9.010e+00, 1.001e+01, 1.101e+01, 1.201e+01],\n",
       "       [4.010e+00, 5.010e+00, 6.010e+00, 7.010e+00, 8.010e+00, 9.010e+00,\n",
       "        1.001e+01, 1.101e+01, 1.201e+01, 1.301e+01],\n",
       "       [5.010e+00, 6.010e+00, 7.010e+00, 8.010e+00, 9.010e+00, 1.001e+01,\n",
       "        1.101e+01, 1.201e+01, 1.301e+01, 1.401e+01],\n",
       "       [6.010e+00, 7.010e+00, 8.010e+00, 9.010e+00, 1.001e+01, 1.101e+01,\n",
       "        1.201e+01, 1.301e+01, 1.401e+01, 1.501e+01],\n",
       "       [7.010e+00, 8.010e+00, 9.010e+00, 1.001e+01, 1.101e+01, 1.201e+01,\n",
       "        1.301e+01, 1.401e+01, 1.501e+01, 1.601e+01],\n",
       "       [8.010e+00, 9.010e+00, 1.001e+01, 1.101e+01, 1.201e+01, 1.301e+01,\n",
       "        1.401e+01, 1.501e+01, 1.601e+01, 1.701e+01],\n",
       "       [9.010e+00, 1.001e+01, 1.101e+01, 1.201e+01, 1.301e+01, 1.401e+01,\n",
       "        1.501e+01, 1.601e+01, 1.701e+01, 1.801e+01]])"
      ]
     },
     "execution_count": 5,
     "metadata": {},
     "output_type": "execute_result"
    }
   ],
   "source": [
    "a += 0.01\n",
    "a"
   ]
  },
  {
   "cell_type": "markdown",
   "metadata": {},
   "source": [
    "## Functions of arrays\n",
    "\n",
    "We can perform functions on elements of arrays with the same syntax you'd expect. Here is an example with \"sine\":"
   ]
  },
  {
   "cell_type": "code",
   "execution_count": 6,
   "metadata": {},
   "outputs": [
    {
     "data": {
      "text/plain": [
       "array([[ 0.00999983,  0.84683184,  0.90509056,  0.13121319, -0.76330098,\n",
       "        -0.95603975, -0.26979998,  0.66449265,  0.9878538 ,  0.40298673],\n",
       "       [ 0.84683184,  0.90509056,  0.13121319, -0.76330098, -0.95603975,\n",
       "        -0.26979998,  0.66449265,  0.9878538 ,  0.40298673, -0.55238449],\n",
       "       [ 0.90509056,  0.13121319, -0.76330098, -0.95603975, -0.26979998,\n",
       "         0.66449265,  0.9878538 ,  0.40298673, -0.55238449, -0.99989595],\n",
       "       [ 0.13121319, -0.76330098, -0.95603975, -0.26979998,  0.66449265,\n",
       "         0.9878538 ,  0.40298673, -0.55238449, -0.99989595, -0.52810769],\n",
       "       [-0.76330098, -0.95603975, -0.26979998,  0.66449265,  0.9878538 ,\n",
       "         0.40298673, -0.55238449, -0.99989595, -0.52810769,  0.42922035],\n",
       "       [-0.95603975, -0.26979998,  0.66449265,  0.9878538 ,  0.40298673,\n",
       "        -0.55238449, -0.99989595, -0.52810769,  0.42922035,  0.99192518],\n",
       "       [-0.26979998,  0.66449265,  0.9878538 ,  0.40298673, -0.55238449,\n",
       "        -0.99989595, -0.52810769,  0.42922035,  0.99192518,  0.64265857],\n",
       "       [ 0.66449265,  0.9878538 ,  0.40298673, -0.55238449, -0.99989595,\n",
       "        -0.52810769,  0.42922035,  0.99192518,  0.64265857, -0.29746536],\n",
       "       [ 0.9878538 ,  0.40298673, -0.55238449, -0.99989595, -0.52810769,\n",
       "         0.42922035,  0.99192518,  0.64265857, -0.29746536, -0.96410101],\n",
       "       [ 0.40298673, -0.55238449, -0.99989595, -0.52810769,  0.42922035,\n",
       "         0.99192518,  0.64265857, -0.29746536, -0.96410101, -0.74434664]])"
      ]
     },
     "execution_count": 6,
     "metadata": {},
     "output_type": "execute_result"
    }
   ],
   "source": [
    "sina = np.sin(a)\n",
    "sina"
   ]
  },
  {
   "cell_type": "code",
   "execution_count": null,
   "metadata": {},
   "outputs": [],
   "source": []
  },
  {
   "cell_type": "markdown",
   "metadata": {},
   "source": [
    "## Array-wide operations, no need for broadcasting\n",
    "\n",
    "We can also perform standard array operations. Here, \"d\" will have the same shape as `a`, as will `sina`. We will create an array that will be equal to ```a + sin(a)``` and store it in `e`"
   ]
  },
  {
   "cell_type": "code",
   "execution_count": 7,
   "metadata": {},
   "outputs": [
    {
     "data": {
      "text/plain": [
       "array([[1., 1., 1., 1., 1., 1., 1., 1., 1., 1.],\n",
       "       [1., 1., 1., 1., 1., 1., 1., 1., 1., 1.],\n",
       "       [1., 1., 1., 1., 1., 1., 1., 1., 1., 1.],\n",
       "       [1., 1., 1., 1., 1., 1., 1., 1., 1., 1.],\n",
       "       [1., 1., 1., 1., 1., 1., 1., 1., 1., 1.],\n",
       "       [1., 1., 1., 1., 1., 1., 1., 1., 1., 1.],\n",
       "       [1., 1., 1., 1., 1., 1., 1., 1., 1., 1.],\n",
       "       [1., 1., 1., 1., 1., 1., 1., 1., 1., 1.],\n",
       "       [1., 1., 1., 1., 1., 1., 1., 1., 1., 1.],\n",
       "       [1., 1., 1., 1., 1., 1., 1., 1., 1., 1.]])"
      ]
     },
     "execution_count": 7,
     "metadata": {},
     "output_type": "execute_result"
    }
   ],
   "source": [
    "d = np.ones_like(a)\n",
    "d"
   ]
  },
  {
   "cell_type": "code",
   "execution_count": 8,
   "metadata": {},
   "outputs": [
    {
     "data": {
      "text/plain": [
       "array([[1.00999983e+00, 1.84683184e+00, 1.90509056e+00, 1.13121319e+00,\n",
       "        2.36699017e-01, 4.39602457e-02, 7.30200015e-01, 1.66449265e+00,\n",
       "        1.98785380e+00, 1.40298673e+00],\n",
       "       [1.84683184e+00, 1.90509056e+00, 1.13121319e+00, 2.36699017e-01,\n",
       "        4.39602457e-02, 7.30200015e-01, 1.66449265e+00, 1.98785380e+00,\n",
       "        1.40298673e+00, 4.47615514e-01],\n",
       "       [1.90509056e+00, 1.13121319e+00, 2.36699017e-01, 4.39602457e-02,\n",
       "        7.30200015e-01, 1.66449265e+00, 1.98785380e+00, 1.40298673e+00,\n",
       "        4.47615514e-01, 1.04048785e-04],\n",
       "       [1.13121319e+00, 2.36699017e-01, 4.39602457e-02, 7.30200015e-01,\n",
       "        1.66449265e+00, 1.98785380e+00, 1.40298673e+00, 4.47615514e-01,\n",
       "        1.04048785e-04, 4.71892309e-01],\n",
       "       [2.36699017e-01, 4.39602457e-02, 7.30200015e-01, 1.66449265e+00,\n",
       "        1.98785380e+00, 1.40298673e+00, 4.47615514e-01, 1.04048785e-04,\n",
       "        4.71892309e-01, 1.42922035e+00],\n",
       "       [4.39602457e-02, 7.30200015e-01, 1.66449265e+00, 1.98785380e+00,\n",
       "        1.40298673e+00, 4.47615514e-01, 1.04048785e-04, 4.71892309e-01,\n",
       "        1.42922035e+00, 1.99192518e+00],\n",
       "       [7.30200015e-01, 1.66449265e+00, 1.98785380e+00, 1.40298673e+00,\n",
       "        4.47615514e-01, 1.04048785e-04, 4.71892309e-01, 1.42922035e+00,\n",
       "        1.99192518e+00, 1.64265857e+00],\n",
       "       [1.66449265e+00, 1.98785380e+00, 1.40298673e+00, 4.47615514e-01,\n",
       "        1.04048785e-04, 4.71892309e-01, 1.42922035e+00, 1.99192518e+00,\n",
       "        1.64265857e+00, 7.02534643e-01],\n",
       "       [1.98785380e+00, 1.40298673e+00, 4.47615514e-01, 1.04048785e-04,\n",
       "        4.71892309e-01, 1.42922035e+00, 1.99192518e+00, 1.64265857e+00,\n",
       "        7.02534643e-01, 3.58989901e-02],\n",
       "       [1.40298673e+00, 4.47615514e-01, 1.04048785e-04, 4.71892309e-01,\n",
       "        1.42922035e+00, 1.99192518e+00, 1.64265857e+00, 7.02534643e-01,\n",
       "        3.58989901e-02, 2.55653359e-01]])"
      ]
     },
     "execution_count": 8,
     "metadata": {},
     "output_type": "execute_result"
    }
   ],
   "source": [
    "e = sina + d\n",
    "e"
   ]
  },
  {
   "cell_type": "markdown",
   "metadata": {},
   "source": [
    "## Plot `sin(a) + a`\n",
    "\n",
    "Now just to show what we can do from here, we use the `imshow` function in `matplotlib`. "
   ]
  },
  {
   "cell_type": "code",
   "execution_count": 9,
   "metadata": {},
   "outputs": [],
   "source": [
    "import matplotlib.pyplot as plt"
   ]
  },
  {
   "cell_type": "code",
   "execution_count": 10,
   "metadata": {},
   "outputs": [
    {
     "data": {
      "image/png": "[encoded data removed]",
      "text/plain": [
       "<Figure size 432x288 with 2 Axes>"
      ]
     },
     "metadata": {
      "needs_background": "light"
     },
     "output_type": "display_data"
    }
   ],
   "source": [
    "plt.imshow(a)\n",
    "plt.colorbar();"
   ]
  },
  {
   "cell_type": "markdown",
   "metadata": {},
   "source": [
    "## Slices\n",
    "\n",
    "We can change some bits of a with slices as well. Here we increment the \"1\" entry of all of the rows and re-plot. You can see the column has a different value. \n"
   ]
  },
  {
   "cell_type": "code",
   "execution_count": 11,
   "metadata": {},
   "outputs": [
    {
     "data": {
      "image/png": "[encoded data removed]",
      "text/plain": [
       "<Figure size 432x288 with 2 Axes>"
      ]
     },
     "metadata": {
      "needs_background": "light"
     },
     "output_type": "display_data"
    }
   ],
   "source": [
    "a[:,1] += 10\n",
    "plt.imshow(a)\n",
    "plt.colorbar();"
   ]
  },
  {
   "cell_type": "code",
   "execution_count": null,
   "metadata": {},
   "outputs": [],
   "source": []
  },
  {
   "cell_type": "markdown",
   "metadata": {},
   "source": [
    "## Selections\n",
    "\n",
    "We can also make selections of the elements within the arrays. For instance, here we find everywhere the modified array is larger than 5. This returns a 2-d array with the same shape, and each element has the result of the comparison stored. "
   ]
  },
  {
   "cell_type": "code",
   "execution_count": 12,
   "metadata": {},
   "outputs": [
    {
     "data": {
      "text/plain": [
       "array([[False,  True, False, False, False,  True,  True,  True,  True,\n",
       "         True],\n",
       "       [False,  True, False, False,  True,  True,  True,  True,  True,\n",
       "         True],\n",
       "       [False,  True, False,  True,  True,  True,  True,  True,  True,\n",
       "         True],\n",
       "       [False,  True,  True,  True,  True,  True,  True,  True,  True,\n",
       "         True],\n",
       "       [False,  True,  True,  True,  True,  True,  True,  True,  True,\n",
       "         True],\n",
       "       [ True,  True,  True,  True,  True,  True,  True,  True,  True,\n",
       "         True],\n",
       "       [ True,  True,  True,  True,  True,  True,  True,  True,  True,\n",
       "         True],\n",
       "       [ True,  True,  True,  True,  True,  True,  True,  True,  True,\n",
       "         True],\n",
       "       [ True,  True,  True,  True,  True,  True,  True,  True,  True,\n",
       "         True],\n",
       "       [ True,  True,  True,  True,  True,  True,  True,  True,  True,\n",
       "         True]])"
      ]
     },
     "execution_count": 12,
     "metadata": {},
     "output_type": "execute_result"
    }
   ],
   "source": [
    "a_sel = a > 5.\n",
    "a_sel"
   ]
  },
  {
   "cell_type": "markdown",
   "metadata": {},
   "source": [
    "## Fancy indexing\n",
    "\n",
    "Now we can do something really cool. We can use `a_sel` as an index of a! It will give us the elements where `a > 5` as a 1-d array. "
   ]
  },
  {
   "cell_type": "code",
   "execution_count": 13,
   "metadata": {},
   "outputs": [
    {
     "data": {
      "text/plain": [
       "array([11.01,  5.01,  6.01,  7.01,  8.01,  9.01, 12.01,  5.01,  6.01,\n",
       "        7.01,  8.01,  9.01, 10.01, 13.01,  5.01,  6.01,  7.01,  8.01,\n",
       "        9.01, 10.01, 11.01, 14.01,  5.01,  6.01,  7.01,  8.01,  9.01,\n",
       "       10.01, 11.01, 12.01, 15.01,  6.01,  7.01,  8.01,  9.01, 10.01,\n",
       "       11.01, 12.01, 13.01,  5.01, 16.01,  7.01,  8.01,  9.01, 10.01,\n",
       "       11.01, 12.01, 13.01, 14.01,  6.01, 17.01,  8.01,  9.01, 10.01,\n",
       "       11.01, 12.01, 13.01, 14.01, 15.01,  7.01, 18.01,  9.01, 10.01,\n",
       "       11.01, 12.01, 13.01, 14.01, 15.01, 16.01,  8.01, 19.01, 10.01,\n",
       "       11.01, 12.01, 13.01, 14.01, 15.01, 16.01, 17.01,  9.01, 20.01,\n",
       "       11.01, 12.01, 13.01, 14.01, 15.01, 16.01, 17.01, 18.01])"
      ]
     },
     "execution_count": 13,
     "metadata": {},
     "output_type": "execute_result"
    }
   ],
   "source": [
    "a[a_sel]"
   ]
  },
  {
   "cell_type": "markdown",
   "metadata": {},
   "source": [
    "## np.where and indexing\n",
    "\n",
    "The `np.where` function is very useful in this sense. It will preserve the shape of the original array and you can decide what to do with the rest. The syntax is\n",
    "\n",
    "`where( selection, value_if_true, value_if_false)`. "
   ]
  },
  {
   "cell_type": "code",
   "execution_count": 14,
   "metadata": {},
   "outputs": [
    {
     "data": {
      "text/plain": [
       "array([[ 0.  , 11.01,  0.  ,  0.  ,  0.  ,  5.01,  6.01,  7.01,  8.01,\n",
       "         9.01],\n",
       "       [ 0.  , 12.01,  0.  ,  0.  ,  5.01,  6.01,  7.01,  8.01,  9.01,\n",
       "        10.01],\n",
       "       [ 0.  , 13.01,  0.  ,  5.01,  6.01,  7.01,  8.01,  9.01, 10.01,\n",
       "        11.01],\n",
       "       [ 0.  , 14.01,  5.01,  6.01,  7.01,  8.01,  9.01, 10.01, 11.01,\n",
       "        12.01],\n",
       "       [ 0.  , 15.01,  6.01,  7.01,  8.01,  9.01, 10.01, 11.01, 12.01,\n",
       "        13.01],\n",
       "       [ 5.01, 16.01,  7.01,  8.01,  9.01, 10.01, 11.01, 12.01, 13.01,\n",
       "        14.01],\n",
       "       [ 6.01, 17.01,  8.01,  9.01, 10.01, 11.01, 12.01, 13.01, 14.01,\n",
       "        15.01],\n",
       "       [ 7.01, 18.01,  9.01, 10.01, 11.01, 12.01, 13.01, 14.01, 15.01,\n",
       "        16.01],\n",
       "       [ 8.01, 19.01, 10.01, 11.01, 12.01, 13.01, 14.01, 15.01, 16.01,\n",
       "        17.01],\n",
       "       [ 9.01, 20.01, 11.01, 12.01, 13.01, 14.01, 15.01, 16.01, 17.01,\n",
       "        18.01]])"
      ]
     },
     "execution_count": 14,
     "metadata": {},
     "output_type": "execute_result"
    }
   ],
   "source": [
    "v = np.where( a_sel, a, 0)\n",
    "v"
   ]
  },
  {
   "cell_type": "code",
   "execution_count": 15,
   "metadata": {},
   "outputs": [
    {
     "data": {
      "image/png": "[encoded data removed]",
      "text/plain": [
       "<Figure size 432x288 with 2 Axes>"
      ]
     },
     "metadata": {
      "needs_background": "light"
     },
     "output_type": "display_data"
    }
   ],
   "source": [
    "plt.imshow(v)\n",
    "plt.colorbar();"
   ]
  },
  {
   "cell_type": "markdown",
   "metadata": {},
   "source": [
    "## Combining arrays\n",
    "\n",
    "We've seen that most of the arithmetic operations (`+`, `-`, etc) are elementwise in `numpy`. "
   ]
  },
  {
   "cell_type": "code",
   "execution_count": 16,
   "metadata": {},
   "outputs": [
    {
     "data": {
      "text/plain": [
       "array([3, 5, 7])"
      ]
     },
     "execution_count": 16,
     "metadata": {},
     "output_type": "execute_result"
    }
   ],
   "source": [
    "x = np.array([0,1,2])\n",
    "y = np.array([3,4,5])\n",
    "\n",
    "x + y"
   ]
  },
  {
   "cell_type": "markdown",
   "metadata": {},
   "source": [
    "But what about \"array\" arithemtic, like transposing, and concatenation? `numpy` supports those too. They usually have special function names. Be careful, the arguments are usually a tuple for the arguments (hence the \"double parenthesis\"). There are others too (\"stacking\") for you to play with. "
   ]
  },
  {
   "cell_type": "code",
   "execution_count": 17,
   "metadata": {},
   "outputs": [
    {
     "data": {
      "text/plain": [
       "array([0, 1, 2, 3, 4, 5])"
      ]
     },
     "execution_count": 17,
     "metadata": {},
     "output_type": "execute_result"
    }
   ],
   "source": [
    "z = np.concatenate((x,y))\n",
    "z"
   ]
  },
  {
   "cell_type": "code",
   "execution_count": null,
   "metadata": {},
   "outputs": [],
   "source": []
  }
 ],
 "metadata": {
  "kernelspec": {
   "display_name": "Python 3",
   "language": "python",
   "name": "python3"
  },
  "language_info": {
   "codemirror_mode": {
    "name": "ipython",
    "version": 3
   },
   "file_extension": ".py",
   "mimetype": "text/x-python",
   "name": "python",
   "nbconvert_exporter": "python",
   "pygments_lexer": "ipython3",
   "version": "3.7.4rc2"
  }
 },
 "nbformat": 4,
 "nbformat_minor": 2
}
