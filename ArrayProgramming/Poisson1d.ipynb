{
 "cells": [
  {
   "cell_type": "markdown",
   "metadata": {},
   "source": [
    "# Diffusion Equation in 1D"
   ]
  },
  {
   "cell_type": "markdown",
   "metadata": {},
   "source": [
    "The Diffusion equation in 1d is given by:\n",
    "\n",
    "$$\\frac{\\partial u}{\\partial t} = \\nu \\frac{\\partial ^2 u}{\\partial x^2}$$\n",
    "\n",
    "\n",
    "In discretized form, the $n+1$st time step is related to the $n$th time step by: \n",
    "\n",
    "$$\n",
    "\\begin{split}\n",
    "u_{i}^{n+1} = u_{i}^n &+ \\frac{\\nu \\Delta t}{\\Delta x^2}(u_{i+1}^n - 2 u_{i}^n + u_{i-1}^n) \n",
    "\\end{split}\n",
    "$$\n",
    "\n",
    "If we assume $\\Delta t = 1, \\Delta x = 1, \\Delta y = 1, \\nu = 1$, this becomes \n",
    "\n",
    "$$\n",
    "u_{i}^{n+1} = u_{i}^n + (u_{i+1}^n - 2 u_{i}^n + u_{i-1}^n) \n",
    "$$\n",
    "\n",
    "Below is an example for you to implement a single step of the diffusion equation. "
   ]
  },
  {
   "cell_type": "code",
   "execution_count": 1,
   "metadata": {},
   "outputs": [],
   "source": [
    "import numpy as np\n",
    "import matplotlib.pyplot as plt"
   ]
  },
  {
   "cell_type": "markdown",
   "metadata": {},
   "source": []
  },
  {
   "cell_type": "code",
   "execution_count": 2,
   "metadata": {},
   "outputs": [],
   "source": [
    "u = np.zeros(32)\n",
    "u[32//2-4:32//2+4] = 1.0"
   ]
  },
  {
   "cell_type": "code",
   "execution_count": 3,
   "metadata": {},
   "outputs": [
    {
     "data": {
      "text/plain": [
       "[<matplotlib.lines.Line2D at 0x7fc9fc60b490>]"
      ]
     },
     "execution_count": 3,
     "metadata": {},
     "output_type": "execute_result"
    },
    {
     "data": {
      "image/png": "[encoded data removed]",
      "text/plain": [
       "<Figure size 432x288 with 1 Axes>"
      ]
     },
     "metadata": {
      "needs_background": "light"
     },
     "output_type": "display_data"
    }
   ],
   "source": [
    "plt.plot(u)"
   ]
  },
  {
   "cell_type": "code",
   "execution_count": 4,
   "metadata": {},
   "outputs": [],
   "source": [
    "un = u.copy()         # Copy of the \"previous\" step so we can do \"this\" step in \"u\""
   ]
  },
  {
   "cell_type": "markdown",
   "metadata": {},
   "source": [
    "## Implement diffusion step here: \n",
    "\n",
    "Here, use numpy array arithmetic and appropriate strides to implement one step of the diffusion equation. Don't use loops!!!"
   ]
  },
  {
   "cell_type": "code",
   "execution_count": 5,
   "metadata": {},
   "outputs": [],
   "source": [
    "u[1:-1] = un[1:-1] + un[2:] - 2 * un[1:-1] + un[0:-2]"
   ]
  },
  {
   "cell_type": "markdown",
   "metadata": {},
   "source": [
    "## Now we diffuse\n",
    "\n",
    "For demonstration we can do it a few times to show the effects. "
   ]
  },
  {
   "cell_type": "code",
   "execution_count": 6,
   "metadata": {
    "scrolled": true
   },
   "outputs": [
    {
     "data": {
      "text/plain": [
       "[<matplotlib.lines.Line2D at 0x7fc9fc0e3ed0>]"
      ]
     },
     "execution_count": 6,
     "metadata": {},
     "output_type": "execute_result"
    },
    {
     "data": {
      "image/png": "[encoded data removed]",
      "text/plain": [
       "<Figure size 432x288 with 1 Axes>"
      ]
     },
     "metadata": {
      "needs_background": "light"
     },
     "output_type": "display_data"
    }
   ],
   "source": [
    "plt.plot(u)"
   ]
  }
 ],
 "metadata": {
  "kernelspec": {
   "display_name": "Python 3",
   "language": "python",
   "name": "python3"
  },
  "language_info": {
   "codemirror_mode": {
    "name": "ipython",
    "version": 3
   },
   "file_extension": ".py",
   "mimetype": "text/x-python",
   "name": "python",
   "nbconvert_exporter": "python",
   "pygments_lexer": "ipython3",
   "version": "3.7.4rc2"
  }
 },
 "nbformat": 4,
 "nbformat_minor": 2
}
