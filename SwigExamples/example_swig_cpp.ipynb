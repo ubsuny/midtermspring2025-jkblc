{
 "cells": [
  {
   "cell_type": "markdown",
   "metadata": {},
   "source": [
    "# Example of using C++ code in python and Jupyter with SWIG\n",
    "\n",
    "It is also possible to use our C++ code from python and Jupyter. This involves using the [SWIG](http://www.swig.org) package. You can download it [here](http://www.swig.org/survey.html) and then install following instructions [here](http://www.swig.org/Doc3.0/Preface.html#Preface_installation). If you are successful, you should be able to open a new terminal and type ```which swig``` to obtain the path of swig. \n",
    "\n",
    "The idea is then to use SWIG to automatically generate python-readable code from our C++/C libraries. There is a lot to learn in this regard, so we will try first with a simple example that illustrates some concepts we will need, such as using STL libraries and C++11 compilation. \n"
   ]
  },
  {
   "cell_type": "markdown",
   "metadata": {},
   "source": [
    "\n",
    "## Step 1 : Look at C++ files\n",
    "\n",
    "You should be able to see these two simple C++ files: \n"
   ]
  },
  {
   "cell_type": "code",
   "execution_count": 1,
   "metadata": {},
   "outputs": [
    {
     "name": "stdout",
     "output_type": "stream",
     "text": [
      "#ifndef EXAMPLE_HPP\r\n",
      "#define EXAMPLE_HPP\r\n",
      "\r\n",
      "#include <vector>\r\n",
      "\r\n",
      "// Declare your function normally\r\n",
      "int sum_int(std::vector<int> const & vec);\r\n",
      "\r\n",
      "#endif // EXAMPLE_HPP\r\n",
      "#include \"example.hpp\"\r\n",
      "\r\n",
      "// Define your function as you need.\r\n",
      "int sum_int(std::vector<int> const & vec)\r\n",
      "{\r\n",
      "  int sum = 0;\r\n",
      "  for ( auto i : vec ) {\r\n",
      "    sum += i;\r\n",
      "  }\r\n",
      "  return sum;\r\n",
      "}\r\n"
     ]
    }
   ],
   "source": [
    "! cat swig_example/example.hpp swig_example/example.cpp "
   ]
  },
  {
   "cell_type": "markdown",
   "metadata": {},
   "source": [
    "\n",
    "\n",
    "## Step 2 : Look at SWIG interface file\n",
    "\n",
    "The magic of SWIG is to create wrapper C++ functions that use the \"cython\" interface. You will see an \"interface\" file for SWIG :"
   ]
  },
  {
   "cell_type": "code",
   "execution_count": 2,
   "metadata": {},
   "outputs": [
    {
     "name": "stdout",
     "output_type": "stream",
     "text": [
      "%module example\r\n",
      "/* First: Include your own code.*/\r\n",
      "%{\r\n",
      "#define SWIG_FILE_WITH_INIT\r\n",
      "#include \"example.hpp\"\r\n",
      "%}\r\n",
      "/* Next: declare the functions you want to use.*/\r\n",
      "int sum_int(std::vector<int> const & vec);\r\n",
      "\r\n",
      "/* Finally: include any other libraries and types you need. \r\n",
      "Yes, you need one type per class, so that means one type per\r\n",
      "template instance.*/\r\n",
      "\r\n",
      "\r\n",
      "%include \"std_vector.i\"\r\n",
      "\r\n",
      "namespace std {\r\n",
      "   %template(vector_int) vector<int>;\r\n",
      "};\r\n",
      "\r\n",
      "\r\n"
     ]
    }
   ],
   "source": [
    "! cat swig_example/example.i "
   ]
  },
  {
   "cell_type": "markdown",
   "metadata": {},
   "source": [
    "## Step 3 : Look at SWIG setup file\n",
    "\n",
    "This tells SWIG to generate a file called ```example_wrap.cc``` using source from ```example.cpp``` with C++11. \n"
   ]
  },
  {
   "cell_type": "code",
   "execution_count": 3,
   "metadata": {},
   "outputs": [
    {
     "name": "stdout",
     "output_type": "stream",
     "text": [
      "#!/usr/bin/env python\r\n",
      "\r\n",
      "\"\"\"\r\n",
      "setup.py file for SWIG example\r\n",
      "\"\"\"\r\n",
      "\r\n",
      "from distutils.core import setup, Extension\r\n",
      "\r\n",
      "\r\n",
      "example_module = Extension('_example',\r\n",
      "                           sources=['swig_example/example_wrap.cxx', 'swig_example/example.cpp'],\r\n",
      "                           extra_compile_args=[\"-std=c++11\"],\r\n",
      "                           )\r\n",
      "\r\n",
      "setup (name = 'example',\r\n",
      "       version = '0.1',\r\n",
      "       author      = \"SWIG Docs\",\r\n",
      "       description = \"\"\"Simple swig example from docs\"\"\",\r\n",
      "       ext_modules = [example_module],\r\n",
      "       py_modules = [\"example\"],\r\n",
      "       )\r\n"
     ]
    }
   ],
   "source": [
    "! cat swig_example/setup.py"
   ]
  },
  {
   "cell_type": "markdown",
   "metadata": {},
   "source": [
    "Now create the interface using the interface file. This will create two files, ```example_wrap.cxx``` and ```example.py```. They are not intended to be human-readable, so we don't need to look into them. "
   ]
  },
  {
   "cell_type": "markdown",
   "metadata": {},
   "source": [
    "## Step 4: Create SWIG interface from file"
   ]
  },
  {
   "cell_type": "code",
   "execution_count": 4,
   "metadata": {},
   "outputs": [],
   "source": [
    "! swig -c++ -python swig_example/example.i "
   ]
  },
  {
   "cell_type": "markdown",
   "metadata": {},
   "source": [
    "## Step 5 : compile C++ and interface\n",
    "\n",
    "This will compile our file ```example.cpp``` along with ```example_wrap.cxx``` using the rules we set (for instance, using the C++11 compiler). \n",
    "\n",
    "We are now free to use this in python!"
   ]
  },
  {
   "cell_type": "code",
   "execution_count": 5,
   "metadata": {},
   "outputs": [
    {
     "name": "stdout",
     "output_type": "stream",
     "text": [
      "running build_ext\n",
      "building '_example' extension\n",
      "x86_64-linux-gnu-gcc -pthread -DNDEBUG -g -fwrapv -O2 -Wall -g -fstack-protector-strong -Wformat -Werror=format-security -Wdate-time -D_FORTIFY_SOURCE=2 -fPIC -I/usr/include/python3.7m -c swig_example/example_wrap.cxx -o build/temp.linux-x86_64-3.7/swig_example/example_wrap.o -std=c++11\n",
      "x86_64-linux-gnu-gcc -pthread -DNDEBUG -g -fwrapv -O2 -Wall -g -fstack-protector-strong -Wformat -Werror=format-security -Wdate-time -D_FORTIFY_SOURCE=2 -fPIC -I/usr/include/python3.7m -c swig_example/example.cpp -o build/temp.linux-x86_64-3.7/swig_example/example.o -std=c++11\n",
      "x86_64-linux-gnu-g++ -pthread -shared -Wl,-O1 -Wl,-Bsymbolic-functions -Wl,-Bsymbolic-functions -Wl,-z,relro -Wl,-Bsymbolic-functions -Wl,-z,relro -g -fstack-protector-strong -Wformat -Werror=format-security -Wdate-time -D_FORTIFY_SOURCE=2 build/temp.linux-x86_64-3.7/swig_example/example_wrap.o build/temp.linux-x86_64-3.7/swig_example/example.o -o /results/CompPhys/SwigExamples/_example.cpython-37m-x86_64-linux-gnu.so\n"
     ]
    }
   ],
   "source": [
    "! python swig_example/setup.py build_ext --inplace"
   ]
  },
  {
   "cell_type": "markdown",
   "metadata": {},
   "source": [
    "\n",
    "## Step 6: Make profit: \n",
    "\n",
    "First we import the path correctly. "
   ]
  },
  {
   "cell_type": "code",
   "execution_count": 6,
   "metadata": {},
   "outputs": [
    {
     "name": "stdout",
     "output_type": "stream",
     "text": [
      "['/results/CompPhys/SwigExamples', '/app/compphys_python', '/usr/lib/python37.zip', '/usr/lib/python3.7', '/usr/lib/python3.7/lib-dynload', '', '/usr/local/lib/python3.7/dist-packages', '/usr/lib/python3/dist-packages', '/usr/local/lib/python3.7/dist-packages/IPython/extensions', '/results/.ipython', '/results/CompPhys/SwigExamples/swig_example']\n"
     ]
    }
   ],
   "source": [
    "import sys\n",
    "import os\n",
    "\n",
    "sys.path.append( os.path.abspath(\"swig_example\") )\n",
    "\n",
    "print (sys.path)\n",
    "\n",
    "\n"
   ]
  },
  {
   "cell_type": "markdown",
   "metadata": {},
   "source": [
    "Next we import our actual function from \"example.py\""
   ]
  },
  {
   "cell_type": "code",
   "execution_count": 7,
   "metadata": {},
   "outputs": [],
   "source": [
    "from example import *\n"
   ]
  },
  {
   "cell_type": "markdown",
   "metadata": {},
   "source": [
    "And finally, we can use our code: "
   ]
  },
  {
   "cell_type": "code",
   "execution_count": 8,
   "metadata": {},
   "outputs": [
    {
     "name": "stdout",
     "output_type": "stream",
     "text": [
      "6\n"
     ]
    }
   ],
   "source": [
    "a = vector_int([1,2,3])\n",
    "x = sum_int(a)\n",
    "print (x)\n"
   ]
  },
  {
   "cell_type": "markdown",
   "metadata": {},
   "source": [
    "# Success!"
   ]
  },
  {
   "cell_type": "code",
   "execution_count": null,
   "metadata": {},
   "outputs": [],
   "source": []
  }
 ],
 "metadata": {
  "kernelspec": {
   "display_name": "Python 3",
   "language": "python",
   "name": "python3"
  },
  "language_info": {
   "codemirror_mode": {
    "name": "ipython",
    "version": 3
   },
   "file_extension": ".py",
   "mimetype": "text/x-python",
   "name": "python",
   "nbconvert_exporter": "python",
   "pygments_lexer": "ipython3",
   "version": "3.7.4rc2"
  }
 },
 "nbformat": 4,
 "nbformat_minor": 2
}
