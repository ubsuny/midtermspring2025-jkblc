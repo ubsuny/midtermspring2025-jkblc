{
 "cells": [
  {
   "cell_type": "markdown",
   "metadata": {},
   "source": [
    "# ODEs: Projectile motion"
   ]
  },
  {
   "cell_type": "markdown",
   "metadata": {},
   "source": [
    "\n",
    "In one of our problem sets, we simulated the the equation for a projectile. Of course, the answer is:\n",
    "\n",
    "$$\n",
    "\\vec{x}(t) = \\frac{1}{2}\\vec{a}_0t^2 + \\vec{v}_0 t + \\vec{x}_0\n",
    "$$\n",
    "\n",
    "However, we now will be looking into direct solution of the ordinary differential equation using numerical methods. The equation of motion is\n",
    "\n",
    "$$\n",
    "\\ddot{\\vec{r}}(t) = -g\\hat{y}\n",
    "$$\n",
    "\n",
    "We will try three different methods:\n",
    "\n",
    "- Euler \n",
    "$$\\vec{v}_{n+1} = \\vec{v}_n + \\tau \\vec{a}_n$$\n",
    "$$\\vec{x}_{n+1} = \\vec{x}_n + \\tau \\vec{v}_n$$\n",
    "- Euler-Cromer\n",
    "$$\\vec{v}_{n+1} = \\vec{v}_n + \\tau \\vec{a}_n$$\n",
    "$$\\vec{x}_{n+1} = \\vec{x}_n + \\tau \\vec{v}_{n+1}$$\n",
    "- Midpoint\n",
    "$$\\vec{v}_{n+1} = \\vec{v}_n + \\tau \\vec{a}_n$$\n",
    "$$\\vec{x}_{n+1} = \\vec{x}_n + \\frac{\\tau}{2}\\left(\\vec{v}_n + \\vec{v}_{n+1}\\right)$$\n",
    "\n",
    "\n",
    "We will also investigate using air resistance:\n",
    "\n",
    "$$F_D = \\frac{1}{2}\\rho v^2 C_D A$$\n"
   ]
  },
  {
   "cell_type": "code",
   "execution_count": 1,
   "metadata": {},
   "outputs": [],
   "source": [
    "import numpy as np\n",
    "import matplotlib\n",
    "matplotlib.rcParams['legend.fancybox'] = True\n",
    "import matplotlib.pyplot as plt\n",
    "from odes import *"
   ]
  },
  {
   "cell_type": "code",
   "execution_count": 2,
   "metadata": {},
   "outputs": [
    {
     "name": "stdout",
     "output_type": "stream",
     "text": [
      "0.006227586206896551\n"
     ]
    }
   ],
   "source": [
    "# Use air resistance or not?\n",
    "airFlag = True\n",
    "\n",
    "# Method:\n",
    "method = b'Midpoint'\n",
    "# OR: \n",
    "# method = 'Euler'\n",
    "# method = 'Euler-Cromer'\n",
    "# method = 'Midpoint'\n",
    "\n",
    "# Maximum number of steps\n",
    "maxStep = 1000\n",
    "\n",
    "# Time step\n",
    "tau = 0.05\n",
    "\n",
    "# Height\n",
    "h = 1.8 # m\n",
    "\n",
    "# Initial x velocity\n",
    "vix = 40 # m / s   # Around 90 mph\n",
    "\n",
    "\n",
    "\n",
    "# Max time\n",
    "tmax = tau * maxStep\n",
    "\n",
    "#* Physical parameters (mass, Cd, etc.)\n",
    "Cd = 0.35      # Drag coefficient (dimensionless)\n",
    "area = 4.3e-3  # Cross-sectional area of projectile (m^2)\n",
    "grav = -9.81    # Gravitational acceleration (m/s^2)\n",
    "mass = 0.145   # Mass of projectile (kg)\n",
    "if not airFlag  :\n",
    "    rho = 0      # No air resistance\n",
    "else :\n",
    "    rho = 1.2    # Density of air (kg/m^3)\n",
    "air_const = 0.5*Cd*rho*area/mass  # Air resistance constant\n",
    "\n",
    "print(air_const)\n",
    "\n",
    "# State values.\n",
    "t = np.arange(0,tmax,tau)\n",
    "r = np.zeros((maxStep,2))\n",
    "v = np.zeros((maxStep,2))\n",
    "a = np.zeros((maxStep,2))\n",
    "r[0,:] = np.array([0,h])\n",
    "v[0,:] = np.array([vix,0])\n",
    "a[0,:] = np.array([0,grav])"
   ]
  },
  {
   "cell_type": "markdown",
   "metadata": {},
   "source": [
    "### Get true solutions with no air resistance"
   ]
  },
  {
   "cell_type": "code",
   "execution_count": 3,
   "metadata": {},
   "outputs": [],
   "source": [
    "\n",
    "r0 = np.array(r[0]).reshape((2,1))\n",
    "v0 = np.array(v[0]).reshape((2,1))\n",
    "a0 = np.array(a[0]).reshape((2,1))\n",
    "rtrue = r0 + v0 * t + 0.5 * a0*t**2\n",
    "cut = (rtrue[1,:] > 0)\n",
    "rtrue = rtrue.T[cut].T"
   ]
  },
  {
   "cell_type": "markdown",
   "metadata": {},
   "source": [
    "### Simulate the trajectory"
   ]
  },
  {
   "cell_type": "code",
   "execution_count": 4,
   "metadata": {},
   "outputs": [],
   "source": [
    "#* Loop until ball hits ground or max steps completed\n",
    "ri = np.array(r[0])\n",
    "vi = np.array(v[0])\n",
    "ai = np.array(a[0])\n",
    "state = np.array( [ri,vi,ai] )\n",
    "for iStep in np.arange(1,maxStep) :\n",
    "    ti = t[iStep-1]\n",
    "    normV = np.linalg.norm( state[1] )\n",
    "    state[2] =-air_const*normV * state[1]\n",
    "    state[2][1] += grav\n",
    "    #* Calculate the new position and velocity using Euler method\n",
    "    if method == b'Euler' :\n",
    "        state = step_euler(tau, state)\n",
    "    elif method == b'Euler-Cromer' :\n",
    "        state = step_euler_cromer(tau, state)\n",
    "    else : # Midpoint step\n",
    "        state = step_midpoint(tau,state)        \n",
    "    r[iStep] = state[0]\n",
    "    v[iStep] = state[1]\n",
    "    a[iStep] = state[2]"
   ]
  },
  {
   "cell_type": "markdown",
   "metadata": {},
   "source": [
    "### Plot it for $y>0$"
   ]
  },
  {
   "cell_type": "code",
   "execution_count": 5,
   "metadata": {},
   "outputs": [],
   "source": [
    "cut = (r[:,1] > 0)\n",
    "r = r[cut]\n",
    "v = v[cut]\n",
    "a = a[cut]\n",
    "t = t[cut]"
   ]
  },
  {
   "cell_type": "code",
   "execution_count": 6,
   "metadata": {},
   "outputs": [
    {
     "data": {
      "image/png": "[encoded data removed]",
      "text/plain": [
       "<Figure size 432x288 with 1 Axes>"
      ]
     },
     "metadata": {
      "needs_background": "light"
     },
     "output_type": "display_data"
    }
   ],
   "source": [
    "\n",
    "plt.plot(r[:,0],r[:,1], label=\"Numerical\")\n",
    "plt.plot(rtrue[0,:], rtrue[1,:], label=\"Exact (no air)\")\n",
    "plt.legend()\n",
    "plt.show()"
   ]
  },
  {
   "cell_type": "code",
   "execution_count": null,
   "metadata": {},
   "outputs": [],
   "source": []
  }
 ],
 "metadata": {
  "kernelspec": {
   "display_name": "Python 3",
   "language": "python",
   "name": "python3"
  },
  "language_info": {
   "codemirror_mode": {
    "name": "ipython",
    "version": 3
   },
   "file_extension": ".py",
   "mimetype": "text/x-python",
   "name": "python",
   "nbconvert_exporter": "python",
   "pygments_lexer": "ipython3",
   "version": "3.7.5rc1"
  }
 },
 "nbformat": 4,
 "nbformat_minor": 2
}
