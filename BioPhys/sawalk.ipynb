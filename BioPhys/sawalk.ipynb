{
 "cells": [
  {
   "cell_type": "markdown",
   "metadata": {},
   "source": [
    "# Self-avoiding walk\n",
    "\n",
    "Here we implement a self-avoiding walk. We use `n` walkers with `n-1` bonds in a 2-d lattice. \n",
    "\n",
    "This is a (*very bad*) brute force approach where we allow `n` walkers to walk, and just discard collisions. It is extremely intractible as discussed in lecture. "
   ]
  },
  {
   "cell_type": "code",
   "execution_count": 1,
   "metadata": {},
   "outputs": [
    {
     "name": "stdout",
     "output_type": "stream",
     "text": [
      "running build_ext\n",
      "building '_sawalk' extension\n",
      "x86_64-linux-gnu-gcc -pthread -Wno-unused-result -Wsign-compare -DNDEBUG -g -fwrapv -O2 -Wall -g -fstack-protector-strong -Wformat -Werror=format-security -g -fwrapv -O2 -g -fstack-protector-strong -Wformat -Werror=format-security -Wdate-time -D_FORTIFY_SOURCE=2 -fPIC -I/usr/include/python3.7m -c swig/sawalk_wrap.cxx -o build/temp.linux-x86_64-3.7/swig/sawalk_wrap.o -I./ -std=c++11 -O3\n",
      "x86_64-linux-gnu-gcc -pthread -Wno-unused-result -Wsign-compare -DNDEBUG -g -fwrapv -O2 -Wall -g -fstack-protector-strong -Wformat -Werror=format-security -g -fwrapv -O2 -g -fstack-protector-strong -Wformat -Werror=format-security -Wdate-time -D_FORTIFY_SOURCE=2 -fPIC -I/usr/include/python3.7m -c sawalk.cpp -o build/temp.linux-x86_64-3.7/sawalk.o -I./ -std=c++11 -O3\n",
      "\u001b[01m\u001b[Ksawalk.cpp:\u001b[m\u001b[K In member function ‘\u001b[01m\u001b[Kvoid SAWalk::run()\u001b[m\u001b[K’:\n",
      "\u001b[01m\u001b[Ksawalk.cpp:14:16:\u001b[m\u001b[K \u001b[01;35m\u001b[Kwarning: \u001b[m\u001b[Kcomparison of integer expressions of different signedness: ‘\u001b[01m\u001b[Kint\u001b[m\u001b[K’ and ‘\u001b[01m\u001b[Kunsigned int\u001b[m\u001b[K’ [\u001b[01;35m\u001b[K-Wsign-compare\u001b[m\u001b[K]\n",
      "   14 |   while (\u001b[01;35m\u001b[Kwalks < n_walks\u001b[m\u001b[K) {\n",
      "      |          \u001b[01;35m\u001b[K~~~~~~^~~~~~~~~\u001b[m\u001b[K\n",
      "\u001b[01m\u001b[Ksawalk.cpp:23:29:\u001b[m\u001b[K \u001b[01;35m\u001b[Kwarning: \u001b[m\u001b[Kcomparison of integer expressions of different signedness: ‘\u001b[01m\u001b[Kint\u001b[m\u001b[K’ and ‘\u001b[01m\u001b[Kunsigned int\u001b[m\u001b[K’ [\u001b[01;35m\u001b[K-Wsign-compare\u001b[m\u001b[K]\n",
      "   23 |     for (int step = 0; \u001b[01;35m\u001b[Kstep < n_steps\u001b[m\u001b[K; step++) {\n",
      "      |                        \u001b[01;35m\u001b[K~~~~~^~~~~~~~~\u001b[m\u001b[K\n",
      "\u001b[01m\u001b[Ksawalk.cpp:34:25:\u001b[m\u001b[K \u001b[01;35m\u001b[Kwarning: \u001b[m\u001b[Kcomparison of integer expressions of different signedness: ‘\u001b[01m\u001b[Kint\u001b[m\u001b[K’ and ‘\u001b[01m\u001b[Kstd::vector<Site>::size_type\u001b[m\u001b[K’ {aka ‘\u001b[01m\u001b[Klong unsigned int\u001b[m\u001b[K’} [\u001b[01;35m\u001b[K-Wsign-compare\u001b[m\u001b[K]\n",
      "   34 |       for (int i = 0; \u001b[01;35m\u001b[Ki < sites.size()\u001b[m\u001b[K; i++) {\n",
      "      |                       \u001b[01;35m\u001b[K~~^~~~~~~~~~~~~~\u001b[m\u001b[K\n",
      "x86_64-linux-gnu-g++ -pthread -shared -Wl,-O1 -Wl,-Bsymbolic-functions -Wl,-Bsymbolic-functions -Wl,-z,relro -Wl,-Bsymbolic-functions -Wl,-z,relro -g -fstack-protector-strong -Wformat -Werror=format-security -Wdate-time -D_FORTIFY_SOURCE=2 build/temp.linux-x86_64-3.7/swig/sawalk_wrap.o build/temp.linux-x86_64-3.7/sawalk.o -o /results/CompPhys/BioPhys/_sawalk.cpython-37m-x86_64-linux-gnu.so\n"
     ]
    }
   ],
   "source": [
    "! swig -c++ -python swig/sawalk.i\n",
    "! python swig/setup_sawalk.py build_ext --inplace"
   ]
  },
  {
   "cell_type": "code",
   "execution_count": 2,
   "metadata": {},
   "outputs": [],
   "source": [
    "import sys\n",
    "import os\n",
    "sys.path.append( os.path.abspath(\"swig\") )"
   ]
  },
  {
   "cell_type": "code",
   "execution_count": 3,
   "metadata": {},
   "outputs": [],
   "source": [
    "import sawalk\n",
    "import numpy as np\n",
    "import matplotlib.pyplot as plt"
   ]
  },
  {
   "cell_type": "code",
   "execution_count": 4,
   "metadata": {},
   "outputs": [
    {
     "name": "stdout",
     "output_type": "stream",
     "text": [
      " Mean square distance <r^2> =  39.8 \n",
      "  Standard deviation         =  23.536354857963886 \n",
      "  Percentage failed walks    =  0.9206349206349206\n"
     ]
    }
   ],
   "source": [
    "n_steps = 10\n",
    "n_walks = 10\n",
    "s = sawalk.SAWalk(n_steps, n_walks)\n",
    "s.run()\n",
    "r2av = s.get_r2av()\n",
    "r4av = s.get_r4av()\n",
    "stdDev = s.get_stdDev()\n",
    "totalWalks = s.get_walks() + s.get_failed_walks()\n",
    "failedPercent = s.get_failed_walks() / totalWalks\n",
    "print( \" Mean square distance <r^2> = \" , r2av , \"\\n\"\n",
    "         , \" Standard deviation         = \" , stdDev , \"\\n\"\n",
    "         , \" Percentage failed walks    = \" , failedPercent)"
   ]
  },
  {
   "cell_type": "code",
   "execution_count": null,
   "metadata": {},
   "outputs": [],
   "source": []
  }
 ],
 "metadata": {
  "kernelspec": {
   "display_name": "Python 3",
   "language": "python",
   "name": "python3"
  },
  "language_info": {
   "codemirror_mode": {
    "name": "ipython",
    "version": 3
   },
   "file_extension": ".py",
   "mimetype": "text/x-python",
   "name": "python",
   "nbconvert_exporter": "python",
   "pygments_lexer": "ipython3",
   "version": "3.7.5rc1"
  }
 },
 "nbformat": 4,
 "nbformat_minor": 2
}
