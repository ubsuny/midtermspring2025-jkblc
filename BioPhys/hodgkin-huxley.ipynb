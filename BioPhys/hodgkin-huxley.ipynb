{
 "cells": [
  {
   "cell_type": "markdown",
   "metadata": {},
   "source": [
    "# Hodgkin-Huxley Equations\n",
    "\n",
    "Here we will solve the Hodgkin-Huxley differential equations. They are nonlinear ordinary differential equations that must be solved numerically or approximately. We can make use of the differential equation software from `scipy` that we explored previously. "
   ]
  },
  {
   "cell_type": "code",
   "execution_count": 1,
   "metadata": {},
   "outputs": [],
   "source": [
    "import numpy as np\n",
    "import sys\n",
    "import scipy.integrate\n",
    "import scipy.optimize\n",
    "import matplotlib.pyplot as plt"
   ]
  },
  {
   "cell_type": "code",
   "execution_count": 2,
   "metadata": {},
   "outputs": [],
   "source": [
    "\n",
    "class HH:       \n",
    "    def __init__( self, params ):\n",
    "        self.params=params\n",
    "        for iparam,param in params.items():\n",
    "            setattr(self, iparam, params[iparam])\n",
    "        \n",
    "        # resting state is defined by V = 0, dn/dt = dm/dt = dh/dt = 0\n",
    "        # calculate the resting conductances\n",
    "        self.n_0 = self.alpha_n(0) / (self.alpha_n(0) + self.beta_n(0))\n",
    "        self.m_0 = self.alpha_m(0) / (self.alpha_m(0) + self.beta_m(0))\n",
    "        self.h_0 = self.alpha_h(0) / (self.alpha_h(0) + self.beta_h(0))\n",
    "        self.V_0 = -90\n",
    "        \n",
    "        self.init_vals = np.array([ self.V_0, self.n_0, self.m_0, self.h_0 ])\n",
    "        \n",
    "    def set_param(self, parname, parval ):\n",
    "        setattr( self, parname, parval )\n",
    "\n",
    "    # Voltage-dependent rate constants (constant in time)\n",
    "\n",
    "    def alpha_n(self, V):\n",
    "        return 0.01 * (V + 10) / (np.exp((V + 10) / 10) - 1)\n",
    "\n",
    "    def beta_n(self, V):\n",
    "        return 0.125 * np.exp(V / 80)\n",
    "\n",
    "    def alpha_m(self, V):\n",
    "        return 0.1 * (V + 25)  / (np.exp((V + 25) / 10) - 1)\n",
    "\n",
    "    def beta_m(self, V):\n",
    "        return 4 * np.exp(V / 18)\n",
    "\n",
    "    def alpha_h(self, V):\n",
    "        return 0.07 * np.exp(V / 20)\n",
    "\n",
    "    def beta_h(self, V):\n",
    "        return 1 / (np.exp((V + 30) / 10) + 1)\n",
    "\n",
    "    # Membrane current as function of time\n",
    "\n",
    "    def I(self, t):\n",
    "        # In a voltage clamp experiment I = 0, see page 522 of H-H article\n",
    "        return 0\n",
    "        # For propagated action potential see Eqs. (30,31) in the article\n",
    "\n",
    "    # Hodgkin-Huxley equations\n",
    "\n",
    "    def __call__(self, t, Vnmht):\n",
    "        # returns flow vector given extended solution vector [V, n, m, h, t]\n",
    "        V = Vnmht[0]\n",
    "        n = Vnmht[1]\n",
    "        m = Vnmht[2]\n",
    "        h = Vnmht[3]\n",
    "        flow = np.zeros(4)\n",
    "        flow[0] = ( self.I(t) - self.g_K * n**4 * (V - self.V_K) - self.g_Na * m**3 * h * (V - self.V_Na) -\n",
    "                    self.g_l * (V - self.V_l) ) / self.C_M\n",
    "        flow[1] = self.alpha_n(V) * (1 - n) - self.beta_n(V) * n\n",
    "        flow[2] = self.alpha_m(V) * (1 - m) - self.beta_m(V) * m\n",
    "        flow[3] = self.alpha_h(V) * (1 - h) - self.beta_h(V) * h\n",
    "        return flow\n"
   ]
  },
  {
   "cell_type": "code",
   "execution_count": 3,
   "metadata": {},
   "outputs": [
    {
     "name": "stdout",
     "output_type": "stream",
     "text": [
      " Hodgkin-Huxley Fig. 12\n",
      " Initial depolarization V(0) = -90 mV\n"
     ]
    }
   ],
   "source": [
    "# Membrane constants from Table 3\n",
    "params_hh = {\n",
    "    'C_M':1.0,           # membrane capacitance per unit area\n",
    "    'V_Na':-115,         # sodium Nernst potential\n",
    "    'V_K':+12,           # potassium Nernst potential\n",
    "    'V_l':-10.613,       # leakage potential\n",
    "    'g_Na':120,          # sodium conductance\n",
    "    'g_K':36,            # potassium conductance\n",
    "    'g_l':0.3,           # leakage conductance\n",
    "    }\n",
    "hh = HH(params_hh)\n",
    "\n",
    "print(\" Hodgkin-Huxley Fig. 12\")\n",
    "\n",
    "print(\" Initial depolarization V(0) =\", hh.V_0, \"mV\")\n",
    "t = 0\n",
    "Vnmht = hh.init_vals\n",
    "t_max = 6\n",
    "dt = 0.01\n",
    "dt_min, dt_max = [dt, dt]\n",
    "\n",
    "\n",
    "res = scipy.integrate.solve_ivp(fun=hh,t_span=(0,t_max),\n",
    "                                y0=hh.init_vals, \n",
    "                                vectorized=True,\n",
    "                                atol=1e-8,rtol=1e-6,\n",
    "                                method='RK45',\n",
    "                                first_step = 0.001)\n",
    "t = res.t\n",
    "states=res.y"
   ]
  },
  {
   "cell_type": "code",
   "execution_count": 4,
   "metadata": {},
   "outputs": [],
   "source": [
    "states[0,:] /= 100."
   ]
  },
  {
   "cell_type": "code",
   "execution_count": null,
   "metadata": {},
   "outputs": [],
   "source": []
  },
  {
   "cell_type": "code",
   "execution_count": 5,
   "metadata": {},
   "outputs": [
    {
     "data": {
      "image/png": "[encoded data removed]",
      "text/plain": [
       "<Figure size 432x288 with 1 Axes>"
      ]
     },
     "metadata": {
      "needs_background": "light"
     },
     "output_type": "display_data"
    }
   ],
   "source": [
    "plt.plot(t, states.T)\n",
    "plt.legend(labels=['V (decivolts)', 'n', 'm', 'h'])\n",
    "plt.xlabel(\"time (ms)\")\n",
    "plt.ylabel(\"value\")\n",
    "plt.show()"
   ]
  },
  {
   "cell_type": "code",
   "execution_count": null,
   "metadata": {},
   "outputs": [],
   "source": []
  }
 ],
 "metadata": {
  "kernelspec": {
   "display_name": "Python 3",
   "language": "python",
   "name": "python3"
  },
  "language_info": {
   "codemirror_mode": {
    "name": "ipython",
    "version": 3
   },
   "file_extension": ".py",
   "mimetype": "text/x-python",
   "name": "python",
   "nbconvert_exporter": "python",
   "pygments_lexer": "ipython3",
   "version": "3.7.5rc1"
  }
 },
 "nbformat": 4,
 "nbformat_minor": 2
}
