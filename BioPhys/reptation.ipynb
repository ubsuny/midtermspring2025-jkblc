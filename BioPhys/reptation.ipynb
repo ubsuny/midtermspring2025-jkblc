{
 "cells": [
  {
   "cell_type": "markdown",
   "metadata": {},
   "source": [
    "# Reptation\n",
    "\n",
    "Here we implement a self-avoiding walk with the reptation method for state generation. This is much faster than the brute force collision method. "
   ]
  },
  {
   "cell_type": "code",
   "execution_count": 1,
   "metadata": {},
   "outputs": [],
   "source": [
    "%matplotlib widget"
   ]
  },
  {
   "cell_type": "code",
   "execution_count": 2,
   "metadata": {},
   "outputs": [],
   "source": [
    "! swig -c++ -python swig/reptation.i\n",
    "! python swig/setup_reptation.py build_ext --inplace"
   ]
  },
  {
   "cell_type": "code",
   "execution_count": null,
   "metadata": {},
   "outputs": [],
   "source": []
  },
  {
   "cell_type": "code",
   "execution_count": 3,
   "metadata": {},
   "outputs": [],
   "source": [
    "import sys\n",
    "import os\n",
    "sys.path.append( os.path.abspath(\"swig\") )"
   ]
  },
  {
   "cell_type": "code",
   "execution_count": 4,
   "metadata": {},
   "outputs": [],
   "source": [
    "import reptation\n",
    "import numpy as np\n",
    "import matplotlib.pyplot as plt\n",
    "from matplotlib import animation, rc\n",
    "from IPython.display import HTML\n",
    "rc('animation', html='html5')\n"
   ]
  },
  {
   "cell_type": "code",
   "execution_count": 5,
   "metadata": {},
   "outputs": [
    {
     "name": "stdout",
     "output_type": "stream",
     "text": [
      " Mean square distance <r^2> =  1.0 \n",
      "  Standard deviation         =  0.0 \n",
      "  Percentage failed walks    =  0.0\n",
      " Mean square distance <r^2> =  2.5 \n",
      "  Standard deviation         =  0.8660254037844386 \n",
      "  Percentage failed walks    =  0.0\n",
      " Mean square distance <r^2> =  3.8 \n",
      "  Standard deviation         =  2.2271057451320084 \n",
      "  Percentage failed walks    =  0.09999999999999998\n",
      " Mean square distance <r^2> =  7.7 \n",
      "  Standard deviation         =  2.551470164434613 \n",
      "  Percentage failed walks    =  0.0\n",
      " Mean square distance <r^2> =  8.8 \n",
      "  Standard deviation         =  5.582114294781143 \n",
      "  Percentage failed walks    =  0.25\n",
      " Mean square distance <r^2> =  18.6 \n",
      "  Standard deviation         =  7.977468270071651 \n",
      "  Percentage failed walks    =  0.0\n",
      " Mean square distance <r^2> =  23.4 \n",
      "  Standard deviation         =  8.333066662399867 \n",
      "  Percentage failed walks    =  0.0\n",
      " Mean square distance <r^2> =  16.4 \n",
      "  Standard deviation         =  5.642694391866357 \n",
      "  Percentage failed walks    =  0.0\n",
      " Mean square distance <r^2> =  23.0 \n",
      "  Standard deviation         =  10.545141061171256 \n",
      "  Percentage failed walks    =  0.35\n",
      " Mean square distance <r^2> =  25.8 \n",
      "  Standard deviation         =  12.913558765886343 \n",
      "  Percentage failed walks    =  0.0\n",
      " Mean square distance <r^2> =  39.4 \n",
      "  Standard deviation         =  9.32952303175249 \n",
      "  Percentage failed walks    =  0.09999999999999998\n",
      " Mean square distance <r^2> =  58.9 \n",
      "  Standard deviation         =  11.32210227828737 \n",
      "  Percentage failed walks    =  0.050000000000000044\n",
      " Mean square distance <r^2> =  76.8 \n",
      "  Standard deviation         =  20.6871941064998 \n",
      "  Percentage failed walks    =  0.09999999999999998\n",
      " Mean square distance <r^2> =  109.3 \n",
      "  Standard deviation         =  13.494813818649021 \n",
      "  Percentage failed walks    =  0.0\n",
      " Mean square distance <r^2> =  52.2 \n",
      "  Standard deviation         =  26.24804754643667 \n",
      "  Percentage failed walks    =  0.050000000000000044\n",
      " Mean square distance <r^2> =  57.3 \n",
      "  Standard deviation         =  32.250736425700424 \n",
      "  Percentage failed walks    =  0.15000000000000002\n",
      " Mean square distance <r^2> =  85.6 \n",
      "  Standard deviation         =  30.417757971290417 \n",
      "  Percentage failed walks    =  0.19999999999999996\n",
      " Mean square distance <r^2> =  116.7 \n",
      "  Standard deviation         =  35.13559448764171 \n",
      "  Percentage failed walks    =  0.09999999999999998\n",
      " Mean square distance <r^2> =  149.4 \n",
      "  Standard deviation         =  22.87006777427651 \n",
      "  Percentage failed walks    =  0.15000000000000002\n",
      " Mean square distance <r^2> =  193.8 \n",
      "  Standard deviation         =  17.48027459738541 \n",
      "  Percentage failed walks    =  0.050000000000000044\n",
      " Mean square distance <r^2> =  144.6 \n",
      "  Standard deviation         =  34.243831561319176 \n",
      "  Percentage failed walks    =  0.050000000000000044\n",
      " Mean square distance <r^2> =  139.9 \n",
      "  Standard deviation         =  80.49217353258638 \n",
      "  Percentage failed walks    =  0.050000000000000044\n",
      " Mean square distance <r^2> =  200.8 \n",
      "  Standard deviation         =  45.68544626026976 \n",
      "  Percentage failed walks    =  0.0\n",
      " Mean square distance <r^2> =  317.7 \n",
      "  Standard deviation         =  21.29107794358971 \n",
      "  Percentage failed walks    =  0.0\n",
      " Mean square distance <r^2> =  336.6 \n",
      "  Standard deviation         =  30.643759560471583 \n",
      "  Percentage failed walks    =  0.0\n",
      " Mean square distance <r^2> =  268.3 \n",
      "  Standard deviation         =  33.575437450612576 \n",
      "  Percentage failed walks    =  0.050000000000000044\n",
      " Mean square distance <r^2> =  320.6 \n",
      "  Standard deviation         =  63.97374461448997 \n",
      "  Percentage failed walks    =  0.050000000000000044\n",
      " Mean square distance <r^2> =  369.5 \n",
      "  Standard deviation         =  37.43193823461449 \n",
      "  Percentage failed walks    =  0.050000000000000044\n",
      " Mean square distance <r^2> =  369.6 \n",
      "  Standard deviation         =  40.817153256933636 \n",
      "  Percentage failed walks    =  0.09999999999999998\n",
      " Mean square distance <r^2> =  392.2 \n",
      "  Standard deviation         =  21.41868343292858 \n",
      "  Percentage failed walks    =  0.050000000000000044\n",
      " Mean square distance <r^2> =  441.4 \n",
      "  Standard deviation         =  48.16471737693471 \n",
      "  Percentage failed walks    =  0.050000000000000044\n",
      " Mean square distance <r^2> =  384.5 \n",
      "  Standard deviation         =  68.19934017276115 \n",
      "  Percentage failed walks    =  0.0\n",
      " Mean square distance <r^2> =  418.8 \n",
      "  Standard deviation         =  82.39878639882991 \n",
      "  Percentage failed walks    =  0.0\n",
      " Mean square distance <r^2> =  530.8 \n",
      "  Standard deviation         =  48.95467291280839 \n",
      "  Percentage failed walks    =  0.050000000000000044\n",
      " Mean square distance <r^2> =  574.2 \n",
      "  Standard deviation         =  50.94467587491285 \n",
      "  Percentage failed walks    =  0.0\n",
      " Mean square distance <r^2> =  583.8 \n",
      "  Standard deviation         =  64.58142147707859 \n",
      "  Percentage failed walks    =  0.0\n",
      " Mean square distance <r^2> =  650.8 \n",
      "  Standard deviation         =  52.314051649629164 \n",
      "  Percentage failed walks    =  0.0\n",
      " Mean square distance <r^2> =  569.5 \n",
      "  Standard deviation         =  49.81917301601876 \n",
      "  Percentage failed walks    =  0.050000000000000044\n",
      " Mean square distance <r^2> =  688.8 \n",
      "  Standard deviation         =  74.80614947983942 \n",
      "  Percentage failed walks    =  0.0\n",
      " Mean square distance <r^2> =  796.8 \n",
      "  Standard deviation         =  42.172977129913086 \n",
      "  Percentage failed walks    =  0.0\n"
     ]
    }
   ],
   "source": [
    "n_steps = 40\n",
    "n_walks = 20\n",
    "config = reptation.Reptation.STAIR\n",
    "r = reptation.Reptation(n_steps, n_walks, config, True)\n",
    "r.run()\n",
    "r2av_v = r.get_r2av()\n",
    "stdDev_v = r.get_stdDev()\n",
    "successPercent_v = r.get_successPercent()\n",
    "for i in range(len(r2av_v)):\n",
    "    r2av = r2av_v[i]\n",
    "    stdDev = stdDev_v[i]\n",
    "    failedPercent = 1. - successPercent_v[i]\n",
    "    print( \" Mean square distance <r^2> = \" , r2av , \"\\n\"\n",
    "             , \" Standard deviation         = \" , stdDev , \"\\n\"\n",
    "             , \" Percentage failed walks    = \" , failedPercent)"
   ]
  },
  {
   "cell_type": "code",
   "execution_count": null,
   "metadata": {},
   "outputs": [],
   "source": []
  },
  {
   "cell_type": "code",
   "execution_count": 6,
   "metadata": {},
   "outputs": [],
   "source": [
    "class AnimatedScatter(object):\n",
    "    \"\"\"An animated scatter plot using matplotlib.animations.FuncAnimation.\"\"\"\n",
    "    def __init__(self, snakes):\n",
    "        self.snakes = snakes\n",
    "        self.stream = self.data_stream()\n",
    "        \n",
    "        # Setup the figure and axes...\n",
    "        self.fig, self.ax = plt.subplots()\n",
    "        # Then setup FuncAnimation.\n",
    "        self.ani = animation.FuncAnimation(self.fig, self.update, interval=100, frames=500,\n",
    "                                           init_func=self.setup_plot, blit=True)\n",
    "\n",
    "    def setup_plot(self):\n",
    "\n",
    "        \"\"\"Initial drawing of the scatter plot.\"\"\"\n",
    "        x, y = next(self.stream).T\n",
    "        self.scat = self.ax.scatter(x, y, animated=True)\n",
    "        self.ax.axis([-30, 30, -30, 30])\n",
    "\n",
    "        # For FuncAnimation's sake, we need to return the artist we'll be using\n",
    "        # Note that it expects a sequence of artists, thus the trailing comma.\n",
    "        return self.scat,\n",
    "    \n",
    "\n",
    "    def data_stream(self):\n",
    "        \n",
    "        i = 0\n",
    "        while True:\n",
    "            if i >= len(self.snakes):\n",
    "                i = 0\n",
    "            snake = self.snakes[i]\n",
    "            x = [0.] * len(snake)\n",
    "            y = [0.] * len(snake)            \n",
    "            for islither,slither in enumerate(snake):\n",
    "                x[islither] = slither[0]\n",
    "                y[islither] = slither[1]\n",
    "            i += 1\n",
    "            yield np.c_ [x,y]\n",
    "            \n",
    "\n",
    "    def update(self, i):\n",
    "        \"\"\"Update the scatter plot.\"\"\"\n",
    "        data = next(self.stream)\n",
    "\n",
    "        # Set x and y data...\n",
    "        self.scat.set_offsets(data)\n",
    "\n",
    "        # We need to return the updated artist for FuncAnimation to draw..\n",
    "        # Note that it expects a sequence of artists, thus the trailing comma.\n",
    "        return self.scat,"
   ]
  },
  {
   "cell_type": "code",
   "execution_count": 7,
   "metadata": {},
   "outputs": [],
   "source": [
    "snakes_plot = []\n",
    "for snake in r.get_snakes():\n",
    "    vals = []\n",
    "    for joint in snake : \n",
    "        vals.append( [joint.x, joint.y] )\n",
    "    snakes_plot.append(vals)"
   ]
  },
  {
   "cell_type": "code",
   "execution_count": 8,
   "metadata": {},
   "outputs": [
    {
     "data": {
      "application/vnd.jupyter.widget-view+json": {
       "model_id": "f65d5d3eb5324b23b2ed3e7a70d29c1d",
       "version_major": 2,
       "version_minor": 0
      },
      "image/png": "[encoded data removed]",
      "text/html": [
       "\n",
       "            <div style=\"display: inline-block;\">\n",
       "                <div class=\"jupyter-widgets widget-label\" style=\"text-align: center;\">\n",
       "                    Figure\n",
       "                </div>\n",
       "                <img src='data:image/png;base64,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' width=640.0/>\n",
       "            </div>\n",
       "        "
      ],
      "text/plain": [
       "Canvas(toolbar=Toolbar(toolitems=[('Home', 'Reset original view', 'home', 'home'), ('Back', 'Back to previous …"
      ]
     },
     "metadata": {},
     "output_type": "display_data"
    }
   ],
   "source": [
    "a = AnimatedScatter(snakes=snakes_plot)"
   ]
  },
  {
   "cell_type": "code",
   "execution_count": null,
   "metadata": {},
   "outputs": [],
   "source": []
  },
  {
   "cell_type": "code",
   "execution_count": null,
   "metadata": {},
   "outputs": [],
   "source": []
  }
 ],
 "metadata": {
  "kernelspec": {
   "display_name": "Python 3 (ipykernel)",
   "language": "python",
   "name": "python3"
  },
  "language_info": {
   "codemirror_mode": {
    "name": "ipython",
    "version": 3
   },
   "file_extension": ".py",
   "mimetype": "text/x-python",
   "name": "python",
   "nbconvert_exporter": "python",
   "pygments_lexer": "ipython3",
   "version": "3.12.3"
  }
 },
 "nbformat": 4,
 "nbformat_minor": 4
}
