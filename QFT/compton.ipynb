{
 "cells": [
  {
   "cell_type": "markdown",
   "metadata": {},
   "source": [
    "# Compton scattering \n",
    "\n",
    "Here we will be using the VEGAS algorithm for integrals. It requires the `vegas` package. This can be installed ordinarily via `pip` to a python distribution, but for demonstration we will download and make it ourselves. Hence, we need to do this before running it:\n",
    "\n",
    "```\n",
    "git clone https://github.com/gplepage/vegas.git\n",
    "cd vegas\n",
    "make\n",
    "```"
   ]
  },
  {
   "cell_type": "code",
   "execution_count": 1,
   "metadata": {},
   "outputs": [],
   "source": [
    "from cmath import *\n",
    "import vegas\n",
    "\n",
    "class Compton:\n",
    "    def __init__(self, omega):\n",
    "        self.omega = omega             # incident photon angular frequency\n",
    "        self.ep_10 = complex(0,0)      # x-component of incident photon polarization\n",
    "        self.ep_20 = complex(0,0)      # y-component\n",
    "        self.ep_1 = complex(0,0)       # in-plane scattered photon polarization\n",
    "        self.ep_2 = complex(0,0)       # perpendicular component\n",
    "\n",
    "    def __call__(self,x):\n",
    "        theta = x[0]\n",
    "        phi = x[1]\n",
    "        omega_prime = self.omega / (1 + self.omega * (1 - cos(theta)))\n",
    "\n",
    "        # compute polarization dot products\n",
    "        ep_star_dot_ep0 = ((self.ep_1 * cos(theta) * cos(phi) - self.ep_2 * sin(phi)) * self.ep_10).conjugate() + ((self.ep_1 * cos(theta) * sin(phi) + self.ep_2 * cos(phi)) * self.ep_20).conjugate()\n",
    "\n",
    "        ep_dot_ep0 = (self.ep_1 * cos(theta) * cos(phi) - self.ep_2 * sin(phi)) * self.ep_10 + (self.ep_1 * cos(theta) * sin(phi) + self.ep_2 * cos(phi)) * self.ep_20\n",
    "\n",
    "        return abs( pow(omega_prime / self.omega, 2.0) * ( abs(ep_star_dot_ep0) + (self.omega - omega_prime)**2 / (4 * self.omega * omega_prime) * (1 + abs(ep_star_dot_ep0) - abs(ep_dot_ep0))) )"
   ]
  },
  {
   "cell_type": "code",
   "execution_count": 2,
   "metadata": {},
   "outputs": [
    {
     "name": "stdout",
     "output_type": "stream",
     "text": [
      " Relativistic Compton Scattering Cross Sections using VEGAS\n",
      "\n",
      "7.9622(12)\n"
     ]
    }
   ],
   "source": [
    "print (\" Relativistic Compton Scattering Cross Sections using VEGAS\\n\")\n",
    "\n",
    "\n",
    "regn = [ [0.0,  pi],       # 0 < theta < pi\n",
    "         [0.0, 2 * pi]]    # 0 < phi < 2 pi\n",
    "compton = Compton(omega=0.0024)    \n",
    "# define and normalize polarization vectors\n",
    "compton.ep_10 = 1.0\n",
    "compton.ep_20 = 0.0\n",
    "compton.ep_1 = 1.0\n",
    "compton.ep_2 = 0.0\n",
    "n0 = sqrt( abs(compton.ep_10) + abs(compton.ep_20))\n",
    "n = sqrt( abs(compton.ep_1) + abs(compton.ep_2))\n",
    "compton.ep_10 /= n0\n",
    "compton.ep_20 /= n0\n",
    "compton.ep_1 /= n\n",
    "compton.ep_2 /= n\n",
    "\n",
    "init = 0                       # initialize grid\n",
    "ncall = 50000                  # number of function evaluations\n",
    "itmx = 10                      # number of iterations\n",
    "nprn = 0                       # prsome info after each iteration\n",
    "\n",
    "# assign integration volume to integrator\n",
    "integ = vegas.Integrator(regn)\n",
    "\n",
    "# adapt to the integrand; discard results\n",
    "integ(compton, nitn=5, neval=1000)\n",
    "\n",
    "# do the final integral\n",
    "result = integ(compton, nitn=10, neval=10000)\n",
    "\n",
    "print (result)"
   ]
  },
  {
   "cell_type": "code",
   "execution_count": null,
   "metadata": {},
   "outputs": [],
   "source": []
  }
 ],
 "metadata": {
  "kernelspec": {
   "display_name": "Python 3",
   "language": "python",
   "name": "python3"
  },
  "language_info": {
   "codemirror_mode": {
    "name": "ipython",
    "version": 3
   },
   "file_extension": ".py",
   "mimetype": "text/x-python",
   "name": "python",
   "nbconvert_exporter": "python",
   "pygments_lexer": "ipython3",
   "version": "3.7.5rc1"
  }
 },
 "nbformat": 4,
 "nbformat_minor": 2
}
