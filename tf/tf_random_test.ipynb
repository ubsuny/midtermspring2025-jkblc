{
 "cells": [
  {
   "cell_type": "code",
   "execution_count": null,
   "id": "unusual-husband",
   "metadata": {},
   "outputs": [],
   "source": [
    "%pylab inline\n",
    "import tensorflow as tf\n",
    "import tensorflow_probability as tfp"
   ]
  },
  {
   "cell_type": "markdown",
   "id": "earned-boutique",
   "metadata": {},
   "source": [
    "## Tensorflow.random\n",
    "[https://www.tensorflow.org/guide/random_numbers]\n",
    "> TensorFlow provides a set of pseudo-random number generators (RNG), in the tf.random module.\n",
    "> TensorFlow provides two approaches for controlling the random number generation process:\n",
    "> Through the explicit use of tf.random.Generator objects. Each such object maintains a state (in tf.Variable) that will be changed after each number generation.\n",
    "Through the purely-functional stateless random functions like tf.random.stateless_uniform. Calling these functions with the same arguments (which include the seed) and on the same device will always produce the same results."
   ]
  },
  {
   "cell_type": "markdown",
   "id": "studied-specification",
   "metadata": {},
   "source": [
    "### old tf1 rng, now discouraged"
   ]
  },
  {
   "cell_type": "code",
   "execution_count": null,
   "id": "alternative-wrapping",
   "metadata": {},
   "outputs": [],
   "source": [
    "tf.random.uniform(shape=[10]).numpy()"
   ]
  },
  {
   "cell_type": "code",
   "execution_count": null,
   "id": "divided-middle",
   "metadata": {},
   "outputs": [],
   "source": [
    "def test(generator, name, remark, eyeballtest):\n",
    "    print (\" \" + name + \"() \" + remark)\n",
    "\n",
    "    print (\" checking period ...\")\n",
    "    start = generator()\n",
    "    max_steps = 100000\n",
    "    for i in range(max_steps):\n",
    "        if generator() == start:\n",
    "            print (\" repeats after \" + repr(i) + \" steps\")\n",
    "            break\n",
    "    if i+1 >= max_steps:\n",
    "        print (\" period larger than \" + repr(max_steps))\n",
    "\n",
    "    start_time = time.perf_counter()\n",
    "    bins = 100000\n",
    "    print (\" binning \" + repr(max_steps) + \" tries in \" + repr(bins) + \" bins\")\n",
    "    bin_a = np.zeros(bins)\n",
    "    for i in range(max_steps):\n",
    "        b = int(generator() * bins)\n",
    "        if b >= 0 and b < bins:\n",
    "            bin_a[b] += 1\n",
    "    expect = max_steps / float(bins)\n",
    "    chisqr = np.sum( (bin_a - expect)**2 ) / expect\n",
    "    cpu_time = time.perf_counter() - start_time\n",
    "    print (\" chi-squar/d.o.f. = \" + repr(chisqr/(bins-1.0)))\n",
    "    print (\" CPU time = \" + repr(cpu_time) + \" seconds\")\n",
    "\n",
    "    for i in range( len(eyeballtest) ):\n",
    "        eyeballtest[i] = [generator(), generator()]"
   ]
  },
  {
   "cell_type": "code",
   "execution_count": null,
   "id": "eleven-corporation",
   "metadata": {},
   "outputs": [],
   "source": [
    "def tfuniform():                             # tensorflow uniform\n",
    "    #global poor_seed\n",
    "    #seed = poor_seed\n",
    "    return  tf.random.uniform(shape=[]).numpy()"
   ]
  },
  {
   "cell_type": "code",
   "execution_count": null,
   "id": "impressive-guide",
   "metadata": {},
   "outputs": [],
   "source": [
    "tfuniform_pairs = np.zeros( (100000, 2) )\n",
    "test(tfuniform, \"tfuniform\", \"tfuniform\", tfuniform_pairs)"
   ]
  },
  {
   "cell_type": "code",
   "execution_count": null,
   "id": "shared-enlargement",
   "metadata": {},
   "outputs": [],
   "source": [
    "f1 = plt.figure(1, figsize=(13,13))\n",
    "plt.plot(tfuniform_pairs[:,0], tfuniform_pairs[:,1],'b.')\n",
    "plt.show()"
   ]
  },
  {
   "cell_type": "markdown",
   "id": "tribal-front",
   "metadata": {},
   "source": [
    "### new tf2 rng"
   ]
  },
  {
   "cell_type": "code",
   "execution_count": null,
   "id": "genetic-conversation",
   "metadata": {},
   "outputs": [],
   "source": [
    "rn1 = tf.random.get_global_generator()\n",
    "print(rn1.uniform(shape=[2, 3]))"
   ]
  },
  {
   "cell_type": "code",
   "execution_count": null,
   "id": "excessive-suicide",
   "metadata": {},
   "outputs": [],
   "source": [
    "def tf2uniform():                             # tensorflow uniform\n",
    "    #global poor_seed\n",
    "    #seed = poor_seed\n",
    "    return  rn1.uniform(shape=[]).numpy()\n"
   ]
  },
  {
   "cell_type": "code",
   "execution_count": null,
   "id": "hungarian-carbon",
   "metadata": {},
   "outputs": [],
   "source": [
    "tf2uniform_pairs = np.zeros( (100000, 2) )\n",
    "test(tf2uniform, \"tfuniform\", \"tfuniform\", tf2uniform_pairs)"
   ]
  },
  {
   "cell_type": "code",
   "execution_count": null,
   "id": "norman-receptor",
   "metadata": {},
   "outputs": [],
   "source": [
    "f2 = plt.figure(1, figsize=(13,13))\n",
    "plt.plot(tf2uniform_pairs[:,0], tf2uniform_pairs[:,1],'r.')\n",
    "plt.show()"
   ]
  },
  {
   "cell_type": "markdown",
   "id": "loose-testing",
   "metadata": {},
   "source": [
    "## using a seed"
   ]
  },
  {
   "cell_type": "code",
   "execution_count": null,
   "id": "nearby-newcastle",
   "metadata": {},
   "outputs": [],
   "source": [
    "rn2 = tf.random.Generator.from_seed(1, alg='philox')"
   ]
  },
  {
   "cell_type": "markdown",
   "id": "criminal-darwin",
   "metadata": {},
   "source": [
    "Different algorithms possible\n",
    "> the RNG algorithm. Possible values are tf.random.Algorithm.PHILOX for the Philox algorithm and tf.random.Algorithm.THREEFRY for the ThreeFry algorithm (see paper 'Parallel Random Numbers: As Easy as 1, 2, 3' [https://www.thesalmons.org/john/random123/papers/random123sc11.pdf]). The string names \"philox\" and \"threefry\" can also be used. Note PHILOX guarantees the same numbers are produced (given the same random state) across all architectures (CPU, GPU, XLA etc)."
   ]
  },
  {
   "cell_type": "code",
   "execution_count": null,
   "id": "authentic-document",
   "metadata": {},
   "outputs": [],
   "source": [
    "def tf2seed():                             # tensorflow uniform\n",
    "    #global poor_seed\n",
    "    #seed = poor_seed\n",
    "    return  rn2.uniform(shape=[]).numpy()"
   ]
  },
  {
   "cell_type": "code",
   "execution_count": null,
   "id": "false-sleep",
   "metadata": {},
   "outputs": [],
   "source": [
    "tf2seed_pairs = np.zeros( (100000, 2) )\n",
    "test(tf2seed, \"tfseed\", \"tfseed\", tf2seed_pairs)"
   ]
  },
  {
   "cell_type": "code",
   "execution_count": null,
   "id": "matched-premises",
   "metadata": {},
   "outputs": [],
   "source": [
    "f3 = plt.figure(1, figsize=(13,13))\n",
    "plt.plot(tf2seed_pairs[:,0], tf2seed_pairs[:,1],'g.')\n",
    "plt.show()"
   ]
  },
  {
   "cell_type": "markdown",
   "id": "tight-quarterly",
   "metadata": {},
   "source": [
    "## based on a non-deterministic state\n",
    "> Another way to create a generator is with Generator.from_non_deterministic_state. A generator created this way will start from a non-deterministic state, depending on e.g. time and OS."
   ]
  },
  {
   "cell_type": "code",
   "execution_count": null,
   "id": "raised-superior",
   "metadata": {},
   "outputs": [],
   "source": [
    "rn3 = tf.random.Generator.from_non_deterministic_state()"
   ]
  },
  {
   "cell_type": "code",
   "execution_count": null,
   "id": "threatened-salvation",
   "metadata": {},
   "outputs": [],
   "source": [
    "def tf2nondet():                             # tensorflow uniform\n",
    "    #global poor_seed\n",
    "    #seed = poor_seed\n",
    "    return  rn3.uniform(shape=[]).numpy()"
   ]
  },
  {
   "cell_type": "code",
   "execution_count": null,
   "id": "wrong-detail",
   "metadata": {},
   "outputs": [],
   "source": [
    "tf2nondet_pairs = np.zeros( (100000, 2) )\n",
    "test(tf2nondet, \"tfnondet\", \"tfnondet\", tf2nondet_pairs)"
   ]
  },
  {
   "cell_type": "code",
   "execution_count": null,
   "id": "rising-federal",
   "metadata": {},
   "outputs": [],
   "source": [
    "f4 = plt.figure(1, figsize=(13,13))\n",
    "plt.plot(tf2nondet_pairs[:,0], tf2nondet_pairs[:,1],'g.')\n",
    "plt.show()"
   ]
  },
  {
   "cell_type": "code",
   "execution_count": null,
   "id": "monetary-trigger",
   "metadata": {},
   "outputs": [],
   "source": []
  }
 ],
 "metadata": {
  "kernelspec": {
   "display_name": "compphys_tf2.4",
   "language": "python",
   "name": "compphys_tf2.4"
  },
  "language_info": {
   "codemirror_mode": {
    "name": "ipython",
    "version": 3
   },
   "file_extension": ".py",
   "mimetype": "text/x-python",
   "name": "python",
   "nbconvert_exporter": "python",
   "pygments_lexer": "ipython3",
   "version": "3.8.8"
  }
 },
 "nbformat": 4,
 "nbformat_minor": 5
}
