{
 "cells": [
  {
   "cell_type": "markdown",
   "metadata": {},
   "source": [
    "# Compute energy levels of Hydrogen Atom with Gaussian Linear Combination of Atomic Orbitals \n",
    "\n",
    "\n",
    "Here we will calculate a linear combination of atomic orbitals (LCAO) for the Hydrogen atom. Slater orbitals are exact in this case, so let's try a Gaussian orbital to demonstrate the procedure. \n"
   ]
  },
  {
   "cell_type": "markdown",
   "metadata": {},
   "source": [
    "### Import path and add our software"
   ]
  },
  {
   "cell_type": "code",
   "execution_count": 1,
   "metadata": {},
   "outputs": [],
   "source": [
    "import os\n",
    "import sys\n",
    "import scipy.optimize"
   ]
  },
  {
   "cell_type": "markdown",
   "metadata": {},
   "source": [
    "### Add the cpt BFGS minimization, initialize constants for 2 Gaussians"
   ]
  },
  {
   "cell_type": "code",
   "execution_count": 2,
   "metadata": {},
   "outputs": [],
   "source": [
    "import numpy as np\n",
    "\n",
    "# physical constants\n",
    "hbar = 1.0                  # Planck's constant / 2pi\n",
    "m = 1.0                     # electron mass\n",
    "e = 1.0                     # proton charge\n",
    "\n",
    "# LCAO variational wave function\n",
    "# psi = sum( d_i g(alpha_i, r) ) for i = 0, 1, 2, ...\n",
    "# assume d_0 = 1 and vary alpha_0, d_1, alpha_1, d_2, alpha_2, ...\n",
    "# vector of variational parameters\n",
    "p = np.array([ 1.0, 1.0, 1.0, 0.5 ])       # initial guess for [ d_0, alpha_0, d_1, alpha_1 ]\n",
    "accuracy = 1.0e-6           # desired accuracy for numerical operations"
   ]
  },
  {
   "cell_type": "markdown",
   "metadata": {},
   "source": [
    "### Define the g function, matrix elements, minimization function and derivative"
   ]
  },
  {
   "cell_type": "code",
   "execution_count": 3,
   "metadata": {},
   "outputs": [],
   "source": [
    "class LCAOGauss:\n",
    "    def __init__(self, p):\n",
    "        self.d = p[0::2]\n",
    "        self.alpha = p[1::2]        \n",
    "        self.ii = np.arange(len(self.alpha))\n",
    "        self.jj = np.arange(len(self.alpha))\n",
    "        self.i, self.j = np.meshgrid(self.ii,self.jj)        \n",
    "\n",
    "    def Sij(self):  # matrix elements of S\n",
    "        return (np.pi / (self.alpha[self.i] + self.alpha[self.j]))**(3.0/2.0)\n",
    "\n",
    "    def Tij(self):  # matrix elements of T\n",
    "        return (3.0 * hbar**2 / m * self.alpha[self.i] * self.alpha[self.j] *\n",
    "                np.pi**(3.0/2.0) / (self.alpha[self.i] + self.alpha[self.j])**(5.0/2.0))\n",
    "    \n",
    "    def Vij(self):  # matrix elements of V\n",
    "        return - 2.0 * e**2 * np.pi / (self.alpha[self.i] + self.alpha[self.j])\n",
    "\n",
    "    def E(self):            # energy as function of N alpha_i and d_i\n",
    "        S = H = 0.0        \n",
    "        fac = (self.alpha[self.i] * self.alpha[self.j])**(3.0/4.0)* self.d[self.i] * self.d[self.j]\n",
    "        Hvals = fac * (self.Tij() + self.Vij() )\n",
    "        Svals = fac * self.Sij()\n",
    "        H = np.sum(Hvals)\n",
    "        S = np.sum(Svals)\n",
    "        return H / S\n",
    "\n",
    "    def __call__(self, p):                # function for BFGS minimization\n",
    "        # assume p = [ d0, alpha_0, d_1, alpha_1, d_2, alpha_2, ... ]\n",
    "        self.alpha = np.where( p[1::2] > accuracy, p[1::2], accuracy)\n",
    "        self.d = p[::2]    \n",
    "        e = self.E()\n",
    "        return e\n",
    "\n",
    "    def norm(self):                # norm of LCAO\n",
    "        Sijvals = self.Sij() * self.d[self.i] * self.d[self.j]\n",
    "        return np.linalg.norm(Sijvals)\n"
   ]
  },
  {
   "cell_type": "markdown",
   "metadata": {},
   "source": [
    "### Drive the simulation"
   ]
  },
  {
   "cell_type": "code",
   "execution_count": 4,
   "metadata": {},
   "outputs": [
    {
     "name": "stdout",
     "output_type": "stream",
     "text": [
      " Variational method for Hydrogen using Gaussian LCAO\n",
      " Minimize <psi|H|psi>/<psi|psi> using BFGS algorithm\n",
      "  i   alpha       d\n",
      "  0 1.33250 0.01072\n",
      "  1 0.20153 0.03208\n"
     ]
    }
   ],
   "source": [
    "\n",
    "print(\" Variational method for Hydrogen using Gaussian LCAO\")\n",
    "print(\" Minimize <psi|H|psi>/<psi|psi> using BFGS algorithm\")\n",
    "lcao = LCAOGauss(p)\n",
    "res = scipy.optimize.minimize(lcao, p, tol=accuracy)\n",
    "alpha = res.x[1::2]\n",
    "d = res.x[::2]\n",
    "A = lcao.norm()\n",
    "d /= A\n",
    "\n",
    "print( \"%3s %7s %7s\" % ( 'i', 'alpha', 'd') )\n",
    "for i in range(len(alpha)):\n",
    "    print ( \"%3d %6.5f %6.5f\" % (i, alpha[i], d[i]) )"
   ]
  }
 ],
 "metadata": {
  "kernelspec": {
   "display_name": "Python 3",
   "language": "python",
   "name": "python3"
  },
  "language_info": {
   "codemirror_mode": {
    "name": "ipython",
    "version": 3
   },
   "file_extension": ".py",
   "mimetype": "text/x-python",
   "name": "python",
   "nbconvert_exporter": "python",
   "pygments_lexer": "ipython3",
   "version": "3.7.5rc1"
  }
 },
 "nbformat": 4,
 "nbformat_minor": 2
}
