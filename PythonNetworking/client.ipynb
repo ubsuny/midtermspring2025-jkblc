{
 "cells": [
  {
   "cell_type": "code",
   "execution_count": 3,
   "id": "pressed-focus",
   "metadata": {},
   "outputs": [],
   "source": [
    "import socket  # Import socket module"
   ]
  },
  {
   "cell_type": "code",
   "execution_count": 4,
   "id": "handed-password",
   "metadata": {},
   "outputs": [
    {
     "name": "stdout",
     "output_type": "stream",
     "text": [
      "Answer: b'That is some interesting data'\n"
     ]
    }
   ],
   "source": [
    "s = socket.socket()  # Create a socket object\n",
    "port = 4242  # service port\n",
    "host = 'locahost' # host your service is running\n",
    "s.connect(('localhost', port)) # connect\n",
    "\n",
    "# generate some data\n",
    "x = 42\n",
    "st = str(x)\n",
    "byt = st.encode()\n",
    "s.send(byt) # send it\n",
    "\n",
    "# check for answer\n",
    "while True:\n",
    "    data = s.recv(1024)\n",
    "    if data:\n",
    "        print(\"Answer: {}\".format(data))\n",
    "        x += 1\n",
    "        break\n",
    "\n",
    "    else:\n",
    "        print('no data received')"
   ]
  },
  {
   "cell_type": "code",
   "execution_count": null,
   "id": "logical-mustang",
   "metadata": {},
   "outputs": [],
   "source": []
  }
 ],
 "metadata": {
  "kernelspec": {
   "display_name": "Python 3",
   "language": "python",
   "name": "python3"
  },
  "language_info": {
   "codemirror_mode": {
    "name": "ipython",
    "version": 3
   },
   "file_extension": ".py",
   "mimetype": "text/x-python",
   "name": "python",
   "nbconvert_exporter": "python",
   "pygments_lexer": "ipython3",
   "version": "3.7.3"
  }
 },
 "nbformat": 4,
 "nbformat_minor": 5
}
