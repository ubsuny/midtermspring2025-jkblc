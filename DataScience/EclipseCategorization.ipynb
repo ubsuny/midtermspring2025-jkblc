{
  "cells": [
    {
      "cell_type": "markdown",
      "metadata": {
        "colab_type": "text",
        "id": "view-in-github"
      },
      "source": [
        "<a href=\"https://colab.research.google.com/github/ubsuny/CompPhys/blob/EclipseExample/DataScience/EclipseCategorization.ipynb\" target=\"_parent\"><img src=\"https://colab.research.google.com/assets/colab-badge.svg\" alt=\"Open In Colab\"/></a>"
      ]
    },
    {
      "cell_type": "markdown",
      "metadata": {
        "id": "S0JnvbdG5n3m"
      },
      "source": [
        "# Categorization of solar eclipses\n",
        "\n",
        "[CCby4.0](https://creativecommons.org/licenses/by/4.0/), Tim Thomay, 2024)\n",
        "\n",
        "Ideas based on this repository: (https://github.com/MrVtR/Solar_And_Lunar_Eclipses_Machine_Learning_Classification_Project/tree/main)\n",
        "\n",
        "using data from: (https://www.kaggle.com/datasets/nasa/solar-eclipses)\n"
      ]
    },
    {
      "cell_type": "code",
      "execution_count": null,
      "metadata": {
        "id": "tBhSyh_j5mwU",
        "metadata": {}
      },
      "outputs": [],
      "source": [
        "#import tensorflow as tf\n",
        "import numpy as np\n",
        "import pandas as pd\n",
        "import matplotlib.pyplot as plt"
      ]
    },
    {
      "cell_type": "markdown",
      "metadata": {
        "id": "ULKqRGCzxa9_"
      },
      "source": [
        "## Get eclipse data"
      ]
    },
    {
      "cell_type": "code",
      "execution_count": null,
      "metadata": {
        "id": "99R6t14O7e9r",
        "metadata": {}
      },
      "outputs": [],
      "source": [
        "url = \"https://raw.githubusercontent.com/ubsuny/CompPhys/main/DataScience/solar.csv\"\n",
        "dfSolar = pd.read_csv(url)\n",
        "dfSolar.info()"
      ]
    },
    {
      "cell_type": "markdown",
      "metadata": {
        "id": "tm4SNsPxxfgq"
      },
      "source": [
        "### Convert Latitude / Longitude data to computer readable format"
      ]
    },
    {
      "cell_type": "code",
      "execution_count": null,
      "metadata": {
        "id": "wV_6SbJEYYB-",
        "metadata": {}
      },
      "outputs": [],
      "source": [
        "def lat_conv(lat):\n",
        "  if lat[-1] == \"S\":\n",
        "    lat = float(lat[:-1])*-1\n",
        "  else:\n",
        "    lat = float(lat[:-1])\n",
        "  return lat\n",
        "def lon_conv(lon):\n",
        "  if lon[-1] == \"W\":\n",
        "    lon = float(lon[:-1])*-1\n",
        "  else:\n",
        "    lon = float(lon[:-1])\n",
        "  return lon\n"
      ]
    },
    {
      "cell_type": "code",
      "execution_count": null,
      "metadata": {
        "id": "mDDr-R0PXlzZ",
        "metadata": {}
      },
      "outputs": [],
      "source": [
        "dfSolar['declat'] = dfSolar.apply(lambda row: lat_conv(row['Latitude']),axis=1)\n",
        "dfSolar['declon'] = dfSolar.apply(lambda row: lon_conv(row['Longitude']),axis=1)"
      ]
    },
    {
      "cell_type": "markdown",
      "metadata": {
        "id": "0ONY5Kffwhsv"
      },
      "source": [
        "## types of solar eclipse\n",
        "from [wikipedia](https://en.wikipedia.org/wiki/Solar_eclipse?wprov=sfti1#Types):\n",
        "\n",
        "There are four types of solar eclipses:\n",
        "\n",
        "- A total eclipse occurs on average every 18 months when the dark silhouette of the Moon completely obscures the intensely bright light of the Sun, allowing the much fainter solar corona to be visible. During any one eclipse, totality occurs at best only in a narrow track on the surface of Earth. This narrow track is called the path of totality.\n",
        "- An annular eclipse occurs once every one or two years when the Sun and Moon are exactly in line with Earth, but the apparent size of the Moon is smaller than that of the Sun. Hence the Sun appears as a very bright ring, or annulus, surrounding the dark disk of the Moon.\n",
        "- A hybrid eclipse (also called annular/total eclipse) shifts between a total and annular eclipse. At certain points on the surface of Earth, it appears as a total eclipse, whereas at other points it appears as annular. Hybrid eclipses are comparatively rare.\n",
        "- A partial eclipse occurs about twice a year, when the Sun and Moon are not exactly in line with Earth and the Moon only partially obscures the Sun. This phenomenon can usually be seen from a large part of Earth outside of the track of an annular or total eclipse. However, some eclipses can be seen only as a partial eclipse, because the umbra passes above Earth's polar regions and never intersects Earth's surface. Partial eclipses are virtually unnoticeable in terms of the Sun's brightness, as it takes well over 90% coverage to notice any darkening at all. Even at 99%, it would be no darker than civil twilight."
      ]
    },
    {
      "cell_type": "code",
      "execution_count": null,
      "metadata": {
        "id": "CM6D6eNBtZ3j",
        "metadata": {}
      },
      "outputs": [],
      "source": [
        "tlist = dfSolar['Eclipse Type'].unique()\n",
        "typeselector = [\"T\",\"A\",\"P\",\"H\"]\n",
        "tlist = typeselector\n",
        "clist = plt.cm.gist_rainbow(np.linspace(0, 1, len(tlist)))\n",
        "for t,c in zip(tlist,clist):\n",
        "  plt.scatter(dfSolar[dfSolar['Eclipse Type']==t]['declat'],dfSolar[dfSolar['Eclipse Type']==t]['declon'],\n",
        "              color=c,label=t,s=1)\n",
        "plt.legend(bbox_to_anchor=(1.04, 1), loc=\"upper left\")"
      ]
    },
    {
      "cell_type": "markdown",
      "metadata": {
        "id": "ueb_2ioLxtFy"
      },
      "source": [
        "### Select categorization features"
      ]
    },
    {
      "cell_type": "code",
      "execution_count": null,
      "metadata": {
        "id": "BO-yaEQdbyaH",
        "metadata": {}
      },
      "outputs": [],
      "source": [
        "eclipse_features = dfSolar[dfSolar['Eclipse Type'].isin(typeselector)][['declon','declat']]\n",
        "# Convert types in integer\n",
        "eclipse_features_types = pd.DataFrame(pd.factorize(dfSolar[dfSolar['Eclipse Type'].isin(typeselector)]['Eclipse Type'])[0]+1)"
      ]
    },
    {
      "cell_type": "markdown",
      "metadata": {
        "id": "uIPWb4pcx81H"
      },
      "source": [
        "### choose ML model"
      ]
    },
    {
      "cell_type": "code",
      "execution_count": null,
      "metadata": {
        "id": "6ESc7TyXpQB9",
        "metadata": {}
      },
      "outputs": [],
      "source": [
        "from sklearn.model_selection import train_test_split\n",
        "from sklearn.neighbors import KNeighborsClassifier"
      ]
    },
    {
      "cell_type": "markdown",
      "metadata": {
        "id": "Kg_kIPRgyBJu"
      },
      "source": [
        "### split in training and verification data"
      ]
    },
    {
      "cell_type": "code",
      "execution_count": null,
      "metadata": {
        "id": "Y3IaNzkRp_7u",
        "metadata": {}
      },
      "outputs": [],
      "source": [
        "X_train, X_test, y_train, y_test = train_test_split(eclipse_features, eclipse_features_types, test_size=0.3, random_state=42)"
      ]
    },
    {
      "cell_type": "markdown",
      "metadata": {
        "id": "3Vn4e0D3y0Pr"
      },
      "source": [
        "### Train the model"
      ]
    },
    {
      "cell_type": "code",
      "execution_count": null,
      "metadata": {
        "id": "OhwEQTHpcCIS",
        "metadata": {}
      },
      "outputs": [],
      "source": [
        "model = KNeighborsClassifier() # n_neighbors=8)\n",
        "model.fit(X_train, y_train) #.values.ravel())"
      ]
    },
    {
      "cell_type": "markdown",
      "metadata": {
        "id": "j8-xZz-Xzi_E"
      },
      "source": [
        "### Verify the model"
      ]
    },
    {
      "cell_type": "code",
      "execution_count": null,
      "metadata": {
        "id": "_6SE_Ab0skuE",
        "metadata": {}
      },
      "outputs": [],
      "source": [
        "model.score(X_test, y_test)"
      ]
    },
    {
      "cell_type": "markdown",
      "metadata": {
        "id": "Fsaa7IkBzpS1"
      },
      "source": [
        "### Use the model to predict the category of a new eclipse"
      ]
    },
    {
      "cell_type": "code",
      "execution_count": null,
      "metadata": {
        "id": "zXHsSffBt9rh",
        "metadata": {}
      },
      "outputs": [],
      "source": [
        "number_of_features = eclipse_features.shape[1]\n",
        "# Buffalo: -78.859415, 42.892251\n",
        "new_eclipse_features = pd.DataFrame({\"declon\":-78.859415, \"declat\":42.892251},index=[0])\n",
        "\n",
        "prediction = model.predict(new_eclipse_features)\n",
        "predicted_category = typeselector[prediction[0]-1]"
      ]
    },
    {
      "cell_type": "code",
      "execution_count": null,
      "metadata": {
        "id": "fufyaLDQ7Jf5",
        "metadata": {}
      },
      "outputs": [],
      "source": [
        "print(\"Predicted category:{}\".format(predicted_category))"
      ]
    },
    {
      "cell_type": "markdown",
      "metadata": {},
      "source": [
        "## Pycaret for multi model testing"
      ]
    },
    {
      "cell_type": "code",
      "execution_count": null,
      "metadata": {
        "id": "yTr9MB530b-3",
        "metadata": {}
      },
      "outputs": [],
      "source": [
        "# import pycaret classification\n",
        "from pycaret.classification import *\n",
        "# drop some columns we don't want to yest against\n",
        "dfSolar.drop([\"Catalog Number\",\"Saros Number\",\"Lunation Number\", \"Latitude\", \"Longitude\"], axis=1, inplace = True) \n",
        "# init setup with specifiying the target feature\n",
        "s = setup(dfSolar, target=\"Eclipse Type\")"
      ]
    },
    {
      "cell_type": "code",
      "execution_count": null,
      "metadata": {
        "metadata": {}
      },
      "outputs": [],
      "source": [
        "# load model to save time\n",
        "best = load_model('eclipse_model')"
      ]
    },
    {
      "cell_type": "code",
      "execution_count": null,
      "metadata": {
        "metadata": {}
      },
      "outputs": [],
      "source": [
        "# compare multiple models\n",
        "# might take some time\n",
        "modellist = [\"lr\",\"ridge\",\"xgboost\",\"nb\",\"et\",\"svm\",\"rf\",\"knn\",\"gbc\",\"ada\",\"qda\",\"dt\",\"lda\"]\n",
        "exclmodel = []\n",
        "best = compare_models(include=modellist) #, exclude=exclmodel)"
      ]
    },
    {
      "cell_type": "code",
      "execution_count": null,
      "metadata": {
        "metadata": {}
      },
      "outputs": [],
      "source": [
        "# save model for reuse\n",
        "save_model(best, 'eclipse_model')"
      ]
    },
    {
      "cell_type": "code",
      "execution_count": null,
      "metadata": {
        "metadata": {}
      },
      "outputs": [],
      "source": [
        "# plot feature importance\n",
        "plot_model(best, plot = 'feature')"
      ]
    },
    {
      "cell_type": "code",
      "execution_count": null,
      "metadata": {
        "metadata": {}
      },
      "outputs": [],
      "source": [
        "# Several evaluation plots\n",
        "evaluate_model(best)"
      ]
    },
    {
      "cell_type": "code",
      "execution_count": null,
      "metadata": {},
      "outputs": [],
      "source": []
    }
  ],
  "metadata": {
    "colab": {
      "include_colab_link": true,
      "provenance": []
    },
    "kernelspec": {
      "display_name": "Python 3",
      "name": "python3"
    },
    "language_info": {
      "codemirror_mode": {
        "name": "ipython",
        "version": 3
      },
      "file_extension": ".py",
      "mimetype": "text/x-python",
      "name": "python",
      "nbconvert_exporter": "python",
      "pygments_lexer": "ipython3",
      "version": "3.10.13"
    }
  },
  "nbformat": 4,
  "nbformat_minor": 0
}
