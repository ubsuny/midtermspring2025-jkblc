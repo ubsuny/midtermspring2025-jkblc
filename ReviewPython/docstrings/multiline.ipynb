{
 "cells": [
  {
   "cell_type": "code",
   "execution_count": 1,
   "metadata": {},
   "outputs": [],
   "source": [
    "class multiline():\n",
    "    \"\"\"This is a class multiline example.\n",
    "    \n",
    "    ...\n",
    "    \n",
    "    Attributes\n",
    "    ----------\n",
    "    num : int\n",
    "        number of lines\n",
    "    val : str\n",
    "        the value\n",
    "\n",
    "    Methods\n",
    "    -------\n",
    "    get_num():\n",
    "        Gets the number of lines.\n",
    "\n",
    "    \"\"\"\n",
    "    def __init__(self, num=10, val=\"\"):\n",
    "        \"\"\" Constructs all the necessary attributes for the object.\n",
    "\n",
    "        Parameters\n",
    "        ----------\n",
    "            num -- number of lines (default 10)\n",
    "            val -- number of lines (default \"\")\n",
    "        \"\"\"\n",
    "\n",
    "        self.num = num\n",
    "        self.val = val\n",
    "        \n",
    "    def get_num(self):\n",
    "        \"\"\" Gets the number of lines.\n",
    "\n",
    "        Parameters\n",
    "        ----------\n",
    "        None\n",
    "\n",
    "        Returns\n",
    "        -------\n",
    "            num : int\n",
    "                number of lines\n",
    "        \"\"\"\n",
    "        return self.num"
   ]
  },
  {
   "cell_type": "code",
   "execution_count": null,
   "metadata": {},
   "outputs": [],
   "source": [
    "test = multiline(12, \"myString\")"
   ]
  },
  {
   "cell_type": "code",
   "execution_count": null,
   "metadata": {},
   "outputs": [],
   "source": [
    "test.get_num()"
   ]
  },
  {
   "cell_type": "code",
   "execution_count": null,
   "metadata": {},
   "outputs": [],
   "source": [
    "test?"
   ]
  },
  {
   "cell_type": "code",
   "execution_count": null,
   "metadata": {},
   "outputs": [],
   "source": [
    "test.get_num?"
   ]
  },
  {
   "cell_type": "code",
   "execution_count": null,
   "metadata": {},
   "outputs": [],
   "source": []
  }
 ],
 "metadata": {
  "kernelspec": {
   "display_name": "Python 3",
   "language": "python",
   "name": "python3"
  },
  "language_info": {
   "codemirror_mode": {
    "name": "ipython",
    "version": 3
   },
   "file_extension": ".py",
   "mimetype": "text/x-python",
   "name": "python",
   "nbconvert_exporter": "python",
   "pygments_lexer": "ipython3",
   "version": "3.7.4"
  }
 },
 "nbformat": 4,
 "nbformat_minor": 2
}
