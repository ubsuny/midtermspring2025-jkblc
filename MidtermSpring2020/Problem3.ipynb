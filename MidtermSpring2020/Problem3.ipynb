{
 "cells": [
  {
   "cell_type": "markdown",
   "metadata": {},
   "source": [
    "# Problem 3\n",
    "\n",
    "\n",
    "**Question: Suppose you have a detector response that has a bias $f(x) = \\sqrt{0.01^2 + (0.01 \\exp(-x/4))^2}$. Adjust the \"smear\" function to be a Gaussian with width 0.03, but with varying mean according to f(x). Given a \"true\" input Gaussian distribution with mean 0.4 and width 0.1, generate the appropriate measured distribution given the above bias and width. Then unfold that measured distribution and compare to the truth. In effect, you are smearing the true distribution and then unsmearing it to get back where you started (\"closure test\").**\n",
    "\n",
    "- Part a:  Plot the \"true\" distribution and the \"measured\" distribution after the detector smearing is applied as described above. \n",
    "- Part b (Undergrads: 10 points. Grads : 15 points): Unfold the measured distribution with regularization. Show the regularization optimization, and compare the \"best\" result to the measured and true values in a plot. "
   ]
  },
  {
   "cell_type": "code",
   "execution_count": 1,
   "metadata": {},
   "outputs": [],
   "source": [
    "#!/usr/bin/env python\n",
    "import numpy.linalg as la\n",
    "import scipy.sparse.linalg as sla\n",
    "import math\n",
    "import matplotlib.pyplot as plt\n",
    "from matplotlib.colors import LogNorm\n",
    "import numpy as np\n",
    "import copy\n",
    "\n",
    "# From https://www.researchgate.net/publication/274138835_NumPy_SciPy_Recipes_for_Data_Science_Regularized_Least_Squares_Optimization\n",
    "def rlsq_solution_V1(X, y, l):\n",
    "    n, m = X.shape\n",
    "    I = np.identity(m)\n",
    "    w = np.dot(np.dot(la.inv(np.dot(X.T, X) + l*I), X.T), y)\n",
    "    return w\n",
    "\n",
    "def trivial_invert(X, y) :\n",
    "    w = np.dot( np.dot( la.inv( np.dot(X.T,X) ), X.T), y )\n",
    "    return w\n",
    "\n",
    "### You implement this:\n",
    "### Detector response smearing function\n",
    "def smear(x, mu, s ):\n",
    "    return 1.0\n",
    "\n",
    "# You implement this: \n",
    "def detector_bias(x, a, b):\n",
    "    return 1.0\n",
    "\n"
   ]
  },
  {
   "cell_type": "code",
   "execution_count": 2,
   "metadata": {
    "scrolled": true
   },
   "outputs": [
    {
     "data": {
      "image/png": "[encoded data removed]",
      "text/plain": [
       "<Figure size 432x288 with 2 Axes>"
      ]
     },
     "metadata": {
      "needs_background": "light"
     },
     "output_type": "display_data"
    }
   ],
   "source": [
    "\n",
    "####### Parameters #######\n",
    "\n",
    "# Mean and width for true distribution\n",
    "true_val,true_width = 0.4,0.1\n",
    "\n",
    "\n",
    "# Bin width for matrix:\n",
    "binwidth = 0.1\n",
    "# Number of pseudoexperiments to generate response matrix\n",
    "N_pe = 100000\n",
    "# Bias (a * (1+exp(-x*b*2.))) and width for Gaussian smearing\n",
    "a,b = 0.01, 0.25\n",
    "sigma = 0.03\n",
    "# Regulate?\n",
    "regulate = True\n"
   ]
  },
  {
   "cell_type": "markdown",
   "metadata": {},
   "source": [
    "### Part a"
   ]
  },
  {
   "cell_type": "code",
   "execution_count": 3,
   "metadata": {
    "scrolled": true
   },
   "outputs": [
    {
     "data": {
      "image/png": "[encoded data removed]",
      "text/plain": [
       "<Figure size 432x288 with 1 Axes>"
      ]
     },
     "metadata": {
      "needs_background": "light"
     },
     "output_type": "display_data"
    }
   ],
   "source": [
    "\n",
    "# Create a \"truth\" distribution\n",
    "truth = np.random.normal( loc=true_val, scale=true_width, size=10000 )\n",
    "\n",
    "### Your code goes here: \n",
    "# Create a \"measured\" distribution\n"
   ]
  },
  {
   "cell_type": "markdown",
   "metadata": {},
   "source": [
    "### Part b"
   ]
  },
  {
   "cell_type": "code",
   "execution_count": null,
   "metadata": {},
   "outputs": [],
   "source": []
  }
 ],
 "metadata": {
  "kernelspec": {
   "display_name": "Python 3",
   "language": "python",
   "name": "python3"
  },
  "language_info": {
   "codemirror_mode": {
    "name": "ipython",
    "version": 3
   },
   "file_extension": ".py",
   "mimetype": "text/x-python",
   "name": "python",
   "nbconvert_exporter": "python",
   "pygments_lexer": "ipython3",
   "version": "3.7.5rc1"
  }
 },
 "nbformat": 4,
 "nbformat_minor": 2
}
