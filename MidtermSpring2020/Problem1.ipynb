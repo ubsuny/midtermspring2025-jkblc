{
 "cells": [
  {
   "cell_type": "markdown",
   "metadata": {},
   "source": [
    "# Problem 1 : Pandemic Zombies\n",
    "\n",
    "**This is intended for educational purposes and is not intended as a realistic simulation of the COVID-19 virus.**\n",
    "\n",
    "Suppose you have a pandemic of some disease. In this case, we will simulate the zombie apocalypse. As such, we will consider `n_walker` random walkers in 2 dimensions that each take `n_steps` steps. At each step, the walkers can move `dx` units. The walkers are confined to a single 1x1 room with cyclic boundary conditions in x and y (so, the walkers wrap around if they wander off the edge). There is a configurable initial number of infected individuals, `n_infected`.  \n",
    "\n",
    "The code below assumes that there is zero rate of transmission from the infected individuals (i.e., passive zombies). The animation shows the paths of the walkers. The healthy individuals show up as blue dots. The zombies show up as red dots.  \n",
    "\n",
    "- **Part a (15 points)**: Implement an \"infection rate\" `P_i` and an \"infection distance\" `d_i` where any walkers that are within the infection distance `d_i` to an infected individual have a probability `P_i` to be infected. They then infect others in later time steps. The animation should reflect the changes. (Hint: This can't be vectorized, so you have to use for loops). Assume: `n_walkers=100`, `n_steps=100`, `n_infected=4`, `dx=0.01`, `P_i = 0.1`, and `d_i=0.1`. \n",
    "- **Part b (10 points)**: Plot the number of total infections in the sample as a function of time step for `P_i = 0.1, 0.2, 0.3`, and for `d_i = 0.01, 0.02, 0.03`. Assume: `n_walkers=100`, `n_steps=1000`, `n_infected=4`, `dx=0.01`.\n",
    "\n",
    "Remember to stay healthy and practice social distancing (keep outside of the rate `d_i` in real life)!"
   ]
  },
  {
   "cell_type": "code",
   "execution_count": null,
   "metadata": {},
   "outputs": [],
   "source": [
    "import numpy as np\n",
    "import matplotlib.pyplot as plt"
   ]
  },
  {
   "cell_type": "markdown",
   "metadata": {},
   "source": [
    "### Run the walkers"
   ]
  },
  {
   "cell_type": "code",
   "execution_count": null,
   "metadata": {},
   "outputs": [],
   "source": [
    "class Zombies(object):\n",
    "    def __init__(self, n_walkers, n_steps, n_infected, dx, P_i, d_i):\n",
    "        self.dims = 2\n",
    "        self.n_walkers = n_walkers\n",
    "        self.n_steps = n_steps\n",
    "        self.n_infected = n_infected\n",
    "        self.t = np.arange(n_steps)\n",
    "        # Walkers can go in + direction, - direction, or stay still\n",
    "        self.dx = dx\n",
    "        self.P_i = P_i\n",
    "        self.d_i = d_i\n",
    "        self.step_set = np.array([-1, 0, 1]) * self.dx\n",
    "        # The shape is for \"n_walkers\" in \"dims\" dimensions taking \"n_steps\".\n",
    "        # So, in 1d if there are 10 walkers making 100 steps each,\n",
    "        # it will be (10, 2, 100)\n",
    "        self.step_shape = (self.n_walkers,self.dims,self.n_steps)\n",
    "        self.init_positions = np.random.uniform( 0.0, 1.0, size=(self.n_walkers, self.dims) )\n",
    "        self.init_infected = np.zeros( self.n_walkers, dtype=int )\n",
    "        self.init_infected[0:self.n_infected] = 1\n",
    "        np.random.shuffle( self.init_infected )\n",
    "        self.positions = None\n",
    "        self.infected = np.zeros( shape=(self.n_walkers,self.n_steps), dtype=bool)\n",
    "        self.infected[:,:] = self.init_infected[:,np.newaxis]\n",
    "        self.ii = np.arange(self.n_walkers)\n",
    "        self.jj = np.arange(self.n_infected)\n",
    "        self.tot_infected = []\n",
    "        \n",
    "    def walk(self):\n",
    "        # These are the steps at each stage        \n",
    "        self.steps = np.random.choice(a=self.step_set, size=self.step_shape)\n",
    "            \n",
    "        # Now we add up the steps for each walker to get the x positions\n",
    "        self.positions = (self.init_positions[:,:,np.newaxis] + self.steps.cumsum(axis=2)) % 1.0\n",
    "        \n",
    "        ########################\n",
    "        ### Part a: Here is where you will set the infections at each step. \n",
    "        ###         Currently this is the same as an infection rate of zero. \n",
    "        ########################\n",
    "        \n",
    "        "
   ]
  },
  {
   "cell_type": "markdown",
   "metadata": {},
   "source": [
    "### Draw the walkers"
   ]
  },
  {
   "cell_type": "code",
   "execution_count": null,
   "metadata": {},
   "outputs": [],
   "source": [
    "from matplotlib import animation, rc\n",
    "from IPython.display import HTML\n",
    "rc('animation', html='html5')"
   ]
  },
  {
   "cell_type": "code",
   "execution_count": null,
   "metadata": {},
   "outputs": [],
   "source": [
    "class AnimatedScatter(object):\n",
    "    \"\"\"An animated scatter plot using matplotlib.animations.FuncAnimation.\"\"\"\n",
    "    def __init__(self, n_walkers=100, n_steps=10, n_infected=4, dx=0.1, P_i = 0.04, d_i=0.1):\n",
    "        self.stream = self.data_stream()\n",
    "        self.zombies=Zombies(n_walkers=n_walkers,n_steps=n_steps,n_infected=n_infected,dx=dx,P_i=P_i,d_i=d_i)\n",
    "        self.zombies.walk()\n",
    "        # Setup the figure and axes...\n",
    "        self.fig, self.ax = plt.subplots()\n",
    "        # Then setup FuncAnimation.\n",
    "        self.ani = animation.FuncAnimation(self.fig, self.update, interval=100, frames=n_steps,\n",
    "                                           init_func=self.setup_plot, blit=False)\n",
    "\n",
    "    def setup_plot(self):\n",
    "\n",
    "        \"\"\"Initial drawing of the scatter plot.\"\"\"\n",
    "        data = next(self.stream)\n",
    "        self.scat = self.ax.scatter(data[0], data[1], animated=True, c=data[2],\n",
    "                                   cmap='coolwarm')\n",
    "        self.ax.axis([0, 1, 0, 1])\n",
    "\n",
    "        # For FuncAnimation's sake, we need to return the artist we'll be using\n",
    "        # Note that it expects a sequence of artists, thus the trailing comma.\n",
    "        return self.scat,\n",
    "    \n",
    "\n",
    "    def data_stream(self):\n",
    "        i = 0\n",
    "        while True:\n",
    "            if i >= self.zombies.n_steps:\n",
    "                i = 0\n",
    "            x = self.zombies.positions[:,0,i]\n",
    "            y = self.zombies.positions[:,1,i]\n",
    "            c = self.zombies.infected[:,i]\n",
    "            i += 1\n",
    "            yield np.c_[x,y,c]\n",
    "\n",
    "    def update(self, i):\n",
    "        \"\"\"Update the scatter plot.\"\"\"    \n",
    "        data = next(self.stream)\n",
    "        \n",
    "        # Set x and y data...\n",
    "        self.scat.set_offsets(data[:,:2])\n",
    "        self.scat.set_array(data[:,2])\n",
    "\n",
    "        # We need to return the updated artist for FuncAnimation to draw..\n",
    "        # Note that it expects a sequence of artists, thus the trailing comma.\n",
    "        return self.scat,\n",
    "\n"
   ]
  },
  {
   "cell_type": "code",
   "execution_count": null,
   "metadata": {},
   "outputs": [],
   "source": []
  },
  {
   "cell_type": "code",
   "execution_count": null,
   "metadata": {},
   "outputs": [],
   "source": [
    "#%matplotlib notebook\n",
    "a = AnimatedScatter(n_walkers=100, n_steps=100, n_infected=4, dx=0.01, P_i = 0.1, d_i=0.1)\n",
    "HTML(a.ani.to_html5_video())"
   ]
  },
  {
   "cell_type": "code",
   "execution_count": null,
   "metadata": {},
   "outputs": [],
   "source": []
  },
  {
   "cell_type": "markdown",
   "metadata": {},
   "source": [
    "### Part b should go here: "
   ]
  },
  {
   "cell_type": "code",
   "execution_count": null,
   "metadata": {},
   "outputs": [],
   "source": []
  }
 ],
 "metadata": {
  "kernelspec": {
   "display_name": "Python 3",
   "language": "python",
   "name": "python3"
  },
  "language_info": {
   "codemirror_mode": {
    "name": "ipython",
    "version": 3
   },
   "file_extension": ".py",
   "mimetype": "text/x-python",
   "name": "python",
   "nbconvert_exporter": "python",
   "pygments_lexer": "ipython3",
   "version": "3.7.5rc1"
  }
 },
 "nbformat": 4,
 "nbformat_minor": 2
}
