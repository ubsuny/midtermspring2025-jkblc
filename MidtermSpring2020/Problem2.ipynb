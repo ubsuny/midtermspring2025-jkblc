{
 "cells": [
  {
   "cell_type": "markdown",
   "metadata": {},
   "source": [
    "# Problem 2: Geospatial location of COVID19 confirmed cases\n",
    "\n",
    "**This is intended for educational purposes and is not intended as a realistic analysis of the COVID-19 virus confirmed cases.**\n",
    "\n"
   ]
  },
  {
   "cell_type": "markdown",
   "metadata": {},
   "source": [
    "### Part a (10 points): Get the dataset and extract mainland US cases\n",
    "\n",
    "- Go to your host operating system (no git is installed in CompPhys docker, on purpose)\n",
    "- Find the directory you cloned the midterm into. \n",
    "- Execute: `git clone https://github.com/CSSEGISandData/COVID-19.git`. **If successful, you should see the CSV file in the next cell.**\n",
    "- Extract the data for the mainland US (latitude between 25 and 50 degrees, longitude between -130 and -70 degrees) into a numpy array that has (latitude, longitude, number of confirmed cases), with separate rows for each of the entries in the text file. Extract the number of confirmed cases that occurred on 3/18/20 (18-March-2020). \n",
    "\n",
    "Hint: Using `genfromtxt` will not work. You will have to extract this by hand. The problem is that there are quotation marks in various entries (either in the country or the state) that you will have to work around. \n",
    "\n"
   ]
  },
  {
   "cell_type": "code",
   "execution_count": 1,
   "metadata": {},
   "outputs": [
    {
     "name": "stdout",
     "output_type": "stream",
     "text": [
      "Province/State,Country/Region,Lat,Long,1/22/20,1/23/20,1/24/20,1/25/20,1/26/20,1/27/20,1/28/20,1/29/20,1/30/20,1/31/20,2/1/20,2/2/20,2/3/20,2/4/20,2/5/20,2/6/20,2/7/20,2/8/20,2/9/20,2/10/20,2/11/20,2/12/20,2/13/20,2/14/20,2/15/20,2/16/20,2/17/20,2/18/20,2/19/20,2/20/20,2/21/20,2/22/20,2/23/20,2/24/20,2/25/20,2/26/20,2/27/20,2/28/20,2/29/20,3/1/20,3/2/20,3/3/20,3/4/20,3/5/20,3/6/20,3/7/20,3/8/20,3/9/20,3/10/20,3/11/20,3/12/20,3/13/20,3/14/20,3/15/20,3/16/20,3/17/20,3/18/20\r",
      "\r\n",
      ",Thailand,15,101,2,3,5,7,8,8,14,14,14,19,19,19,19,25,25,25,25,32,32,32,33,33,33,33,33,34,35,35,35,35,35,35,35,35,37,40,40,41,42,42,43,43,43,47,48,50,50,50,53,59,70,75,82,114,147,177,212\r",
      "\r\n",
      ",Japan,36,138,2,1,2,2,4,4,7,7,11,15,20,20,20,22,22,45,25,25,26,26,26,28,28,29,43,59,66,74,84,94,105,122,147,159,170,189,214,228,241,256,274,293,331,360,420,461,502,511,581,639,639,701,773,839,825,878,889\r",
      "\r\n",
      ",Singapore,1.2833,103.8333,0,1,3,3,4,5,7,7,10,13,16,18,18,24,28,28,30,33,40,45,47,50,58,67,72,75,77,81,84,84,85,85,89,89,91,93,93,93,102,106,108,110,110,117,130,138,150,150,160,178,178,200,212,226,243,266,313\r",
      "\r\n"
     ]
    }
   ],
   "source": [
    "! head -n 4 COVID-19/csse_covid_19_data/csse_covid_19_time_series/time_series_19-covid-Confirmed.csv"
   ]
  },
  {
   "cell_type": "code",
   "execution_count": 2,
   "metadata": {},
   "outputs": [],
   "source": [
    "import numpy as np\n",
    "import math\n",
    "import copy\n",
    "import matplotlib.pyplot as plt"
   ]
  },
  {
   "cell_type": "markdown",
   "metadata": {},
   "source": [
    "### Read into numpy array"
   ]
  },
  {
   "cell_type": "code",
   "execution_count": 3,
   "metadata": {},
   "outputs": [],
   "source": [
    "s = 'COVID-19/csse_covid_19_data/csse_covid_19_time_series/time_series_19-covid-Confirmed.csv'"
   ]
  },
  {
   "cell_type": "markdown",
   "metadata": {},
   "source": [
    "#### Solution: "
   ]
  },
  {
   "cell_type": "code",
   "execution_count": 4,
   "metadata": {},
   "outputs": [],
   "source": [
    "us_coords = [[25,-130],[50,-70]]"
   ]
  },
  {
   "cell_type": "code",
   "execution_count": 5,
   "metadata": {},
   "outputs": [],
   "source": [
    "import csv\n",
    "\n",
    "date_to_use = '3/18/20'\n",
    "\n",
    "states = []\n",
    "countries = []\n",
    "lats = []\n",
    "lons = []\n",
    "nconfirmed = []\n",
    "reader = csv.reader(open(s), delimiter=',')\n",
    "ir = 0\n",
    "for r in reader:\n",
    "    if ir == 0 : \n",
    "        index_to_use = r.index(date_to_use)\n",
    "    else:\n",
    "        state,country,lat,lon = r[0:4]\n",
    "        states.append(state)\n",
    "        countries.append(country)\n",
    "        lats.append(float(lat))\n",
    "        lons.append(float(lon))\n",
    "        nconfirmed .append( float(r[index_to_use]) )\n",
    "    ir += 1\n",
    "data = np.array( list(zip(lats,lons,nconfirmed) ) )\n",
    "\n",
    "# Your selection goes here: "
   ]
  },
  {
   "cell_type": "markdown",
   "metadata": {},
   "source": [
    "### Plot the mainland US data"
   ]
  },
  {
   "cell_type": "code",
   "execution_count": null,
   "metadata": {},
   "outputs": [],
   "source": []
  },
  {
   "cell_type": "markdown",
   "metadata": {},
   "source": [
    "## Part b (15 points) : Make Voronoi diagram\n",
    "\n",
    "- Make a Voronoi diagram of the data above.\n",
    "- Assume there are 10 Voronoi cells. Assign each a different color.\n",
    "- Initialize them to 10 randomly assigned points in the data sample. \n",
    "- Compute the centroids that minimize the $k$-means distance to the data points.\n",
    "- Plot the centroids of the data in black circles.\n",
    "- Plot the separate individual points by centroid color.\n",
    "\n",
    "\n",
    "You should adapt the `kmeans.ipynb` file for this. "
   ]
  },
  {
   "cell_type": "markdown",
   "metadata": {},
   "source": [
    "### Initialize centroids"
   ]
  },
  {
   "cell_type": "code",
   "execution_count": null,
   "metadata": {},
   "outputs": [],
   "source": []
  }
 ],
 "metadata": {
  "kernelspec": {
   "display_name": "Python 3",
   "language": "python",
   "name": "python3"
  },
  "language_info": {
   "codemirror_mode": {
    "name": "ipython",
    "version": 3
   },
   "file_extension": ".py",
   "mimetype": "text/x-python",
   "name": "python",
   "nbconvert_exporter": "python",
   "pygments_lexer": "ipython3",
   "version": "3.7.5rc1"
  }
 },
 "nbformat": 4,
 "nbformat_minor": 2
}
