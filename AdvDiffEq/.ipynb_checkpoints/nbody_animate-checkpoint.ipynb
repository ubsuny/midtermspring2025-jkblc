{
 "cells": [
  {
   "cell_type": "markdown",
   "metadata": {},
   "source": [
    "# Animate the n-body simulation\n",
    "\n",
    "Here, we will follow instructions to execute an $n$-body simulation from Hut and Makino [here](https://www.ids.ias.edu/~piet/act/comp/algorithms/starter).\n",
    "\n",
    "This is a third-party software so we will download it, compile it (it is in `C++`), and use it to execute a simulation. We will then use `python` tools to animate the trajectory after it has been simulated. "
   ]
  },
  {
   "cell_type": "markdown",
   "metadata": {},
   "source": [
    "## Download, compile"
   ]
  },
  {
   "cell_type": "code",
   "execution_count": null,
   "metadata": {},
   "outputs": [],
   "source": [
    "! wget https://www.ids.ias.edu/sites/ids.ias.edu/files/imported/act/comp/algorithms/starter/nbody_sh1.tar.gz\n",
    "! mkdir hut_makino\n",
    "! tar -zxvf nbody_sh1.tar.gz --directory hut_makino\n",
    "! g++ hut_makino/nbody_sh1.C -o hut_makino/nbody_sh1\n",
    "! chmod +x hut_makino/nbody_sh1"
   ]
  },
  {
   "cell_type": "markdown",
   "metadata": {},
   "source": [
    "### Execute a Figure-8"
   ]
  },
  {
   "cell_type": "code",
   "execution_count": null,
   "metadata": {},
   "outputs": [],
   "source": [
    "! ./hut_makino/nbody_sh1 -o 0.01 < figure8.in > figure8.out"
   ]
  },
  {
   "cell_type": "markdown",
   "metadata": {},
   "source": [
    "### Execute a random configuration"
   ]
  },
  {
   "cell_type": "code",
   "execution_count": null,
   "metadata": {},
   "outputs": [],
   "source": [
    "! python generate_random_start.py > random.in\n",
    "! ./hut_makino/nbody_sh1 -o 0.01 < random.in > random.out"
   ]
  },
  {
   "cell_type": "markdown",
   "metadata": {},
   "source": [
    "## Make the animation"
   ]
  },
  {
   "cell_type": "code",
   "execution_count": null,
   "metadata": {},
   "outputs": [],
   "source": [
    "import matplotlib\n",
    "from matplotlib import animation, rc\n",
    "from IPython.display import HTML\n",
    "rc('animation', html='html5')\n",
    "\n",
    "import matplotlib.pyplot as plt\n",
    "import numpy as np\n",
    "from read_orbit import read_orbit"
   ]
  },
  {
   "cell_type": "code",
   "execution_count": null,
   "metadata": {},
   "outputs": [],
   "source": [
    "class AnimatedScatter(object):\n",
    "    \"\"\"An animated scatter plot using matplotlib.animations.FuncAnimation.\"\"\"\n",
    "    def __init__(self, filename=\"figure8.out\"):\n",
    "        self.stream = self.data_stream()\n",
    "        self.nobj, self.snapshots = read_orbit(filename)        \n",
    "        \n",
    "        # Setup the figure and axes...\n",
    "        self.fig, self.ax = plt.subplots()\n",
    "        # Then setup FuncAnimation.\n",
    "        self.ani = animation.FuncAnimation(self.fig, self.update, interval=10, frames=500,\n",
    "                                           init_func=self.setup_plot, blit=False)\n",
    "\n",
    "    def setup_plot(self):\n",
    "\n",
    "        \"\"\"Initial drawing of the scatter plot.\"\"\"\n",
    "        x, y = next(self.stream).T\n",
    "        self.scat = self.ax.scatter(x, y, animated=True)\n",
    "        self.ax.axis([-10, 10, -10, 10])\n",
    "\n",
    "        # For FuncAnimation's sake, we need to return the artist we'll be using\n",
    "        # Note that it expects a sequence of artists, thus the trailing comma.\n",
    "        return self.scat,\n",
    "    \n",
    "\n",
    "    def data_stream(self):\n",
    "        \n",
    "        i = 0\n",
    "        x = [0.] * self.nobj\n",
    "        y = [0.] * self.nobj\n",
    "        while True:\n",
    "            if i >= len(self.snapshots):\n",
    "                i = 0\n",
    "            snapshot = self.snapshots[i]\n",
    "            for iparticle,particle in enumerate(snapshot):\n",
    "                x[iparticle] = particle.pos[0]\n",
    "                y[iparticle] = particle.pos[1]\n",
    "            i += 1\n",
    "            yield np.c_ [x,y]\n",
    "            \n",
    "\n",
    "    def update(self, i):\n",
    "        \"\"\"Update the scatter plot.\"\"\"\n",
    "        data = next(self.stream)\n",
    "\n",
    "        # Set x and y data...\n",
    "        self.scat.set_offsets(data)\n",
    "\n",
    "        # We need to return the updated artist for FuncAnimation to draw..\n",
    "        # Note that it expects a sequence of artists, thus the trailing comma.\n",
    "        return self.scat,\n"
   ]
  },
  {
   "cell_type": "markdown",
   "metadata": {},
   "source": [
    "## Animate!"
   ]
  },
  {
   "cell_type": "code",
   "execution_count": null,
   "metadata": {},
   "outputs": [],
   "source": [
    "a = AnimatedScatter(filename=\"figure8.out\")        \n",
    "HTML(a.ani.to_html5_video())"
   ]
  },
  {
   "cell_type": "code",
   "execution_count": null,
   "metadata": {},
   "outputs": [],
   "source": [
    "a = AnimatedScatter(filename=\"random.out\")        \n",
    "HTML(a.ani.to_html5_video())"
   ]
  },
  {
   "cell_type": "code",
   "execution_count": null,
   "metadata": {},
   "outputs": [],
   "source": []
  }
 ],
 "metadata": {
  "kernelspec": {
   "display_name": "Python 3",
   "language": "python",
   "name": "python3"
  },
  "language_info": {
   "codemirror_mode": {
    "name": "ipython",
    "version": 3
   },
   "file_extension": ".py",
   "mimetype": "text/x-python",
   "name": "python",
   "nbconvert_exporter": "python",
   "pygments_lexer": "ipython3",
   "version": "3.7.5rc1"
  }
 },
 "nbformat": 4,
 "nbformat_minor": 2
}
