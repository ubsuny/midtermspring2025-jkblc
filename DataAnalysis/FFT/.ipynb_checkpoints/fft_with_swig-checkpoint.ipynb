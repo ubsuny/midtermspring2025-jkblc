{
 "cells": [
  {
   "cell_type": "markdown",
   "metadata": {},
   "source": [
    "# FFT with our own C++ code and SWIG\n",
    "\n",
    "\n",
    "We can take this opportunity to show you how to use your own C++ implementation of codes from within python. \n",
    "\n",
    "One caveat: we are using `vector<complex<double>>` for our C++ FFT implementation. However, the SWIG numpy setup does not natively support this type, so it's a bit beyond what I would like to show you. \n",
    "\n",
    "We will therefore just have to copy our back and forth (once) to use our software. \n"
   ]
  },
  {
   "cell_type": "markdown",
   "metadata": {},
   "source": [
    "\n",
    "## Step 1 : Look at C++ files\n",
    "\n",
    "First we have our FFT C++ files: \n"
   ]
  },
  {
   "cell_type": "code",
   "execution_count": null,
   "metadata": {},
   "outputs": [],
   "source": [
    "! cat our_fft.cpp our_fft.hpp"
   ]
  },
  {
   "cell_type": "markdown",
   "metadata": {},
   "source": [
    "\n",
    "\n",
    "## Step 2 : Look at SWIG interface file\n",
    "\n",
    "The magic of SWIG is to create wrapper C++ functions that use the \"cython\" interface. We also have an \"interface\" file for SWIG :"
   ]
  },
  {
   "cell_type": "code",
   "execution_count": null,
   "metadata": {},
   "outputs": [],
   "source": [
    "! cat our_fft.i"
   ]
  },
  {
   "cell_type": "markdown",
   "metadata": {},
   "source": [
    "## Step 3 : Look at SWIG setup file\n",
    "\n",
    "This tells SWIG to generate a file called ```our_fft_wrap.cxx``` using source from ```our_fft.cpp``` with C++11. \n"
   ]
  },
  {
   "cell_type": "code",
   "execution_count": null,
   "metadata": {},
   "outputs": [],
   "source": [
    "! cat setup_our_fft.py"
   ]
  },
  {
   "cell_type": "markdown",
   "metadata": {},
   "source": [
    "Now create the interface using the interface file. This will create two files, ```example_wrap.cxx``` and ```example.py```. They are not intended to be human-readable, so we don't need to look into them. "
   ]
  },
  {
   "cell_type": "markdown",
   "metadata": {},
   "source": [
    "## Step 4: Create SWIG interface from file"
   ]
  },
  {
   "cell_type": "code",
   "execution_count": null,
   "metadata": {},
   "outputs": [],
   "source": [
    "! swig -c++ -python our_fft.i "
   ]
  },
  {
   "cell_type": "markdown",
   "metadata": {},
   "source": [
    "## Step 5 : compile C++ and interface\n",
    "\n",
    "This will compile our file ```our_fft.cpp``` along with ```our_fft_wrap.cxx``` using the rules we set (for instance, using the C++11 compiler). \n",
    "\n",
    "We are now free to use this in python!"
   ]
  },
  {
   "cell_type": "code",
   "execution_count": null,
   "metadata": {},
   "outputs": [],
   "source": [
    "! python setup_our_fft.py build_ext --inplace"
   ]
  },
  {
   "cell_type": "markdown",
   "metadata": {},
   "source": [
    "\n",
    "## Step 6: Make profit: \n",
    "\n",
    "First we import the path correctly. "
   ]
  },
  {
   "cell_type": "code",
   "execution_count": null,
   "metadata": {},
   "outputs": [],
   "source": [
    "import sys\n",
    "import os\n",
    "\n",
    "sys.path.append( os.path.abspath(\".\") )\n",
    "\n",
    "print (sys.path)\n",
    "\n",
    "\n"
   ]
  },
  {
   "cell_type": "markdown",
   "metadata": {},
   "source": [
    "Next we import our actual function from the automatically generated \"our_fft.py\""
   ]
  },
  {
   "cell_type": "code",
   "execution_count": null,
   "metadata": {},
   "outputs": [],
   "source": [
    "from our_fft import *\n"
   ]
  },
  {
   "cell_type": "markdown",
   "metadata": {},
   "source": [
    "And finally, we can use our C++ code from within python!: "
   ]
  },
  {
   "cell_type": "code",
   "execution_count": null,
   "metadata": {},
   "outputs": [],
   "source": [
    "import numpy as np\n",
    "import matplotlib.pyplot as plt\n",
    "\n",
    "N = 1024 # number of samples\n",
    "k = 10.0 # frequency / N\n",
    "x = np.arange(N) \n",
    "# First we use numpy to make a sine wave\n",
    "y = np.sin( -2. * np.pi * k /N * x ) \n",
    "\n",
    "# Now we have to copy the numpy array to a vector<complex<double>>. \n",
    "# This is suboptimal, but this type is not automatically supported\n",
    "# by the swig numpy interface. We're just using this\n",
    "# for demonstration anyway, though. \n",
    "y_ours = vector_complex_double( N )\n",
    "for i in range(N):\n",
    "    y_ours[i] = y[i]\n",
    "\n",
    "Y_ours = our_fft(y_ours)  # Our C++ FFT implementation ... NOW WITH SWIG!\n",
    "\n",
    "# And convert back to numpy\n",
    "Y = np.zeros(N, dtype=complex)\n",
    "for i in range(N):\n",
    "    Y[i] = Y_ours[i]\n",
    "\n",
    "Y_abs = abs(Y)\n",
    "Ynp_abs = abs(Y)\n"
   ]
  },
  {
   "cell_type": "markdown",
   "metadata": {},
   "source": [
    "# Success!"
   ]
  },
  {
   "cell_type": "code",
   "execution_count": null,
   "metadata": {},
   "outputs": [],
   "source": [
    "\n",
    "f1 = plt.figure(1)\n",
    "plt.plot( x, y )\n",
    "plt.xlabel('x')\n",
    "plt.ylabel('y')\n",
    "\n",
    "f2 = plt.figure(2)\n",
    "plt.plot( x, Y_abs, label=\"our SWIG fft\" )\n",
    "plt.plot( x, Ynp_abs, label=\"numpy fft\")\n",
    "plt.ylabel('Fourier Component')\n",
    "plt.xlabel('Spectral Index')\n",
    "plt.legend()\n",
    "plt.xlim([0,20])\n",
    "\n",
    "plt.show()"
   ]
  },
  {
   "cell_type": "code",
   "execution_count": null,
   "metadata": {},
   "outputs": [],
   "source": []
  }
 ],
 "metadata": {
  "kernelspec": {
   "display_name": "Python 3",
   "language": "python",
   "name": "python3"
  },
  "language_info": {
   "codemirror_mode": {
    "name": "ipython",
    "version": 3
   },
   "file_extension": ".py",
   "mimetype": "text/x-python",
   "name": "python",
   "nbconvert_exporter": "python",
   "pygments_lexer": "ipython3",
   "version": "3.7.4rc2"
  }
 },
 "nbformat": 4,
 "nbformat_minor": 2
}
