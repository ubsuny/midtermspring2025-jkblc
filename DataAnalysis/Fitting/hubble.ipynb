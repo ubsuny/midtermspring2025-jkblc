{
 "cells": [
  {
   "cell_type": "markdown",
   "metadata": {},
   "source": [
    "# Fitting for the Hubble constant\n",
    "\n",
    "We will use Hubble's [original paper](https://www.pnas.org/content/15/3/168) to compute Hubble's constant from a linear fit to distance versus velocity of extra-galactic nebulae. "
   ]
  },
  {
   "cell_type": "code",
   "execution_count": 1,
   "metadata": {},
   "outputs": [],
   "source": [
    "import math\n",
    "import numpy as np\n",
    "import matplotlib.pyplot as plt\n",
    "\n",
    "from least_squares import least_squares\n"
   ]
  },
  {
   "cell_type": "code",
   "execution_count": 2,
   "metadata": {},
   "outputs": [],
   "source": [
    "# Make the plots a bit bigger to see\n",
    "# NOTE: Must be done in a separate cell\n",
    "plt.rcParams['figure.dpi'] = 100"
   ]
  },
  {
   "cell_type": "code",
   "execution_count": 3,
   "metadata": {},
   "outputs": [
    {
     "name": "stdout",
     "output_type": "stream",
     "text": [
      " Least squares fit of 24 data points\n",
      " -----------------------------------\n",
      " Hubble's constant slope   b = 454.16 +-  75.24  km/s/Mpc\n",
      " Intercept with r axis     a = -40.78 +-  83.44  km/s\n",
      " Estimated v error bar sigma = 232.9 km/s\n",
      " numpy's values:           b = 454.16 +-  75.24  km/s/Mpc\n",
      "                           a = -40.78 +-  83.44  km/s/Mpc\n"
     ]
    },
    {
     "data": {
      "image/png": "[encoded data removed]",
      "text/plain": [
       "<Figure size 600x400 with 1 Axes>"
      ]
     },
     "metadata": {
      "needs_background": "light"
     },
     "output_type": "display_data"
    }
   ],
   "source": [
    "# distances in Mpc\n",
    "r = np.array([ 0.032, 0.034, 0.214, 0.263, 0.275, 0.275, 0.45, 0.5,\n",
    "      0.5,   0.63,  0.8,   0.9,   0.9,   0.9,   0.9,  1.0,\n",
    "      1.1,   1.1,   1.4,   1.7,   2.0,   2.0,   2.0,  2.0 ])\n",
    "\n",
    "# velocities in km/s\n",
    "v = np.array([ +170, +290, -130, -70,  -185, -220, +200, +290,\n",
    "      +270, +200, +300, -30,  +650, +150, +500, +920,\n",
    "      +450, +500, +500, +960, +500, +850, +800, +1090 ])\n",
    "\n",
    "\n",
    "n = len(r)   # number of galaxies\n",
    "\n",
    "if n <= 2 :\n",
    "    print ('Error! Need at least two data points!')\n",
    "    exit()\n",
    "\n",
    "# Use our home-grown version\n",
    "[a, b, sigma, sigma_a, sigma_b] = least_squares(r,v)\n",
    "\n",
    "# Check against numpy's version:\n",
    "p,cov = np.polyfit( r, v, 1, cov=True)\n",
    "\n",
    "# Print out results\n",
    "print (' Least squares fit of', n, 'data points')\n",
    "print (' -----------------------------------')\n",
    "print (\" Hubble's constant slope   b = {0:6.2f} +- {1:6.2f}  km/s/Mpc\".format( b, sigma_b))\n",
    "print (\" Intercept with r axis     a = {0:6.2f} +- {1:6.2f}  km/s\".format( a, sigma_a))\n",
    "print (' Estimated v error bar sigma =', round(sigma, 1), 'km/s')\n",
    "print (\" numpy's values:           b = {0:6.2f} +- {1:6.2f}  km/s/Mpc\".format( p[0], np.sqrt(cov[0,0])))\n",
    "print (\"                           a = {0:6.2f} +- {1:6.2f}  km/s/Mpc\".format( p[1], np.sqrt(cov[1,1])))\n",
    "\n",
    "\n",
    "rvals = np.linspace(0., 2.0, 21)\n",
    "f = a + b * rvals\n",
    "fnp = p[1] + p[0] * rvals\n",
    "plt.figure(1)\n",
    "plt.scatter( r, v, label = \"Data\" )\n",
    "plt.plot( rvals, f , label=\"Our fit\")\n",
    "plt.plot( rvals, fnp, label = \"numpy fit\")\n",
    "plt.xlabel(\"Distance (Mpc)\")\n",
    "plt.ylabel(\"Velocity (km/s)\")\n",
    "plt.legend()\n",
    "\n",
    "plt.show()\n"
   ]
  },
  {
   "cell_type": "code",
   "execution_count": 4,
   "metadata": {},
   "outputs": [
    {
     "data": {
      "text/plain": [
       "array([0. , 0.1, 0.2, 0.3, 0.4, 0.5, 0.6, 0.7, 0.8, 0.9, 1. , 1.1, 1.2,\n",
       "       1.3, 1.4, 1.5, 1.6, 1.7, 1.8, 1.9, 2. ])"
      ]
     },
     "execution_count": 4,
     "metadata": {},
     "output_type": "execute_result"
    }
   ],
   "source": [
    "rvals"
   ]
  },
  {
   "cell_type": "code",
   "execution_count": 5,
   "metadata": {},
   "outputs": [
    {
     "data": {
      "text/plain": [
       "array([-40.7836491 ,   4.632195  ,  50.04803909,  95.46388318,\n",
       "       140.87972727, 186.29557137, 231.71141546, 277.12725955,\n",
       "       322.54310364, 367.95894773, 413.37479183, 458.79063592,\n",
       "       504.20648001, 549.6223241 , 595.0381682 , 640.45401229,\n",
       "       685.86985638, 731.28570047, 776.70154456, 822.11738866,\n",
       "       867.53323275])"
      ]
     },
     "execution_count": 5,
     "metadata": {},
     "output_type": "execute_result"
    }
   ],
   "source": [
    "f"
   ]
  },
  {
   "cell_type": "code",
   "execution_count": 6,
   "metadata": {},
   "outputs": [
    {
     "data": {
      "text/plain": [
       "array([-40.7836491 ,   4.632195  ,  50.04803909,  95.46388318,\n",
       "       140.87972727, 186.29557137, 231.71141546, 277.12725955,\n",
       "       322.54310364, 367.95894773, 413.37479183, 458.79063592,\n",
       "       504.20648001, 549.6223241 , 595.0381682 , 640.45401229,\n",
       "       685.86985638, 731.28570047, 776.70154456, 822.11738866,\n",
       "       867.53323275])"
      ]
     },
     "execution_count": 6,
     "metadata": {},
     "output_type": "execute_result"
    }
   ],
   "source": [
    "fnp"
   ]
  },
  {
   "cell_type": "code",
   "execution_count": null,
   "metadata": {},
   "outputs": [],
   "source": []
  }
 ],
 "metadata": {
  "kernelspec": {
   "display_name": "Python 3",
   "language": "python",
   "name": "python3"
  },
  "language_info": {
   "codemirror_mode": {
    "name": "ipython",
    "version": 3
   },
   "file_extension": ".py",
   "mimetype": "text/x-python",
   "name": "python",
   "nbconvert_exporter": "python",
   "pygments_lexer": "ipython3",
   "version": "3.7.5rc1"
  }
 },
 "nbformat": 4,
 "nbformat_minor": 2
}
