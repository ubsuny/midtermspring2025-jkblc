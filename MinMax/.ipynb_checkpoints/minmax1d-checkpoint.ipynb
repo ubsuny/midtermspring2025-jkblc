{
 "cells": [
  {
   "cell_type": "markdown",
   "metadata": {},
   "source": [
    "# Finding optima in 1 dimension\n",
    "\n",
    "\n",
    "\n",
    "We will animate the steps of the minmax-finding algorithms following the nice instructions [here](https://stackoverflow.com/questions/9401658/how-to-animate-a-scatter-plot). "
   ]
  },
  {
   "cell_type": "code",
   "execution_count": 1,
   "metadata": {},
   "outputs": [],
   "source": [
    "import math\n",
    "import numpy as np\n",
    "import matplotlib.pyplot as plt\n",
    "import scipy.optimize"
   ]
  },
  {
   "cell_type": "markdown",
   "metadata": {},
   "source": [
    "## Define the function\n",
    "\n",
    "Also draw the function within a range \"close\" to our root. "
   ]
  },
  {
   "cell_type": "code",
   "execution_count": 2,
   "metadata": {},
   "outputs": [],
   "source": [
    "x1 = -3.0\n",
    "x2 = 3.0\n",
    "y1 = -0.5\n",
    "y2 = 20.0"
   ]
  },
  {
   "cell_type": "code",
   "execution_count": 3,
   "metadata": {},
   "outputs": [],
   "source": [
    "def f(x) : \n",
    "    return -0.5*x**2.0 + 0.25*x**4.0"
   ]
  },
  {
   "cell_type": "code",
   "execution_count": 4,
   "metadata": {
    "scrolled": false
   },
   "outputs": [
    {
     "data": {
      "text/plain": [
       "Text(0, 0.5, '$-\\\\frac{1}{2}x^2 + \\\\frac{1}{4}x^4$')"
      ]
     },
     "execution_count": 4,
     "metadata": {},
     "output_type": "execute_result"
    },
    {
     "data": {
      "image/png": "[encoded data removed]",
      "text/plain": [
       "<Figure size 720x432 with 1 Axes>"
      ]
     },
     "metadata": {
      "needs_background": "light"
     },
     "output_type": "display_data"
    }
   ],
   "source": [
    "xvals = np.linspace(x1,x2,1000)\n",
    "yvals = f(xvals)\n",
    "\n",
    "fig, ax = plt.subplots(figsize=(10, 6))\n",
    "ax.plot(xvals,yvals)\n",
    "ax.set_xlabel(\"x\")\n",
    "ax.set_xlim(x1,x2)\n",
    "ax.set_ylim(y1,y2)\n",
    "ax.set_ylabel(r\"$-\\frac{1}{2}x^2 + \\frac{1}{4}x^4$\")"
   ]
  },
  {
   "cell_type": "code",
   "execution_count": null,
   "metadata": {},
   "outputs": [],
   "source": []
  },
  {
   "cell_type": "code",
   "execution_count": null,
   "metadata": {},
   "outputs": [],
   "source": []
  },
  {
   "cell_type": "markdown",
   "metadata": {},
   "source": [
    "## Make a class to animate the steps of the algorithm"
   ]
  },
  {
   "cell_type": "code",
   "execution_count": 5,
   "metadata": {},
   "outputs": [],
   "source": [
    "from matplotlib import animation, rc\n",
    "from IPython.display import HTML\n",
    "rc('animation', html='html5')"
   ]
  },
  {
   "cell_type": "code",
   "execution_count": 6,
   "metadata": {},
   "outputs": [],
   "source": [
    "class AnimatedScatter(object):\n",
    "    \"\"\"An animated scatter plot using matplotlib.animations.FuncAnimation.\"\"\"\n",
    "    def __init__(self, iterations, fig, ax, color=1):\n",
    "        self.iterations=iterations\n",
    "        self.numpoints = iterations.shape[0]\n",
    "        self.fig=fig\n",
    "        self.ax=ax\n",
    "        self.color=color\n",
    "        self.i = 0        \n",
    "        self.stream = self.data_stream()\n",
    "        self.ani = animation.FuncAnimation(self.fig, self.update, interval=500,\n",
    "                                           frames=self.iterations.T.shape[1],\n",
    "                                           init_func=self.setup_plot, blit=False)\n",
    "\n",
    "    def setup_plot(self):\n",
    "        \"\"\"Initial drawing of the scatter plot.\"\"\"\n",
    "        x,y = next(self.stream)\n",
    "        self.scat = self.ax.scatter(x, y, c=np.full_like(x,self.color), vmin=0, vmax=10,\n",
    "                                    cmap=\"jet\", edgecolor=\"k\")\n",
    "        #self.ax.axis([self.x1,self.x2,self.y1,self.y2])\n",
    "        \n",
    "        return self.scat,\n",
    "\n",
    "    def data_stream(self):\n",
    "        while True:\n",
    "            yield np.array( [self.iterations[self.i:self.i+1,0],self.iterations[self.i:self.i+1,1]] )\n",
    "\n",
    "    def update(self, i):\n",
    "        \"\"\"Update the scatter plot.\"\"\"\n",
    "        self.i = i\n",
    "        data = next(self.stream)        \n",
    "\n",
    "        # Set x and y data...\n",
    "        self.scat.set_offsets(data[0:2].T)\n",
    "\n",
    "        # We need to return the updated artist for FuncAnimation to draw..\n",
    "        # Note that it expects a sequence of artists, thus the trailing comma.\n",
    "        return self.scat,"
   ]
  },
  {
   "cell_type": "markdown",
   "metadata": {},
   "source": [
    "## Find the optima\n",
    "\n",
    "Also define a \"callback\" function to add the steps of the algorithm to a path. "
   ]
  },
  {
   "cell_type": "code",
   "execution_count": 7,
   "metadata": {},
   "outputs": [],
   "source": [
    "\n",
    "def make_minimize_cb(path=[]):    \n",
    "    def minimize_cb(xk):\n",
    "        # note that we make a deep copy of xk\n",
    "        path.append(np.copy(xk))\n",
    "    return minimize_cb"
   ]
  },
  {
   "cell_type": "markdown",
   "metadata": {},
   "source": [
    "### First try the golden section search\n",
    "\n",
    "Note: `scipy` has a bug in the printing here, so we won't animate it. "
   ]
  },
  {
   "cell_type": "code",
   "execution_count": 8,
   "metadata": {},
   "outputs": [
    {
     "name": "stdout",
     "output_type": "stream",
     "text": [
      "     fun: -0.2499999999999892\n",
      "    nfev: 35\n",
      "     nit: 30\n",
      " success: True\n",
      "       x: 0.9999998961287475\n"
     ]
    }
   ],
   "source": [
    "a1 = 0.01\n",
    "tol1 = 1e-6\n",
    "pathx1 = [np.array([a1])]\n",
    "res1 = scipy.optimize.minimize_scalar( fun=f, bracket=(0,0.5,2), method=\"golden\",tol=tol1 ) \n",
    "print(res1)"
   ]
  },
  {
   "cell_type": "markdown",
   "metadata": {},
   "source": [
    "### Next try the BFGS search\n",
    "\n",
    "We will use the default"
   ]
  },
  {
   "cell_type": "code",
   "execution_count": 9,
   "metadata": {},
   "outputs": [
    {
     "name": "stdout",
     "output_type": "stream",
     "text": [
      "[array([3]), array([1.99]), array([1.6614687]), array([1.3374395]), array([1.15465724]), array([1.0497083]), array([1.0093059]), array([1.00064907]), array([1.00000895]), array([1.])]\n",
      "[1.] -0.25\n",
      "[[ 3.         15.75      ]\n",
      " [ 1.99        1.940548  ]\n",
      " [ 1.6614687   0.52482091]\n",
      " [ 1.3374395  -0.09447056]\n",
      " [ 1.15465724 -0.22223889]\n",
      " [ 1.0497083  -0.24740473]\n",
      " [ 1.0093059  -0.24991259]\n",
      " [ 1.00064907 -0.24999958]\n",
      " [ 1.00000895 -0.25      ]\n",
      " [ 1.         -0.25      ]]\n"
     ]
    }
   ],
   "source": [
    "a2 = 3\n",
    "tol2 = 1e-6\n",
    "pathx2 = [np.array([a2])]\n",
    "res2 = scipy.optimize.minimize( fun=f, x0=a2, tol=tol2, method=\"BFGS\", callback=make_minimize_cb(pathx2) )\n",
    "print(pathx2)\n",
    "xmin2 = res2.x\n",
    "fxmin2 = res2.fun\n",
    "pathx2 = np.array(pathx2)\n",
    "pathy2 = f(pathx2)\n",
    "print(xmin2, fxmin2)\n",
    "path2 = np.concatenate( [pathx2, pathy2], axis=1)\n",
    "print(path2)"
   ]
  },
  {
   "cell_type": "code",
   "execution_count": 10,
   "metadata": {
    "scrolled": false
   },
   "outputs": [
    {
     "data": {
      "text/html": [
       "<video width=\"720\" height=\"432\" controls autoplay loop>\n",
       "  <source type=\"video/mp4\" src=\"data:video/mp4;base64,AAAAHGZ0eXBNNFYgAAACAGlzb21pc28yYXZjMQAAAAhmcmVlAAAk721kYXQAAAKtBgX//6ncRem9\n",
       "5tlIt5Ys2CDZI+7veDI2NCAtIGNvcmUgMTU1IHIyOTE3IDBhODRkOTggLSBILjI2NC9NUEVHLTQg\n",
       "QVZDIGNvZGVjIC0gQ29weWxlZnQgMjAwMy0yMDE4IC0gaHR0cDovL3d3dy52aWRlb2xhbi5vcmcv\n",
       "eDI2NC5odG1sIC0gb3B0aW9uczogY2FiYWM9MSByZWY9MyBkZWJsb2NrPTE6MDowIGFuYWx5c2U9\n",
       "MHgzOjB4MTEzIG1lPWhleCBzdWJtZT03IHBzeT0xIHBzeV9yZD0xLjAwOjAuMDAgbWl4ZWRfcmVm\n",
       "PTEgbWVfcmFuZ2U9MTYgY2hyb21hX21lPTEgdHJlbGxpcz0xIDh4OGRjdD0xIGNxbT0wIGRlYWR6\n",
       "b25lPTIxLDExIGZhc3RfcHNraXA9MSBjaHJvbWFfcXBfb2Zmc2V0PS0yIHRocmVhZHM9NiBsb29r\n",
       "YWhlYWRfdGhyZWFkcz0xIHNsaWNlZF90aHJlYWRzPTAgbnI9MCBkZWNpbWF0ZT0xIGludGVybGFj\n",
       "ZWQ9MCBibHVyYXlfY29tcGF0PTAgY29uc3RyYWluZWRfaW50cmE9MCBiZnJhbWVzPTMgYl9weXJh\n",
       "bWlkPTIgYl9hZGFwdD0xIGJfYmlhcz0wIGRpcmVjdD0xIHdlaWdodGI9MSBvcGVuX2dvcD0wIHdl\n",
       "aWdodHA9MiBrZXlpbnQ9MjUwIGtleWludF9taW49MiBzY2VuZWN1dD00MCBpbnRyYV9yZWZyZXNo\n",
       "PTAgcmNfbG9va2FoZWFkPTQwIHJjPWNyZiBtYnRyZWU9MSBjcmY9MjMuMCBxY29tcD0wLjYwIHFw\n",
       "bWluPTAgcXBtYXg9NjkgcXBzdGVwPTQgaXBfcmF0aW89MS40MCBhcT0xOjEuMDAAgAAAHntliIQA\n",
       "Fv/+99M/zLLr9zm146j3op4mX0N1JQGblsTtOoAAAAMAAAMAAAMA6USCYrovq4uMtAAAAwBTgAtj\n",
       "R+4Ilr/5gEvaHJcaPevMp2jPpCaV9X8P7qbiy2vKc0MgZ4D7qLiNnoiVW0+kOHeLJuAJ12dBBGDF\n",
       "6LenMY7Ol/dSAspFONQfMA3NZjrLt6+IB0nLJyHjjpPkn/SnfwsvXD+pYfZgeG4xPxJhm0gViwkZ\n",
       "SAHwcBx7J6o1I9XFhKP5TzzBjZ2AmzjI6SeaBqWShLXz++rNT1SQuYvkSjHPm1de5Jluu2+22m9J\n",
       "7ZJF8xQ/i8yzziefZmGLSgSkESpqvU3SMdnK8EI4APvmGjEuPAAAAwAAuPNx/YOON22yn56FdX/9\n",
       "k7/cpS8k0G8iLU8fQ6QACMD1fU0xkI8w1Ngatq6xr6vfl3Kpjs9XP0wejYQNN19qXnfK9Pr5iX8O\n",
       "P1G/+rcpIznuIteA3bOd/JtZ/wlz6xL9nKzn8lisPH4SW+yrolt3ZHcXecrS5LHE9d/XGGF+42Id\n",
       "xx5rvIU+XNL1l8VqnMDP0/lgjGUnWUPnpET47iTijy9ooFhpmv1RE8ZBKwTBMtQ2k4g0xUsa3Fr8\n",
       "9IhGvx6X32yN+m8sMA1IEuX9jZzoAAAuMicDXAKe9pLz7006AB6XsQ49GaQ29JYgsSMTGaGdLi8V\n",
       "4q7F6JvE39yhkISVTOF5toWBymYVuNU0Yd9fD0Zyy3OhmPp/Y/0WwMA+izbdYP9JVHKXlE06RpBx\n",
       "e67ZGoQmLNt1xXrmZsJlW77xhmQ97pfKi4sih88L52kAIgnLauhXFYHC1eO2slyTCseWx7HUuvjV\n",
       "zEj/vB/IJK4pNO7ucBtJ1sKvAqCJzHvDyAxJa38iJsY3aCaxw+7rkBEARhFNESrhPPjV+GuMBQV/\n",
       "SI3ovX8lDUdB6vzWE9t62cZe89gqN8ETH8YTQAuP06gyNSdNW1UmIn96VoNt+Ebz/Uxrxw5LEGg9\n",
       "BKT8YJdoHLwtzYtav/W/o2U//irQx2JMq/a2ECU/x9DI1USg18gZ3DR6lUiji70F8pu53U2Uwkwb\n",
       "H3XOeogwNhbcmrttl/9q+MMYJwQd3mj3fiNcYXMPSTU1GKnAULqyaloIt9ITXHfkGuFsWU8rlX+M\n",
       "6X4RYb4TQbJ/zP01liR74xZE0xdzfFTfItwa12iAXCz3vATsuZocP5NpsQKF1zfH55LPh9Rai5Ic\n",
       "c8/1aO643RFOrRHq7Z000kaJpHTNpTkkWxPamLOu2g2XytmtyjC8AEYB7tO+nvzngHMmmg0ThvOA\n",
       "ewZmFCncc1afU1v6PWWaAOjbp3WOZEogleAI405Wgq8ONkxb+8hm3y5BMknJVLaDsDMSLfsxx95L\n",
       "YBJi8pBOvu/zoqYeqMdpKxydfR93aysfGCr/VXlBSpYT4dZfMrH9pFqk3MH9+FsXzWJtYVP+Fl9X\n",
       "CB8aB7dDtO/Lu/ljRY6fdwR9tBhFzf9u9W63TmbyduTT1QqCFKhVRD9UXIdIskkGSaqAPXru34fM\n",
       "+DD3HggF71UgpHUsMyi+pXSE0Ym1BhBxX3mjVhIQpZvY3wtt/HC3ERcT0r5mkO4b6jCHvo5SSzeF\n",
       "WdUI2B8hfZF9mBeJhtwyqX6mDKICqjqluRBvxRyrKeaJQcE3vV37t7ce1xxMWFkOq0ItUjdUi96T\n",
       "lSYg7k2FycQ0JD1L10XKn4jJ/to2036nGwdCrDDst2U+bTTPq53kgasMhbg7Wphgye8YTSMpR/fR\n",
       "tWaxDLG16IFZi/DHWfHTcHct2fpFcnoFS0MQDMuFbZgA9e+GxLN97JGvYZwAn4wgiaziEI+0eIvK\n",
       "qGKcBO//ebVXCJDugx7Xm0fWMxhH2rpTZbS2zXjDuEE3AKx0yz9y/EUWBnIZVMlx5WXqZBU+Vhh2\n",
       "KItEU1IvpLAZJ/3tNgtQ9B+xY+V7bQK/7oL8iSl+ofJBauZZbOZA9nmz4f4ztmFxrOXHws+YuczS\n",
       "xW0WPQj7FQnAbS9740fUr3RMkre25dEAoplVdPkBFMoM+ES9025oZghqtlNNRRhrI7BumzBE9uvf\n",
       "sX4eqwWWndun8mroUch0HGTTjlhxLY/rg81nWmknmuSQEcv3IABfqnsDQbL6aSEyQgpILV0DX1dh\n",
       "xxoe9YBgmLkpv+UtKf7HktlM/e892WHCkklnMcGlbTxSguHh0My/GhnVYJ25zSNUSVAcYxRFKxaW\n",
       "GkaWgQxhp6ZZeuHvIjPTg5xXW7uy4bvRh6yOR5rjxPlUd0PbNhnUdQXb+zv1c04/6rq/dkX2aFj/\n",
       "6p1LbPLzJ9YUDAhOSBLjes+c2NuywVT7A3cGsSOFz+yAdN0+GzIucJazM5CfjPB5BIn+fMDiHW5K\n",
       "D1j3g9YHrjWGTwg8zxXQFyK+F9vbHPTUkkGUzB2C7HHJluFEG7m/grG6MkZT4tT0cnsF3d//N/Cp\n",
       "AkkhWEMl3+JrS76yejFUJfm/kQvzb6ucgpw/uuaDfcWmynf7PrhxnTsfjeb7XWA8TqQnkD3Sh+9o\n",
       "pgyBGq/9Aux2u1yq/GavIUpQHi7KxFlGCH/PF7RPL9Ni0ahJjvwQAJf5p0E1+HGSymU3WwneS4IN\n",
       "JusI8HisHplgb52Cu3cUvXqd/0M9m1UcK6k6PmoefjgVRZyZ2rvM5uCGbfLixS7C+mHHeorfz4P1\n",
       "sBvS+IYj0sziZtDWK28C+8VL8Y3AvBoVqZpNAHlfcmw7RIIcmjseJ6Hg1PKlSBVZ8kmU/64mBH4D\n",
       "bNVFL7JcpwABSPE5GbIligEvWuvSwxmnEvcflPJ9JNaJYfeCBkTlzTJH5bfT/4O+ir+6A5hzku4o\n",
       "yaSWySMOagaI12UEqpnfRB2tSuJyYTZ4+NEzlADro4kSfV+lREf45uwuNtbQj7yLOYJSUSiD78HO\n",
       "mXDznsoi/aGWaNTctX0JBpi8znBH5C2BQSbHSymn7aGrU/AD5ulpT8Nm+7AyT1LhYLDKn4kOzcOK\n",
       "8D0G0a5HRqARFvfJVbXM9CAUQ4oVhrXf2ZIu5r9u8TLDcMwC4hy3+VAXJHPk8dhYCrBg3aGl0lM5\n",
       "iT9e7d95U6CwxdbSRCPq/TGuXetoCwgO6E9eqkyt3wV1LJprgXxe/KsxfGJFQFKuEP6W97xs9tFc\n",
       "ouUUfXxLkPZtJDrhIvV+r3tmuw5j4X4QBQFRQReQQwPr7v5Q2i3WGWw25Ogo8my+QzGhT5SOTdxr\n",
       "/taButhD5OzmbaO436YVJUucwRLhDWRRUTQpF1uoBOkUBvHtrHAQ2lPObD0D2OdacRNsQ6gyME1d\n",
       "YeFpwps6yDeagPYTV+/aF2zFymyfK3csb6rR5bNBq3uiLQzFk5Fslhn7NmHsV3sfUJl1wHpBMOZ6\n",
       "kf6vQMvHvQatL4XkeY1hp5ViX0gNEhtGJnRkWgVmQXZZ2JnImUgtwjBoI4gNNJdN5vDTM3IwgC2C\n",
       "LK39nreWjaeMs5ieB1UVLQytJh2408V7d1N3q4pmjBNoZGM1n61cVefZpfdWQ3pIV+8XPpeS5Uei\n",
       "19obkHY37ggdCVvNpgAtT5KFfdbImcNbZP9T8XLaOIS9WZikFgLoj1p+q3MAZ0NxiI0qEw53Tq1e\n",
       "PK/ueXk16tzmx4HJ7FSKmHbezgXKIF377edzolqo0suwhe8FmCmgh6z1Zc76cGjNaEB8G81jemEz\n",
       "+9Ji14ADEqylN7xNX/Nz04eAN7dY8rRlJurnSdA2zUIXVPuInUjezqPzM5dGHmubguBWTrplFBka\n",
       "a8EQEQhUgwvpmealTF7qRGvqhe4Sp18P4iVrl2XMw2qROaBSfhGDQ7lnL4UsdeGiQUfF2Yexn0iJ\n",
       "0l5gy0ywQ6IkDqj3EKlFEnfe62oq1IWSSuk/2sLTlMyjOhnEz7z+oinvFIiNPK8IVDUkWrpUak4x\n",
       "za/S36oxcbRVM4iLmbcDVLVTeR4xxwVos/1rQ1NvTFz07ElbvWMvI3oLKTNaK4fjntSHzLZMgfwM\n",
       "JQkhB0JfZlAnwErpWk5gCcunYa6tqa359aiyjZI+QTkmL7paaXssc7MqeLypz+AH+yidGUzyVYu4\n",
       "f5V1QZrJhaDIsm2aDZiyVl/4xqLH5OwYNapmvhfxDu74BgbTCleY2F7xDWZ1NlnqvS5B1nJrvcuu\n",
       "7Dnu0Ma/yxNqB3ohWjwuvc2o7QEZoEzOqOuWQK6aEP2EuS5+VLMhdXRXK3+IMKSWIZhNlhff8BGX\n",
       "29+vv9oKZQczd/i3j2BG4nCgNeO2CSVnb/PyFW9wRSAT1+wwD2y1oTvo3angr4g6Rufq6WXpklFk\n",
       "JrEoLL9bldN2b6Rpm4QHi2NkyHhz2jjotzqwP5Z4pM6ba2gTsJupxQr6QYZvl+aM1zRUtTp0fp1r\n",
       "w0htQLlQNeyBO96WJrjO4XyrkrTYWlc/llQ8MbINb5jWyLYFcVSleT33+M9NndFznB50mL/4YnNS\n",
       "1d6tefhnkKDppKkV8Pvotic6Hn7DFjBS39iWsb8259mT/2BWyKD0kM1b329YhBmW1K2CzRMe4FKh\n",
       "vAYiwK0we8JqO7vkXwUeDuc2Vf51cwA1lBqsQdfhyZQz+dGHJHXM3FN/eetdv/ZRCYcA1FD9kwiu\n",
       "CIk3bQllJnigaJpDXH1mlP9XNMuurNoe5geN2S2Nf2G2cMjWosHq8Lmnvtgw/hJvMYagurG7578l\n",
       "Yq+c9z0eFuOqlJ2v3ka6I1O7hI4/9zYbruuCJ93g4EEwchuRMRM9zCGML/Ayj5qd15bDp8L5C4Y2\n",
       "uCJNPuRR5Fa+wqyDPmVx7zhAKkZD1xV1IjkC/dbKZpp+fMn5U3yNyheXsI/p32QK8DAa8uWtBHBM\n",
       "Hxa2Vb/cURo/Ar0f0Wlbtf/lAZ6NY3XlQdLjY0H9DDu8Q8yHexNuZyqiW5tX5Mz9kHbQsrLbgvyB\n",
       "VEHM6MY5/otzfkfu4dAhqhWHpYjDlchefc2dbIspH9vTS0QDz5VEsXkL3uhbUoGHXAM8VOxkIfLO\n",
       "op0v9EFFe0qNiVvRL7PNs6SDQx/vhlHlWE/ukqBDtSPhaRW9QJLFos4qlvGCP8yNFg4bjJJ0mmw5\n",
       "380IYHKfIosJWsjIw6VMu0HJfN+UWGFSxQLFiv58N3sXP55i5VOURYleC21w9ruyjIqTcmBZ0qpC\n",
       "9I3iX9j61AgW3Tob2dQUOt3PCaiGv0IvmhNJpygbz6SkT94vE74vk92IbSLzQH0qBs7t0gMO8g1z\n",
       "qs/LuMOnoUAm6P/54Fep8upqYZqQ6DoIkfAMZwsk8gSuGLIlWb6QilDcRudfugKz1DSOI5gD3aBi\n",
       "bkTler79i0XtkSHFpfvt5Y/wAfEoE0tIBN5ZrTqai1IRBYFeoWks3/QKZLqP1kbLLomzV6pc4cuP\n",
       "/vfn4+8GYFf7cTFlUUAdZGvfEPQc0TJxW295AAHO/QDvychMulIK/AoBsaePFsBETqpfja45NaXd\n",
       "fLz9kOsOIajGLIlJaULi+dTxz0W93rZPURz50DM0ym8cvh0ZXFP7KHK2OvuyBJOZXPwZYH0nl7Hg\n",
       "lSW1HtLUl1b2KI6I7rnYDQR6Fi5pPCzqIPkgw62h39UaDF9dPsDvTj4Kf8394KQ1f1uDLwczf+En\n",
       "YZCAUuTGyrQZEjJZfGsAO1IDGQxPMKml1lqUGOhbE/fVh+/ei/orPed9jWFpBQr+hC8BigoPNRd/\n",
       "ijem4q6QEMOXmpxvux9RrrTdX9/agln166HTnNh14WBW+X7AdhKjrDTNZNbPKO4W7H4Q+jcuQn/v\n",
       "2m2Y+TMooRkqz6eQ5Wl3HQr9QeqpS4K1TG20Ms/Ahba0SwDe8uj1m2TCeuT7kNQB4QTffOwVCYkZ\n",
       "5fWNEzlVvS8r33kpj7ZDkVv0M72sxeYYuunT0EHWBk1pVhmQQQYfFILJRxNOIJcPyDTPTgQAUrhJ\n",
       "CTgesugPNVamLhtlZgGBaKRYwQzAcrU9q7nDOL8CVHzgC01gMollCOJJ/GA2kCrWc9kSeiQ3gm1w\n",
       "MEYgejqnxiVToA/+S6WsYC8Rjed0f/WGIj9xO59LSMZXNDA6S0rq/fMh5JRnQ5B2ZXXdPhlTiqBC\n",
       "+ERLS1vZHVfGasat+9/Zs46zLP5apS7ijh4xi7rHc2raJJH6K0hyUM8AWZyLgytuzYLRRIn9NGYL\n",
       "fRPsJThH/NDn/xmV7GnytJ2+8E5Key/GIrNMaL0c5arwBivyvTHW8vUNO5YJAASkWcdYfZE9RHev\n",
       "233FKLt9Lb7pRbkZJvqKdgIMGnsqYsDTXK6muVcVDnXMhhWIzA7tbdWGhCZGyrt/cy+cAvRNoc9g\n",
       "NXuDoUOOVBQ1KRSi45cMsqLQLUwMtvmVpTCGWICwsuCL4H41nkjwOEzQ/VxC5hoordi1x9ZnPxXL\n",
       "185FQgRLHr6J5U+5b91BNN98xvzdHC3IG2LePKE1eLXqmazsSmZD7iYJqr47kONaDW9UEnVbPi84\n",
       "mTNmSAp2GzBERG/XootHu6/UcNFDKVWgJYLTCy/Z8g24YpDOQRwN1RMvWj83NdxVFODktUf70f8s\n",
       "v48BZyg6XkOx7Jv2VUagAVAE+a2/Py1pQrxICH7f3JSH3fTbzBLfgtfiQs+KeTL0ubq8RwV+DgrI\n",
       "XyAFX03RYJeZAJgaqmO9Sb5xt+BYX/YzaIYELO7VTbHwA7KwKHLqMTM00q5EkMRxa09s6b+jWn03\n",
       "mewJpAv7RTv+UFAk/OigMjKYmvh7Wn35cOWIIevZvXysCIXE9YwNsBwYFqhTXMHFkLGgouZbaZWR\n",
       "md9+yJXo+YVMH6f89DEtdeG8DOCKDPhcXx92H0bjuCChvl7qAjqQp82igD78KAaJGl8ybkO0B19O\n",
       "XIv2AunDzpduf7xEgFgacIV2q19vCNyXtZlhIFjwP41kpbAqjMKlbP9dNl80GUrgh7bcc1NyZIHS\n",
       "xffQXz8INPLahxq/g5pIztjKGcSlqSAdS4fmcZaf/EFA0eG7DTU3RFQ5OmSeQAZUVMpvSPJ3LzJB\n",
       "OUhsi3wDf/U96Tlaejy4HDY8SzIhLfEiq/+0Ar2aRAv3rtXcnHuspccknVclfgtdFRpn9lpFNQ7h\n",
       "i4WCPrsqaOWMKQ/p180N4w41cOkly6shFjocwMFTVVisjUO+7jWIAowMpMofrtx9OXbijISucXG9\n",
       "0XoUREEvjrKbz1m1Tdvwe1SRKFNPo/nisvQSn+gr46tO3NhjoZRJBtDyluwZQ3V3xmR1aW5QfwwT\n",
       "uUQ4ZIZWmQAe451pz2mAc38D5jW5rP7hVGqBzMRk1reMM9mgDb60qkBA1Dvkyww+eFJRG5DuWsbj\n",
       "4h73WRmw7I64xcXOv/bmIF13MJTTTzTOUJF9gkeAhB2sjdWum5VzaXWGc6tpfPAj+EqHQlgA7AAi\n",
       "QYp7PRmE39KqIfbH47mYk4ogov/thmGdG/ACILt/gfpI+Fhr1iK0JxGtidg0fTKNyvSB2bJ1aIYt\n",
       "0pWCrJ2PeOPXZ1G0FvZ9pI9HP5OwSVkSWa2kE2DhXXic/ddh7l34ENrlMUy6waViBAC/Xktt+N19\n",
       "n2ZSV+E3rcUCcGRGeIRWcLPf7e28005ERoKcejdZv+TbsD6hYAC+0MLZFdJKnQm28Ezl/THVWstm\n",
       "nsQv+m79/XyvCVoUrYZudcLmKKB8gDVGv9XV32meBQuqHVZUGXPj4TPbA9of+4ePKu35WOOYWt7b\n",
       "+jSMOrIPxCBy3IsAsUAqRCVQnWUGNiCchlX3ZDNJcoIJ3C3+sBqkhfynlQv/p7gPfGo6oYLXqjsi\n",
       "7+7q00br1i2eSpLOxL/v9v0f4cLaKSChLOacmS4OgoT2190IVa4y5ojVhdgKasoPTv9eUsbOtUub\n",
       "Pa23J3qsGZgOH+aOnkVi5wdZjlR5vO9XwpSJi4atFfvOPN3YoFL954yVu3LwtJUwhV5RuMBaM+Dg\n",
       "dS9udQMr93nR3G8HsQrJLAGpuu7CPjYwtNBe/DFMDJLbmQ4ur10zB0mcowzZ+i0sN7QV/U1dBqjg\n",
       "2N5x/G7a456qOeDx7+iMWqxvKBSTu5AwyjmqxjngHpia/EZYeUb5oB8/Epszxgejc1Z00GRIiz0J\n",
       "OnAvpmzwpbzvJSW8psedQl7mETKdrOWxKegrNMr6WfMH2p1OyOjkHVJHW4CooHqOhaceUz9VvCed\n",
       "5Iv5oXydO+66Q7Vqp4w13PS34kNZdxBGILrlvOtsz9zOVgVqhrZEM2oSPmUWcL/CTk0+EK1GcMzb\n",
       "d++gLA21h6OfkDtJfTuaDOlOcDeTm3mZXe0l64x1UbZSTsaBbsudVQpPpcfSO1zGCCT++XzuM/EI\n",
       "z39qhYA3XsMIy0Zsj6xjiJ60yMjNkBcR+RgRQm40C+xd87g9azbOXmVB8KYDmFH1Rgbo8NNAMNaZ\n",
       "wpiPvoFJSIBxbOgESVYih8KFtXSTruaPwcmvwmOwedY8HgOIJJJfq3geYL+qJjIin25zPe8GjsqZ\n",
       "6q3SC+2vWvsy2Xl6+24qokDqagLckvP0FQuJjGDiMc24pRuIs3ZI5ufhkgfGKeE8cXJi4w27tkC9\n",
       "oohGGH5gXHGv9nNrPnDZwpb6Hra2RLa0uC2JmYGCck9Db2vY4AHzcyW8RBXDBjm80A76smNum5vz\n",
       "q7gasbASjLiOKOeWvYkmnvpwkpXdGLMreqTPr00ZoiyEUgmMr74g6FVe9xgVz4/zSolSglfWUH0J\n",
       "4SnCj1NidLUlxX+3TP1Ht3N4VXkWFqHQAau+7yGTOdK9hd7DKFgSbygZVkhuItOvkv6scf7X2I2d\n",
       "l1zTFge2Ia2xKzWgebgsYBjXko955VqceGefs7O8u09j0Mta+/OU/sjqnLwtbQtidSRGSjBqj4Sk\n",
       "WUmLBOy3fDOlZGF1OCpsUXqilkA44m07lrBn5jleGh75/WHEQ3RcVLbRMV4ipc8HKsG+tLa7wmEE\n",
       "syS7cKbarHOl0JW2lo6+ifNFsCh4Z45fGTWTLKDesEzct3JodHr3sjZqi2pOc5C1HolaimDV/jDj\n",
       "asbgxDY47z3J3pn1klTWciCtw/R3qEEBtQCBQUKe1Jhv0h9rZyKgzXlDS6GORGFudIC7EMsqbXNR\n",
       "VzWKrMxjMHCaWoE6o5Ayo3B3fuynKKOzJFLO93gEpSNk3dUcUVtx9EHcwAvWc3nX8lPeb7GXFC7j\n",
       "hJEx0UB9uAkl8FUoASq1EsxxpnNUvxCA1kNu2G0zGCykeq0YsNOLKnZNYxnwGFvnnsRNI/FC/1oW\n",
       "dK8VIO0pRHxXgM+KtRvOlTD/iWxTNRqcAscHRVNSUpuglMV4YgxuhprKTnzrggdo+hKUOhkZyKvn\n",
       "0rD735Po2jxrLuZy4xIuwCUxn6Dd6NiXbyNuqZfglBS4EDou5O89SLmaRh+fHAdwz3icQD/G2AjL\n",
       "BsltyCyaET70ZZlXsSJPZ9uyEiO7en4dgjwFw8Qm/wXbaR7cmokwKAyt/IlZ08ZhsnWOjmkQz9Qa\n",
       "ywtrcAekdoaXIrluPzO0gpROe9ZzTI0rB1c3ruavvnStk7wWeIGXRpwpOD/KKo98TxcyB2kuvRIh\n",
       "zbQgJd594edLCdOcr0jH36bYWEkCC44Q+Uqo+YUXqU5nYflY/YeM5GI16Z3oPbp4yOKlt6Hn9P8Y\n",
       "7SmZakL6ouYRQC944vnK5RRgYYfmBcNpMB6RuTgC3kp3sxp/fg1U7tODNAZcVfVcPyPLdyiwkHOz\n",
       "j2WxnPvO9wWYyFxOREMqS6VM9H4OyX1msN1MJX7FjXsdzfnPSfU56fvy4PgQjDuzbiRaO1d/oMU4\n",
       "litc5ogkK+SqxDusDe0E1CARfgdB9MdOqt1SHOdGOCRP4Y7hnHJsXAnylDXAImEdqVBj6dbjRAXh\n",
       "zn08YObM2rspcbD86nFQePc+6PMJq1GIripVAPg8rW7llvUq72+bnYl28HdONwgSC10TcnAclkWv\n",
       "Mawa7nZw0qtEK+rTTvahU9aGK9kMUFEAYsnR4sJ8X12e4y2B3Ek2Aj17Zd9njnfKo75yU0MX+dWz\n",
       "3DhJmZY8/HCBQmibcii9YU2BMq4gYYx2tBkJn9L94V0qQ9d14bFf3b4qAtp2CSgkQNp7WbIE0Ntx\n",
       "1swsGDdONBW933TJ+q7JKTj9Q04lX1gX6oGgdfmBa7FESSwuYP8bwSYJPkyfHXJkMtWqz6QLx7M4\n",
       "zMzhVLuvLhNtNQW1RxKWuMuVn8R3A4ldl2dxin5wdyxLgejqcdWI1L0czOuVIZwEdx2I4TFR8v4j\n",
       "m12pzC6BPYfKeInfzONgfYP459h49BHoEOX8VSkQsk9jhLiH1pD/NcDnvFn0RBjIgn7/IdGiBhqq\n",
       "w7/r72+lPBH3wmGHMhU6x0qN0cf30IERVOOgvkFd2pvda3X4cWQ3f90BsINbXieuvx2ei8xVkVWe\n",
       "+fqsJRT8BX6EIESIZbMHDYAKUVh8UuCGM/pjod0Mk6Gse1KAADe7XgWAvg3XeJwq2u7ajtPR7BTW\n",
       "Jaq/xJvhB+J6/7VDZ3/AQV4sf+cKNpMwNf1xdTFHnlGByEyAYeNK3fngkAAAtoEAAAD3QZokbEFf\n",
       "/talUAAAcdJek9pt3nZ2KAES8o1c+yAnO5htUevz2yg6AynQYae7fqQZxddgGKL99t29vPpwO17n\n",
       "bujXgiKHC5BcW/wlZ9L6L/s5teP8RQ7NpTE2f8uUSc/gvPaVgzFB0QAApL/SVMdc2peU5DIhU8ki\n",
       "8X6oIDMemcucJc+VOdMLp7RFfs5LA/XRaniOVHHjnw9AglbAv6m7zskh8xMp3vIM600POAExILVd\n",
       "Kcaj6bMoVDG0WcKAnY2WXjSjytnaZQIyZG87aHgtClr+MvicMfm8bnolqsAetNd2jhD/G+3PytT+\n",
       "1lMWMWx8L6dUdx2FtAAAAHxBnkJ4gp8AAAMAnqgjOfgpkmD+o6y5hjitQWCRqJfe4O9aACfgFveg\n",
       "whgDeUWg4YjWbRs7xHJYwF2qFjOATqUcApFUT2f6prkGgyNpUSJHcxY5xPm7mvPY+M7EzuR6loX0\n",
       "VZiX0jASS7jNn7fiykpy8Z8nnmzXIZc0ihZlAAAAcwGeYXRBLwAAAwG5WMN8x4Bpje7uNgcCeehS\n",
       "55AA2WHE+W8EaX8WTzDQ3zG2yM9AZU29hiWkCzpBGibsnp3TMGUWfD6QKqDHpkm3IjVL+MxNNemt\n",
       "0aSwcE40a4KdhhMar/KBv8gGb8l8o+u/IP3FKopwxYAAAABkAZ5jakEvAAADAAADAAENDBp364t5\n",
       "lpwAD+O3LtO8cxp58i8Pw9CLIPJ5fjaTZ8UA14Gn34C9H4ReFbW1zcFuTEYc1Zr7X+cv8QF3k4AA\n",
       "62x07khQDBxxHuATjtQfW9hwh8t9WwAAAJRBmmVJqEFomUwIK//+1qVQAAADAAADABgtv/UNAX70\n",
       "zwAfJgarydYe/LREC3ZcD8E/gZlOGOGL64OJ6ROm4XnTb0Fi2tpT5bEgnioUw/dh6lJm8D0+hH/R\n",
       "ajQgsrpwxkzQEWLW/++QOrtRQ6AnSZ705Z0Nbe4+WiPelX4h/9JjKJeFt6PsF3d8gxV5lxgQPz6M\n",
       "wlXpAAAAUEGaiUnhClJlMCCX//61KoAAAAMAAAMAwEcTKSW9fwAB/IMuWpKSvABOavj7B4rFJlCK\n",
       "vCHCe/dLcppRZ55RpEJs/1GZ+007m5SfK4SnOp3BAAAAIkGep0U0TBT/AAADACaWMpiIAAPJCo2v\n",
       "HgAlwjOWxWXP8GkAAAAyAZ7GdEEvAAADAAADAABeRC8pWaABpoWqWAVQW2lICyCVgMcLGkGrRXVB\n",
       "OO2wYiRaojQAAAARAZ7IakEvAAADAAADAAADAekAAAOmbW9vdgAAAGxtdmhkAAAAAAAAAAAAAAAA\n",
       "AAAD6AAAE4gAAQAAAQAAAAAAAAAAAAAAAAEAAAAAAAAAAAAAAAAAAAABAAAAAAAAAAAAAAAAAABA\n",
       "AAAAAAAAAAAAAAAAAAAAAAAAAAAAAAAAAAAAAAAAAgAAAtB0cmFrAAAAXHRraGQAAAADAAAAAAAA\n",
       "AAAAAAABAAAAAAAAE4gAAAAAAAAAAAAAAAAAAAAAAAEAAAAAAAAAAAAAAAAAAAABAAAAAAAAAAAA\n",
       "AAAAAABAAAAAAtAAAAGwAAAAAAAkZWR0cwAAABxlbHN0AAAAAAAAAAEAABOIAABAAAABAAAAAAJI\n",
       "bWRpYQAAACBtZGhkAAAAAAAAAAAAAAAAAABAAAABQABVxAAAAAAALWhkbHIAAAAAAAAAAHZpZGUA\n",
       "AAAAAAAAAAAAAABWaWRlb0hhbmRsZXIAAAAB821pbmYAAAAUdm1oZAAAAAEAAAAAAAAAAAAAACRk\n",
       "aW5mAAAAHGRyZWYAAAAAAAAAAQAAAAx1cmwgAAAAAQAAAbNzdGJsAAAAs3N0c2QAAAAAAAAAAQAA\n",
       "AKNhdmMxAAAAAAAAAAEAAAAAAAAAAAAAAAAAAAAAAtABsABIAAAASAAAAAAAAAABAAAAAAAAAAAA\n",
       "AAAAAAAAAAAAAAAAAAAAAAAAAAAAAAAAGP//AAAAMWF2Y0MBZAAW/+EAGGdkABas2UC0N6EAAAMA\n",
       "AQAAAwAEDxYtlgEABmjr48siwAAAABx1dWlka2hA8l8kT8W6OaUbzwMj8wAAAAAAAAAYc3R0cwAA\n",
       "AAAAAAABAAAACgAAIAAAAAAUc3RzcwAAAAAAAAABAAAAAQAAAGBjdHRzAAAAAAAAAAoAAAABAABA\n",
       "AAAAAAEAAKAAAAAAAQAAQAAAAAABAAAAAAAAAAEAACAAAAAAAQAAQAAAAAABAACgAAAAAAEAAEAA\n",
       "AAAAAQAAAAAAAAABAAAgAAAAABxzdHNjAAAAAAAAAAEAAAABAAAACgAAAAEAAAA8c3RzegAAAAAA\n",
       "AAAAAAAACgAAITAAAAD7AAAAgAAAAHcAAABoAAAAmAAAAFQAAAAmAAAANgAAABUAAAAUc3RjbwAA\n",
       "AAAAAAABAAAALAAAAGJ1ZHRhAAAAWm1ldGEAAAAAAAAAIWhkbHIAAAAAAAAAAG1kaXJhcHBsAAAA\n",
       "AAAAAAAAAAAALWlsc3QAAAAlqXRvbwAAAB1kYXRhAAAAAQAAAABMYXZmNTguMjAuMTAw\n",
       "\">\n",
       "  Your browser does not support the video tag.\n",
       "</video>"
      ],
      "text/plain": [
       "<IPython.core.display.HTML object>"
      ]
     },
     "execution_count": 10,
     "metadata": {},
     "output_type": "execute_result"
    }
   ],
   "source": [
    "anim2 = AnimatedScatter(iterations=path2, fig=fig, ax=ax)\n",
    "HTML(anim2.ani.to_html5_video())"
   ]
  },
  {
   "cell_type": "code",
   "execution_count": null,
   "metadata": {
    "scrolled": true
   },
   "outputs": [],
   "source": []
  },
  {
   "cell_type": "code",
   "execution_count": null,
   "metadata": {},
   "outputs": [],
   "source": []
  }
 ],
 "metadata": {
  "kernelspec": {
   "display_name": "Python 3",
   "language": "python",
   "name": "python3"
  },
  "language_info": {
   "codemirror_mode": {
    "name": "ipython",
    "version": 3
   },
   "file_extension": ".py",
   "mimetype": "text/x-python",
   "name": "python",
   "nbconvert_exporter": "python",
   "pygments_lexer": "ipython3",
   "version": "3.7.5rc1"
  }
 },
 "nbformat": 4,
 "nbformat_minor": 2
}
